{
  "metadata": {
    "kernelspec": {
      "name": "py-dku-containerized-venv-markitdown-scw-fa",
      "display_name": "Python in SCW-FA (env markitdown)",
      "language": "python"
    },
    "hide_input": false,
    "language_info": {
      "name": "python",
      "version": "3.11.10",
      "mimetype": "text/x-python",
      "codemirror_mode": {
        "name": "ipython",
        "version": 3
      },
      "pygments_lexer": "ipython3",
      "nbconvert_exporter": "python",
      "file_extension": ".py"
    },
    "modifiedBy": "ludovic.bocken@cgi.com",
    "createdOn": 1738688431757,
    "creator": "ludovic.bocken@cgi.com",
    "associatedRecipe": "compute_nouns_extracted_with_nltk",
    "tags": [
      "recipe-editor"
    ],
    "customFields": {}
  },
  "nbformat": 4,
  "nbformat_minor": 1,
  "cells": [
    {
      "cell_type": "markdown",
      "metadata": {},
      "source": [
        "# Import libraries"
      ]
    },
    {
      "execution_count": 0,
      "cell_type": "code",
      "metadata": {},
      "source": [
        "# -*- coding: utf-8 -*-\nimport dataiku\nimport pandas as pd, numpy as np\nfrom dataiku import pandasutils as pdu\nimport nltk\nfrom nltk import word_tokenize, pos_tag"
      ],
      "outputs": []
    },
    {
      "execution_count": 0,
      "cell_type": "code",
      "metadata": {},
      "source": [
        "nltk.download(\u0027punkt\u0027)\nnltk.download(\u0027punkt_tab\u0027)\n\nnltk.download(\u0027averaged_perceptron_tagger\u0027)\nnltk.download(\u0027averaged_perceptron_tagger_eng\u0027)"
      ],
      "outputs": []
    },
    {
      "cell_type": "markdown",
      "metadata": {},
      "source": [
        "# Read recipe inputs"
      ]
    },
    {
      "execution_count": 0,
      "cell_type": "code",
      "metadata": {},
      "source": [
        "corpus_for_knowledge_engineering \u003d dataiku.Dataset(\"corpus_for_knowledge_engineering\")\ncorpus_for_knowledge_engineering_df \u003d corpus_for_knowledge_engineering.get_dataframe()"
      ],
      "outputs": []
    },
    {
      "execution_count": 0,
      "cell_type": "code",
      "metadata": {},
      "source": [
        "corpus_for_knowledge_engineering_df[\"lower_text\"] \u003d corpus_for_knowledge_engineering_df[\"text\"].str.lower()"
      ],
      "outputs": []
    },
    {
      "execution_count": 0,
      "cell_type": "code",
      "metadata": {},
      "source": [
        "# Function to extract nouns from text\ndef extract_nouns(text):\n    words \u003d word_tokenize(text)\n    words_pos \u003d pos_tag(words)\n    df \u003d pd.DataFrame(words_pos, columns\u003d[\u0027word\u0027, \u0027tag\u0027])\n    tags \u003d [\"NN\", \"NNS\", \"NNP\"]\n    df \u003d df[df[\"tag\"].isin(tags)]\n    #nouns \u003d [word for word, pos in words_pos if pos.startswith(\u0027NN\u0027)]\n    # \u0027 \u0027.join(nouns)\n    return df"
      ],
      "outputs": []
    },
    {
      "execution_count": 0,
      "cell_type": "code",
      "metadata": {},
      "source": [
        "pos_df \u003d corpus_for_knowledge_engineering_df[\u0027text\u0027].apply(extract_nouns)"
      ],
      "outputs": []
    },
    {
      "execution_count": 0,
      "cell_type": "code",
      "metadata": {},
      "source": [
        "lower_pos_df \u003d corpus_for_knowledge_engineering_df[\u0027lower_text\u0027].apply(extract_nouns)"
      ],
      "outputs": []
    },
    {
      "execution_count": 0,
      "cell_type": "code",
      "metadata": {},
      "source": [
        "# Apply the function to the dataframe\ncorpus_for_knowledge_engineering_df[\u0027nouns\u0027] \u003d corpus_for_knowledge_engineering_df[\u0027text\u0027].apply(extract_nouns)"
      ],
      "outputs": []
    },
    {
      "execution_count": 0,
      "cell_type": "code",
      "metadata": {},
      "source": [
        "# Compute recipe outputs from inputs\nnouns_extracted_with_nltk_df \u003d corpus_for_knowledge_engineering_df[[\u0027nouns\u0027]]"
      ],
      "outputs": []
    },
    {
      "execution_count": 0,
      "cell_type": "code",
      "metadata": {},
      "source": [
        "nouns_extracted_with_nltk_df"
      ],
      "outputs": []
    },
    {
      "execution_count": 0,
      "cell_type": "code",
      "metadata": {},
      "source": [
        "# Write recipe outputs\nnouns_extracted_with_nltk \u003d dataiku.Dataset(\"nouns_extracted_with_nltk\")\nnouns_extracted_with_nltk.write_with_schema(nouns_extracted_with_nltk_df)"
      ],
      "outputs": []
    }
  ]
}