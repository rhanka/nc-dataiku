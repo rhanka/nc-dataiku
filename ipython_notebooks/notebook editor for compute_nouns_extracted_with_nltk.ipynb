{
  "nbformat": 4,
  "nbformat_minor": 0,
  "metadata": {
    "kernelspec": {
      "display_name": "Python in SCW-FA (env markitdown)",
      "language": "python",
      "name": "py-dku-containerized-venv-markitdown-scw-fa"
    },
    "associatedRecipe": "compute_nouns_extracted_with_nltk",
    "dkuGit": {
      "lastInteraction": 0
    },
    "creationTag": {
      "versionNumber": 0,
      "lastModifiedBy": {
        "login": "ludovic.bocken@cgi.com"
      },
      "lastModifiedOn": 1738688431757
    },
    "creator": "ludovic.bocken@cgi.com",
    "createdOn": 1738688431757,
    "tags": [
      "recipe-editor"
    ],
    "customFields": {}
  },
  "cells": [
    {
      "cell_type": "markdown",
      "metadata": {},
      "source": [
        "# Import libraries"
      ]
    },
    {
      "cell_type": "code",
      "metadata": {},
      "outputs": [],
      "execution_count": 0,
      "source": [
        "# -*- coding: utf-8 -*-\n",
        "import dataiku\n",
        "import pandas as pd, numpy as np\n",
        "from dataiku import pandasutils as pdu\n",
        "import nltk\n",
        "from nltk import word_tokenize, pos_tag\n",
        "\n",
        "from nltk.tokenize import word_tokenize"
      ]
    },
    {
      "cell_type": "code",
      "metadata": {},
      "outputs": [],
      "execution_count": 0,
      "source": [
        "nltk.download(\u0027punkt\u0027)\n",
        "nltk.download(\u0027punkt_tab\u0027)\n",
        "\n",
        "nltk.download(\u0027averaged_perceptron_tagger\u0027)\n",
        "nltk.download(\u0027averaged_perceptron_tagger_eng\u0027)"
      ]
    },
    {
      "cell_type": "markdown",
      "metadata": {},
      "source": [
        "# Read recipe inputs"
      ]
    },
    {
      "cell_type": "code",
      "metadata": {},
      "outputs": [],
      "execution_count": 0,
      "source": [
        "corpus_for_knowledge_engineering \u003d dataiku.Dataset(\"corpus_for_knowledge_engineering\")\n",
        "corpus_for_knowledge_engineering_df \u003d corpus_for_knowledge_engineering.get_dataframe()"
      ]
    },
    {
      "cell_type": "code",
      "metadata": {},
      "outputs": [],
      "execution_count": 0,
      "source": [
        "corpus_for_knowledge_engineering_df[\"lower_text\"] \u003d corpus_for_knowledge_engineering_df[\"text\"].str.lower()\n",
        "corpus_for_knowledge_engineering_df[\"upper_text\"] \u003d corpus_for_knowledge_engineering_df[\"text\"].str.upper()"
      ]
    },
    {
      "cell_type": "code",
      "metadata": {},
      "outputs": [],
      "execution_count": 0,
      "source": [
        "corpus_for_knowledge_engineering_df"
      ]
    },
    {
      "cell_type": "markdown",
      "metadata": {},
      "source": [
        "# Extract nouns"
      ]
    },
    {
      "cell_type": "code",
      "metadata": {},
      "outputs": [],
      "execution_count": 0,
      "source": [
        "# Define the function to extract nouns and return a DataFrame\n",
        "def extract_nouns(doc_id, text):\n",
        "    words \u003d word_tokenize(text)\n",
        "    words_pos \u003d pos_tag(words)\n",
        "    nouns \u003d [(doc_id, word, pos) for word, pos in words_pos if pos.startswith(\u0027NN\u0027)]\n",
        "    return pd.DataFrame(nouns, columns\u003d[\u0027doc_id\u0027, \u0027word\u0027, \u0027tag\u0027])"
      ]
    },
    {
      "cell_type": "code",
      "metadata": {},
      "outputs": [],
      "execution_count": 0,
      "source": [
        "# Apply the function to each row and concatenate the results\n",
        "pos_df \u003d pd.concat([extract_nouns(row[\u0027doc_id\u0027], row[\u0027text\u0027]) for _, row in corpus_for_knowledge_engineering_df.iterrows()], ignore_index\u003dTrue)"
      ]
    },
    {
      "cell_type": "code",
      "metadata": {},
      "outputs": [],
      "execution_count": 0,
      "source": [
        "pos_df[\"string\"] \u003d pos_df[\"word\"].str.lower()\n",
        "pos_df \u003d pos_df.drop_duplicates()"
      ]
    },
    {
      "cell_type": "code",
      "metadata": {},
      "outputs": [],
      "execution_count": 0,
      "source": [
        "pos_df"
      ]
    },
    {
      "cell_type": "markdown",
      "metadata": {},
      "source": [
        "## Lower case"
      ]
    },
    {
      "cell_type": "code",
      "metadata": {},
      "outputs": [],
      "execution_count": 0,
      "source": [
        "# Apply the function to each row and concatenate the results\n",
        "lower_pos_df \u003d pd.concat([extract_nouns(row[\u0027doc_id\u0027], row[\u0027lower_text\u0027]) for _, row in corpus_for_knowledge_engineering_df.iterrows()], ignore_index\u003dTrue)"
      ]
    },
    {
      "cell_type": "code",
      "metadata": {},
      "outputs": [],
      "execution_count": 0,
      "source": [
        "lower_pos_df[\"string\"] \u003d lower_pos_df[\"word\"].str.lower()\n",
        "lower_pos_df.rename(columns\u003d{\u0027tag\u0027:\u0027lower_tag\u0027}, inplace\u003dTrue)\n",
        "lower_pos_df.drop(columns\u003d[\u0027word\u0027], inplace\u003dTrue)\n",
        "lower_pos_df \u003d lower_pos_df.drop_duplicates()"
      ]
    },
    {
      "cell_type": "code",
      "metadata": {},
      "outputs": [],
      "execution_count": 0,
      "source": [
        "lower_pos_df"
      ]
    },
    {
      "cell_type": "code",
      "metadata": {},
      "outputs": [],
      "execution_count": 0,
      "source": [
        "merged_pos_df \u003d pd.merge(pos_df, lower_pos_df)"
      ]
    },
    {
      "cell_type": "code",
      "metadata": {},
      "outputs": [],
      "execution_count": 0,
      "source": [
        "merged_pos_df"
      ]
    },
    {
      "cell_type": "markdown",
      "metadata": {},
      "source": [
        "## Upper case"
      ]
    },
    {
      "cell_type": "code",
      "metadata": {},
      "outputs": [],
      "execution_count": 0,
      "source": [
        "# Apply the function to each row and concatenate the results\n",
        "upper_pos_df \u003d pd.concat([extract_nouns(row[\u0027doc_id\u0027], row[\u0027upper_text\u0027]) for _, row in corpus_for_knowledge_engineering_df.iterrows()], ignore_index\u003dTrue)"
      ]
    },
    {
      "cell_type": "code",
      "metadata": {},
      "outputs": [],
      "execution_count": 0,
      "source": [
        "upper_pos_df[\"string\"] \u003d upper_pos_df[\"word\"].str.lower()\n",
        "upper_pos_df.rename(columns\u003d{\u0027tag\u0027:\u0027upper_tag\u0027}, inplace\u003dTrue)\n",
        "upper_pos_df.drop(columns\u003d[\u0027word\u0027], inplace\u003dTrue)\n",
        "upper_pos_df \u003d upper_pos_df.drop_duplicates()"
      ]
    },
    {
      "cell_type": "code",
      "metadata": {},
      "outputs": [],
      "execution_count": 0,
      "source": [
        "merged_pos_df \u003d pd.merge(merged_pos_df, upper_pos_df)"
      ]
    },
    {
      "cell_type": "code",
      "metadata": {},
      "outputs": [],
      "execution_count": 0,
      "source": [
        "nouns_extracted_with_nltk_df \u003d merged_pos_df.drop_duplicates()"
      ]
    },
    {
      "cell_type": "code",
      "metadata": {},
      "outputs": [],
      "execution_count": 0,
      "source": [
        "nouns_extracted_with_nltk_df"
      ]
    },
    {
      "cell_type": "code",
      "metadata": {},
      "outputs": [],
      "execution_count": 0,
      "source": [
        "nouns_frequency_df \u003d nouns_extracted_with_nltk_df[\"string\"].value_counts().rename_axis(\u0027string\u0027).reset_index(name\u003d\u0027frequency\u0027)"
      ]
    },
    {
      "cell_type": "code",
      "metadata": {},
      "outputs": [],
      "execution_count": 0,
      "source": [
        "nouns_frequency_df"
      ]
    },
    {
      "cell_type": "code",
      "metadata": {},
      "outputs": [],
      "execution_count": 0,
      "source": [
        "nouns_frequency_df \u003d nouns_frequency_df[nouns_frequency_df[\"frequency\"] \u003e 1]\n",
        "nouns_frequency_df.columns \u003d [\u0027string\u0027, \u0027frequency\u0027]"
      ]
    },
    {
      "cell_type": "code",
      "metadata": {},
      "outputs": [],
      "execution_count": 0,
      "source": [
        "# Calculate relative frequency\n",
        "total_count \u003d nouns_frequency_df[\u0027frequency\u0027].sum()\n",
        "nouns_frequency_df[\u0027relative_frequency\u0027] \u003d nouns_frequency_df[\u0027frequency\u0027] / total_count\n",
        "\n",
        "# Rank the strings by frequency\n",
        "nouns_frequency_df[\u0027rank\u0027] \u003d nouns_frequency_df[\u0027frequency\u0027].rank(method\u003d\u0027min\u0027, ascending\u003dFalse)\n",
        "\n",
        "# Sort by string in ascending order before calculating cumulative sum\n",
        "nouns_frequency_df \u003d nouns_frequency_df.sort_values(by\u003d\u0027frequency\u0027, ascending\u003dFalse)\n",
        "\n",
        "# Calculate cumulative sum of frequencies\n",
        "nouns_frequency_df[\u0027cumulative_sum\u0027] \u003d nouns_frequency_df[\u0027frequency\u0027].cumsum()\n",
        "\n",
        "# Calculate pareto as cumulative_sum percentage\n",
        "nouns_frequency_df[\u0027pareto\u0027] \u003d (nouns_frequency_df[\u0027cumulative_sum\u0027] / total_count) * 100"
      ]
    },
    {
      "cell_type": "code",
      "metadata": {},
      "outputs": [],
      "execution_count": 0,
      "source": [
        "nouns_frequency_df[nouns_frequency_df[\"pareto\"] \u003c 80]"
      ]
    },
    {
      "cell_type": "markdown",
      "metadata": {},
      "source": [
        "# Write recipe outputs"
      ]
    },
    {
      "cell_type": "code",
      "metadata": {},
      "outputs": [],
      "execution_count": 0,
      "source": [
        "nouns_extracted_with_nltk \u003d dataiku.Dataset(\"nouns_extracted_with_nltk\")\n",
        "nouns_extracted_with_nltk.write_with_schema(nouns_frequency_df)"
      ]
    }
  ]
}