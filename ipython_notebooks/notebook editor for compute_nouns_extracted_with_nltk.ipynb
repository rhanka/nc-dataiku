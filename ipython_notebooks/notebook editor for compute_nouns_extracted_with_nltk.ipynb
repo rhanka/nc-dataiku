{
  "nbformat": 4,
  "nbformat_minor": 0,
  "metadata": {
    "kernelspec": {
      "display_name": "Python in SCW-FA (env markitdown)",
      "language": "python",
      "name": "py-dku-containerized-venv-markitdown-scw-fa"
    },
    "associatedRecipe": "compute_nouns_extracted_with_nltk",
    "creator": "ludovic.bocken@cgi.com",
    "createdOn": 1738688431757,
    "tags": [
      "recipe-editor"
    ],
    "customFields": {}
  },
  "cells": [
    {
      "cell_type": "code",
      "metadata": {},
      "outputs": [],
      "execution_count": 0,
      "source": [
        "# -*- coding: utf-8 -*-\n",
        "import dataiku\n",
        "import pandas as pd, numpy as np\n",
        "from dataiku import pandasutils as pdu\n",
        "import nltk\n",
        "from nltk import word_tokenize, pos_tag\n",
        "\n",
        "# Ensure you have the necessary NLTK resources\n",
        "nltk.download(\u0027punkt\u0027)\n",
        "nltk.download(\u0027averaged_perceptron_tagger\u0027)\n",
        "\n",
        "# Read recipe inputs\n",
        "corpus_for_knowledge_engineering \u003d dataiku.Dataset(\"corpus_for_knowledge_engineering\")\n",
        "corpus_for_knowledge_engineering_df \u003d corpus_for_knowledge_engineering.get_dataframe()\n",
        "\n",
        "# Function to extract nouns from text\n",
        "def extract_nouns(text):\n",
        "    words \u003d word_tokenize(text)\n",
        "    words_pos \u003d pos_tag(words)\n",
        "    nouns \u003d [word for word, pos in words_pos if pos.startswith(\u0027NN\u0027)]\n",
        "    return \u0027 \u0027.join(nouns)\n",
        "\n",
        "# Apply the function to the dataframe\n",
        "corpus_for_knowledge_engineering_df[\u0027nouns\u0027] \u003d corpus_for_knowledge_engineering_df[\u0027text_column\u0027].apply(extract_nouns)\n",
        "\n",
        "# Compute recipe outputs from inputs\n",
        "nouns_extracted_with_nltk_df \u003d corpus_for_knowledge_engineering_df[[\u0027nouns\u0027]]\n",
        "\n",
        "# Write recipe outputs\n",
        "nouns_extracted_with_nltk \u003d dataiku.Dataset(\"nouns_extracted_with_nltk\")\n",
        "nouns_extracted_with_nltk.write_with_schema(nouns_extracted_with_nltk_df)"
      ]
    }
  ]
}