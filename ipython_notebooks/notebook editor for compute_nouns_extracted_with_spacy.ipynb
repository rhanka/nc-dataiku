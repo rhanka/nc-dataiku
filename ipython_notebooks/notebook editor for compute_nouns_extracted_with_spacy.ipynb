{
  "metadata": {
    "kernelspec": {
      "name": "py-dku-containerized-venv-markitdown-scw-fa",
      "display_name": "Python in SCW-FA (env markitdown)",
      "language": "python"
    },
    "hide_input": false,
    "language_info": {
      "name": "python",
      "version": "3.11.10",
      "mimetype": "text/x-python",
      "codemirror_mode": {
        "name": "ipython",
        "version": 3
      },
      "pygments_lexer": "ipython3",
      "nbconvert_exporter": "python",
      "file_extension": ".py"
    },
    "creationTag": {
      "versionNumber": 0,
      "lastModifiedBy": {
        "login": "ludovic.bocken@cgi.com"
      },
      "lastModifiedOn": 1738771495591
    },
    "createdOn": 1738771495591,
    "creator": "ludovic.bocken@cgi.com",
    "customFields": {},
    "tags": [
      "recipe-editor"
    ],
    "dkuGit": {
      "lastInteraction": 0
    },
    "associatedRecipe": "compute_nouns_extracted_with_spacy",
    "modifiedBy": "ludovic.bocken@cgi.com"
  },
  "nbformat": 4,
  "nbformat_minor": 1,
  "cells": [
    {
      "cell_type": "markdown",
      "metadata": {},
      "source": [
        "# Import libraries"
      ]
    },
    {
      "execution_count": 0,
      "cell_type": "code",
      "metadata": {},
      "source": [
        "# -*- coding: utf-8 -*-\nimport dataiku\nimport pandas as pd, numpy as np\nfrom dataiku import pandasutils as pdu\nimport spacy\nfrom dframcy import DframCy\n\n# Load the spaCy model\nnlp \u003d spacy.load(\"en_core_web_sm\")\n\n"
      ],
      "outputs": []
    },
    {
      "cell_type": "markdown",
      "metadata": {},
      "source": [
        "# Read recipe inputs"
      ]
    },
    {
      "execution_count": 0,
      "cell_type": "code",
      "metadata": {},
      "source": [
        "corpus_for_knowledge_engineering \u003d dataiku.Dataset(\"corpus_for_knowledge_engineering\")\ncorpus_for_knowledge_engineering_df \u003d corpus_for_knowledge_engineering.get_dataframe()"
      ],
      "outputs": []
    },
    {
      "execution_count": 0,
      "cell_type": "code",
      "metadata": {},
      "source": [
        "corpus_for_knowledge_engineering_df[\"lower_text\"] \u003d corpus_for_knowledge_engineering_df[\"text\"].str.lower()\ncorpus_for_knowledge_engineering_df[\"upper_text\"] \u003d corpus_for_knowledge_engineering_df[\"text\"].str.upper()"
      ],
      "outputs": []
    },
    {
      "execution_count": 0,
      "cell_type": "code",
      "metadata": {},
      "source": [
        "corpus_for_knowledge_engineering_df"
      ],
      "outputs": []
    },
    {
      "execution_count": 0,
      "cell_type": "code",
      "metadata": {},
      "source": [
        "\ndframcy \u003d DframCy(nlp)\ndoc \u003d dframcy.nlp(u\u0027Apple is looking at buying U.K. startup for $1 billion\u0027)\npos_df \u003d dframcy.to_dataframe(doc)\ntags \u003d [\"NN\", \"NNP\"]\npos_df[pos_df[\"token_tag_\"].isin(tags)]"
      ],
      "outputs": []
    },
    {
      "execution_count": 0,
      "cell_type": "code",
      "metadata": {},
      "source": [
        "text \u003d corpus_for_knowledge_engineering_df[\"text\"][0]\ndoc \u003d nlp(text)"
      ],
      "outputs": []
    },
    {
      "execution_count": 0,
      "cell_type": "code",
      "metadata": {},
      "source": [
        "nouns \u003d [(token.text, token.pos_) for token in doc if token.pos_ \u003d\u003d \"NOUN\"]\npd.DataFrame(nouns, columns\u003d[\u0027word\u0027, \u0027tag\u0027])"
      ],
      "outputs": []
    },
    {
      "execution_count": 0,
      "cell_type": "code",
      "metadata": {},
      "source": [
        "corpus_for_knowledge_engineering_df[0:2]"
      ],
      "outputs": []
    },
    {
      "cell_type": "markdown",
      "metadata": {},
      "source": [
        "# Extract nouns"
      ]
    },
    {
      "execution_count": 0,
      "cell_type": "code",
      "metadata": {},
      "source": [
        "# Define the function to extract nouns and return a DataFrame\ndef extract_nouns(doc_id, text):\n    # Increase the max_length limit\n    nlp.max_length \u003d 3000000  # Set this to a value higher than your text length\n    doc \u003d nlp(text)\n    nouns \u003d [(doc_id, token.text, token.pos_) for token in doc if token.pos_ \u003d\u003d \"NOUN\"]\n    return pd.DataFrame(nouns, columns\u003d[\u0027doc_id\u0027, \u0027word\u0027, \u0027tag\u0027])"
      ],
      "outputs": []
    },
    {
      "execution_count": 0,
      "cell_type": "code",
      "metadata": {},
      "source": [
        "# Apply the function to each row and concatenate the results\npos_df \u003d pd.concat([extract_nouns(row[\u0027doc_id\u0027], row[\u0027text\u0027]) for _, row in corpus_for_knowledge_engineering_df.iterrows()], ignore_index\u003dTrue)"
      ],
      "outputs": []
    },
    {
      "execution_count": 0,
      "cell_type": "code",
      "metadata": {},
      "source": [
        "pos_df[\"string\"] \u003d pos_df[\"word\"].str.lower()\npos_df \u003d pos_df.drop_duplicates()"
      ],
      "outputs": []
    },
    {
      "execution_count": 0,
      "cell_type": "code",
      "metadata": {},
      "source": [
        "pos_df"
      ],
      "outputs": []
    },
    {
      "cell_type": "markdown",
      "metadata": {},
      "source": [
        "## Lower case"
      ]
    },
    {
      "execution_count": 0,
      "cell_type": "code",
      "metadata": {},
      "source": [
        "# Apply the function to each row and concatenate the results\nlower_pos_df \u003d pd.concat([extract_nouns(row[\u0027doc_id\u0027], row[\u0027lower_text\u0027]) for _, row in corpus_for_knowledge_engineering_df.iterrows()], ignore_index\u003dTrue)"
      ],
      "outputs": []
    },
    {
      "execution_count": 0,
      "cell_type": "code",
      "metadata": {},
      "source": [
        "lower_pos_df[\"string\"] \u003d lower_pos_df[\"word\"].str.lower()\nlower_pos_df.rename(columns\u003d{\u0027tag\u0027:\u0027lower_tag\u0027}, inplace\u003dTrue)\nlower_pos_df.drop(columns\u003d[\u0027word\u0027], inplace\u003dTrue)\nlower_pos_df \u003d lower_pos_df.drop_duplicates()"
      ],
      "outputs": []
    },
    {
      "execution_count": 0,
      "cell_type": "code",
      "metadata": {},
      "source": [
        "lower_pos_df"
      ],
      "outputs": []
    },
    {
      "execution_count": 0,
      "cell_type": "code",
      "metadata": {},
      "source": [
        "merged_pos_df \u003d pd.merge(pos_df, lower_pos_df)"
      ],
      "outputs": []
    },
    {
      "execution_count": 0,
      "cell_type": "code",
      "metadata": {},
      "source": [
        "merged_pos_df"
      ],
      "outputs": []
    },
    {
      "execution_count": 0,
      "cell_type": "code",
      "metadata": {},
      "source": [
        ""
      ],
      "outputs": []
    },
    {
      "cell_type": "markdown",
      "metadata": {},
      "source": [
        "## Upper case"
      ]
    },
    {
      "execution_count": 0,
      "cell_type": "code",
      "metadata": {},
      "source": [
        ""
      ],
      "outputs": []
    },
    {
      "execution_count": 0,
      "cell_type": "code",
      "metadata": {},
      "source": [
        ""
      ],
      "outputs": []
    },
    {
      "execution_count": 0,
      "cell_type": "code",
      "metadata": {},
      "source": [
        ""
      ],
      "outputs": []
    },
    {
      "execution_count": 0,
      "cell_type": "code",
      "metadata": {},
      "source": [
        "# Write recipe outputs\nnouns_extracted_with_spacy \u003d dataiku.Dataset(\"nouns_extracted_with_spacy\")\nnouns_extracted_with_spacy.write_with_schema(nouns_extracted_with_spacy_df)"
      ],
      "outputs": []
    }
  ]
}