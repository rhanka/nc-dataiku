{
  "metadata": {
    "kernelspec": {
      "name": "py-dku-containerized-venv-markitdown-scw-fa",
      "display_name": "Python in SCW-FA (env markitdown)",
      "language": "python"
    },
    "hide_input": false,
    "language_info": {
      "name": "python",
      "version": "3.11.10",
      "mimetype": "text/x-python",
      "codemirror_mode": {
        "name": "ipython",
        "version": 3
      },
      "pygments_lexer": "ipython3",
      "nbconvert_exporter": "python",
      "file_extension": ".py"
    },
    "createdOn": 1738771495591,
    "creator": "ludovic.bocken@cgi.com",
    "customFields": {},
    "tags": [
      "recipe-editor"
    ],
    "associatedRecipe": "compute_nouns_extracted_with_spacy",
    "modifiedBy": "ludovic.bocken@cgi.com"
  },
  "nbformat": 4,
  "nbformat_minor": 1,
  "cells": [
    {
      "execution_count": 0,
      "cell_type": "code",
      "metadata": {},
      "source": [
        ""
      ],
      "outputs": []
    },
    {
      "execution_count": 0,
      "cell_type": "code",
      "metadata": {},
      "source": [
        "# -*- coding: utf-8 -*-\nimport dataiku\nimport pandas as pd, numpy as np\nfrom dataiku import pandasutils as pdu\n\n# Read recipe inputs\ncorpus_for_knowledge_engineering \u003d dataiku.Dataset(\"corpus_for_knowledge_engineering\")\ncorpus_for_knowledge_engineering_df \u003d corpus_for_knowledge_engineering.get_dataframe()\n\n\n# Compute recipe outputs from inputs\n# TODO: Replace this part by your actual code that computes the output, as a Pandas dataframe\n# NB: DSS also supports other kinds of APIs for reading and writing data. Please see doc.\n\nnouns_extracted_with_spacy_df \u003d corpus_for_knowledge_engineering_df # For this sample code, simply copy input to output\n\n\n# Write recipe outputs\nnouns_extracted_with_spacy \u003d dataiku.Dataset(\"nouns_extracted_with_spacy\")\nnouns_extracted_with_spacy.write_with_schema(nouns_extracted_with_spacy_df)"
      ],
      "outputs": []
    }
  ]
}