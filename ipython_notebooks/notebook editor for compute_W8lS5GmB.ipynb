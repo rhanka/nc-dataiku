{
  "metadata": {
    "kernelspec": {
      "name": "py-dku-venv-markitdown",
      "display_name": "Python (env markitdown)",
      "language": "python"
    },
    "hide_input": false,
    "language_info": {
      "name": "python",
      "version": "3.11.11",
      "mimetype": "text/x-python",
      "codemirror_mode": {
        "name": "ipython",
        "version": 3
      },
      "pygments_lexer": "ipython3",
      "nbconvert_exporter": "python",
      "file_extension": ".py"
    },
    "createdOn": 1737774380591,
    "creator": "fabien.antoine@cgi.com",
    "tags": [
      "recipe-editor"
    ],
    "associatedRecipe": "compute_W8lS5GmB",
    "customFields": {},
    "modifiedBy": "fabien.antoine@cgi.com"
  },
  "nbformat": 4,
  "nbformat_minor": 1,
  "cells": [
    {
      "execution_count": 0,
      "cell_type": "code",
      "metadata": {},
      "source": [
        "# -*- coding: utf-8 -*-\nimport dataiku\nimport os\nimport tempfile\nfrom PyPDF2 import PdfReader\n\n# Folders\nA220_tech_docs \u003d dataiku.Folder(\"SoQWOnhR\")          # Input folder\nA220_tech_docs_pages \u003d dataiku.Folder(\"W8lS5GmB\")    # Output folder\n\n# Lister les fichiers PDF\npdf_files \u003d [f for f in A220_tech_docs.list_paths_in_partition() if f.lower().endswith(\".pdf\")]\n\nfor pdf_file in pdf_files:\n    # Lire le contenu PDF\n    with A220_tech_docs.get_download_stream(pdf_file) as f:\n        pdf_data \u003d f.read()\n\n    # Utiliser un fichier temporaire pour la conversion\n    with tempfile.NamedTemporaryFile(delete\u003dTrue, suffix\u003d\".pdf\") as temp_pdf:\n        temp_pdf.write(pdf_data)\n        temp_pdf.flush()  # Assurez-vous que le contenu est écrit sur le disque\n\n        # Convertir en Markdown\n        reader \u003d PdfReader(temp_pdf.name)\n\n        # Extract each page and save as a separate PDF\n        for page_number, page in enumerate(reader.pages):\n            writer \u003d PdfWriter()\n            writer.add_page(page)\n\n            # Define the PDF file name for each page\n            page_pdf_file_name \u003d f\"{os.path.splitext(pdf_file)[0]}_page_{page_number + 1}.pdf\"\n\n            # Write the single-page PDF\n            with tempfile.NamedTemporaryFile(delete\u003dFalse, suffix\u003d\".pdf\") as page_pdf:\n                writer.write(page_pdf)\n                page_pdf.flush()\n\n                # Upload the single-page PDF to the output folder\n                with open(page_pdf.name, \u0027rb\u0027) as page_pdf_file:\n                    A220_tech_docs_pages.upload_data(page_pdf_file_name, page_pdf_file)"
      ],
      "outputs": []
    }
  ]
}