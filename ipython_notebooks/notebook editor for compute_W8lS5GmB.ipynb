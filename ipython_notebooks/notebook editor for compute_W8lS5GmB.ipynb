{
  "nbformat": 4,
  "nbformat_minor": 0,
  "metadata": {
    "kernelspec": {
      "display_name": "Python (env markitdown)",
      "language": "python",
      "name": "py-dku-venv-markitdown"
    },
    "associatedRecipe": "compute_W8lS5GmB",
    "dkuGit": {
      "lastInteraction": 0
    },
    "creationTag": {
      "versionNumber": 0,
      "lastModifiedBy": {
        "login": "fabien.antoine@cgi.com"
      },
      "lastModifiedOn": 1737774380591
    },
    "creator": "fabien.antoine@cgi.com",
    "createdOn": 1737774380591,
    "tags": [
      "recipe-editor"
    ],
    "customFields": {}
  },
  "cells": [
    {
      "cell_type": "code",
      "metadata": {},
      "outputs": [],
      "execution_count": 0,
      "source": [
        "# -*- coding: utf-8 -*-\n",
        "import dataiku\n",
        "import os\n",
        "import tempfile\n",
        "from PyPDF2 import PdfReader, PdfWriter\n",
        "\n",
        "# Folders\n",
        "A220_tech_docs \u003d dataiku.Folder(\"SoQWOnhR\")          # Input folder\n",
        "A220_tech_docs_pages \u003d dataiku.Folder(\"W8lS5GmB\")    # Output folder\n",
        "\n",
        "# Lister les fichiers PDF\n",
        "pdf_files \u003d [f for f in A220_tech_docs.list_paths_in_partition() if f.lower().endswith(\".pdf\")]\n",
        "\n",
        "for pdf_file in pdf_files:\n",
        "    # Lire le contenu PDF\n",
        "    with A220_tech_docs.get_download_stream(pdf_file) as f:\n",
        "        pdf_data \u003d f.read()\n",
        "\n",
        "    # Utiliser un fichier temporaire pour la conversion\n",
        "    with tempfile.NamedTemporaryFile(delete\u003dTrue, suffix\u003d\".pdf\") as temp_pdf:\n",
        "        temp_pdf.write(pdf_data)\n",
        "        temp_pdf.flush()  # Assurez-vous que le contenu est écrit sur le disque\n",
        "\n",
        "        # Lire le PDF\n",
        "        reader \u003d PdfReader(temp_pdf.name)\n",
        "\n",
        "        # Extraire chaque page et sauvegarder en tant que fichier PDF séparé\n",
        "        for page_number, page in enumerate(reader.pages):\n",
        "            writer \u003d PdfWriter()\n",
        "            writer.add_page(page)\n",
        "\n",
        "            # Définir le nom de fichier pour chaque page\n",
        "            page_pdf_file_name \u003d f\"{os.path.splitext(os.path.basename(pdf_file))[0]}_page_{page_number + 1}.pdf\"\n",
        "\n",
        "            # Créer un fichier temporaire pour chaque page PDF\n",
        "            with tempfile.NamedTemporaryFile(delete\u003dFalse, suffix\u003d\".pdf\") as page_pdf:\n",
        "                writer.write(page_pdf)\n",
        "                page_pdf.flush()\n",
        "\n",
        "                # Lire le contenu du fichier temporaire\n",
        "                with open(page_pdf.name, \u0027rb\u0027) as page_pdf_file:\n",
        "                    page_pdf_data \u003d page_pdf_file.read()  # Lire les données en bytes\n",
        "                    A220_tech_docs_pages.upload_data(page_pdf_file_name, page_pdf_data)\n",
        "\n",
        "            # Supprimer le fichier temporaire\n",
        "            os.remove(page_pdf.name)"
      ]
    }
  ]
}