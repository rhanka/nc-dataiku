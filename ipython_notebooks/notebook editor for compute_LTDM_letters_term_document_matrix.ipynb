{
  "nbformat": 4,
  "nbformat_minor": 0,
  "metadata": {
    "kernelspec": {
      "display_name": "Python (env markitdown)",
      "language": "python",
      "name": "py-dku-venv-markitdown"
    },
    "associatedRecipe": "compute_LTDM_letters_term_document_matrix",
    "creator": "ludovic.bocken@cgi.com",
    "createdOn": 1738597619961,
    "tags": [
      "recipe-editor"
    ],
    "customFields": {}
  },
  "cells": [
    {
      "cell_type": "code",
      "metadata": {},
      "outputs": [],
      "execution_count": 0,
      "source": [
        "# -*- coding: utf-8 -*-\n",
        "import dataiku\n",
        "import pandas as pd\n",
        "import numpy as np\n",
        "from dataiku import pandasutils as pdu\n",
        "from sklearn.feature_extraction.text import CountVectorizer"
      ]
    },
    {
      "cell_type": "code",
      "metadata": {},
      "outputs": [],
      "execution_count": 0,
      "source": [
        "# Read recipe inputs\n",
        "A220_tech_docs_text \u003d dataiku.Folder(\"rhnW9xGx\")\n",
        "A220_tech_docs_text_info \u003d A220_tech_docs_text.get_info()\n",
        "\n",
        "# Assuming the text data is stored in files within the folder\n",
        "file_paths \u003d A220_tech_docs_text.list_paths_in_partition()\n",
        "\n",
        "# Read the content of each file into a list\n",
        "documents \u003d []\n",
        "for file_path in file_paths:\n",
        "    with A220_tech_docs_text.get_download_stream(file_path) as f:\n",
        "        documents.append(f.read().decode(\u0027utf-8\u0027))\n",
        "\n",
        "# Compute recipe outputs\n",
        "# Create a CountVectorizer to convert the text data to a term-document matrix\n",
        "vectorizer \u003d CountVectorizer(token_pattern\u003dr\u0027\\b[a-zA-Z]+\\b\u0027)\n",
        "X \u003d vectorizer.fit_transform(documents)\n",
        "\n",
        "# Convert the sparse matrix to a DataFrame\n",
        "LTDM_term_document_matrix_df \u003d pd.DataFrame(X.toarray().T, index\u003dvectorizer.get_feature_names_out(), columns\u003dfile_paths)"
      ]
    },
    {
      "cell_type": "code",
      "metadata": {},
      "outputs": [],
      "execution_count": 0,
      "source": [
        "# Write recipe outputs\n",
        "LTDM_term_document_matrix \u003d dataiku.Dataset(\"LTDM_letters_term_document_matrix\")\n",
        "LTDM_term_document_matrix.write_with_schema(LTDM_term_document_matrix_df.reset_index().rename(columns\u003d{\u0027index\u0027: \u0027term\u0027}))"
      ]
    }
  ]
}