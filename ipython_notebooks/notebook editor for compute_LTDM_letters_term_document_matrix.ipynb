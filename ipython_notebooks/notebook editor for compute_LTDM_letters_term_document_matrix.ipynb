{
  "metadata": {
    "kernelspec": {
      "name": "py-dku-venv-markitdown",
      "display_name": "Python (env markitdown)",
      "language": "python"
    },
    "hide_input": false,
    "language_info": {
      "name": "python",
      "version": "3.11.11",
      "mimetype": "text/x-python",
      "codemirror_mode": {
        "name": "ipython",
        "version": 3
      },
      "pygments_lexer": "ipython3",
      "nbconvert_exporter": "python",
      "file_extension": ".py"
    },
    "creator": "ludovic.bocken@cgi.com",
    "createdOn": 1738597619961,
    "customFields": {},
    "tags": [
      "deleted-recipe-editor"
    ],
    "modifiedBy": "ludovic.bocken@cgi.com"
  },
  "nbformat": 4,
  "nbformat_minor": 1,
  "cells": [
    {
      "execution_count": 0,
      "cell_type": "code",
      "metadata": {},
      "source": [
        "# -*- coding: utf-8 -*-\nimport dataiku\nimport pandas as pd\nimport numpy as np\nfrom dataiku import pandasutils as pdu\nfrom sklearn.feature_extraction.text import CountVectorizer"
      ],
      "outputs": []
    },
    {
      "execution_count": 0,
      "cell_type": "code",
      "metadata": {},
      "source": [
        "# Read recipe inputs\nA220_tech_docs_text \u003d dataiku.Folder(\"rhnW9xGx\")\nA220_tech_docs_text_info \u003d A220_tech_docs_text.get_info()\n\n# Assuming the text data is stored in files within the folder\nfile_paths \u003d A220_tech_docs_text.list_paths_in_partition()\n\n# Read the content of each file into a list\ndocuments \u003d []\nfor file_path in file_paths:\n    with A220_tech_docs_text.get_download_stream(file_path) as f:\n        documents.append(f.read().decode(\u0027utf-8\u0027))\n\n# Compute recipe outputs\n# Create a CountVectorizer to convert the text data to a term-document matrix\nvectorizer \u003d CountVectorizer(token_pattern\u003dr\u0027\\b[a-zA-Z]+\\b\u0027)\nX \u003d vectorizer.fit_transform(documents)\n\n# Convert the sparse matrix to a DataFrame\nLTDM_term_document_matrix_df \u003d pd.DataFrame(X.toarray().T, index\u003dvectorizer.get_feature_names_out(), columns\u003dfile_paths)"
      ],
      "outputs": []
    },
    {
      "execution_count": 0,
      "cell_type": "code",
      "metadata": {},
      "source": [
        "LTDM_term_document_matrix_df"
      ],
      "outputs": []
    },
    {
      "execution_count": 0,
      "cell_type": "code",
      "metadata": {},
      "source": [
        "# Write recipe outputs\nLTDM_term_document_matrix \u003d dataiku.Dataset(\"LTDM_letters_term_document_matrix\")\nLTDM_term_document_matrix.write_with_schema(LTDM_term_document_matrix_df.reset_index().rename(columns\u003d{\u0027index\u0027: \u0027term\u0027}))"
      ],
      "outputs": []
    },
    {
      "execution_count": 0,
      "cell_type": "code",
      "metadata": {},
      "source": [
        ""
      ],
      "outputs": []
    }
  ]
}