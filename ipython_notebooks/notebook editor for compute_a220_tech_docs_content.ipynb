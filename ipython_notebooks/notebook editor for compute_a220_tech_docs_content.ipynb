{
  "metadata": {
    "kernelspec": {
      "name": "python3",
      "display_name": "Python 3 (ipykernel)",
      "language": "python"
    },
    "hide_input": false,
    "language_info": {
      "name": "python",
      "version": "3.9.21",
      "mimetype": "text/x-python",
      "codemirror_mode": {
        "name": "ipython",
        "version": 3
      },
      "pygments_lexer": "ipython3",
      "nbconvert_exporter": "python",
      "file_extension": ".py"
    },
    "tags": [
      "recipe-editor"
    ],
    "creationTag": {
      "versionNumber": 0,
      "lastModifiedBy": {
        "login": "fabien.antoine@cgi.com"
      },
      "lastModifiedOn": 1735315006284
    },
    "associatedRecipe": "compute_a220_tech_docs_content",
    "dkuGit": {
      "lastInteraction": 0
    },
    "customFields": {},
    "createdOn": 1735315006284,
    "creator": "fabien.antoine@cgi.com",
    "modifiedBy": "fabien.antoine@cgi.com"
  },
  "nbformat": 4,
  "nbformat_minor": 1,
  "cells": [
    {
      "execution_count": 0,
      "cell_type": "code",
      "metadata": {},
      "source": [
        "import dataiku\nimport io\nimport pandas as pd\nfrom bs4 import BeautifulSoup\nfrom langchain.text_splitter import (\n    RecursiveCharacterTextSplitter,\n    HTMLHeaderTextSplitter,\n)\n\nfolder \u003d dataiku.Folder(\"AXB1Cyno\")"
      ],
      "outputs": []
    },
    {
      "execution_count": 0,
      "cell_type": "code",
      "metadata": {},
      "source": [
        "# -------------------------------------------------------------------------------- NOTEBOOK-CELL: CODE\nheaders \u003d [\n    (\"h1\", \"h1\"),\n    (\"h2\", \"h2\"),\n    (\"h3\", \"h3\"),\n    (\"h4\", \"h4\"),\n    (\"h5\", \"h5\"),\n    (\"h6\", \"h6\"),\n]\n\nhtml_splitter \u003d HTMLHeaderTextSplitter(\n    headers_to_split_on\u003dheaders, return_each_element\u003dFalse\n)\ntext_splitter \u003d RecursiveCharacterTextSplitter(chunk_size\u003d1000, chunk_overlap\u003d200)\n\n# -------------------------------------------------------------------------------- NOTEBOOK-CELL: CODE\nd \u003d {\"chunk\": [], \"url\": []}\n\nfor path in folder.list_paths_in_partition():\n    url \u003d \"https://\" + path[1:].replace(\"\u003d\", \"/\")\n    with folder.get_download_stream(path) as stream:\n        s \u003d io.BytesIO(stream.read()).read().decode(\"utf-8\")\n        result \u003d text_splitter.split_documents(html_splitter.split_text(s))\n        if \"/plugins/\" in url:\n            soup \u003d BeautifulSoup(s, \"html.parser\")\n\n    for i in range(len(result)):\n        header \u003d \" \u003e \".join(\n            [\n                result[i].metadata[k[1]].replace(\"#\", \"\").strip()\n                for k in headers\n                if k[1] in result[i].metadata\n                if result[i].metadata[k[1]] is not None\n            ]\n        )\n\n        if \"/plugins/\" in url:\n            title \u003d soup.find(\"title\").string.replace(\" | Dataiku\", \"\")\n            header \u003d title + (\" \u003e \" if len(header) \u003e 0 else \"\") + header\n        d[\"chunk\"].append((header + \"\\n\\n\" + result[i].page_content).strip())\n        d[\"url\"].append(url)\n\n# -------------------------------------------------------------------------------- NOTEBOOK-CELL: CODE\ndf \u003d pd.DataFrame.from_dict(d)\ndf[\"chunk_id\"] \u003d range(len(df))\ndataiku.Dataset(\"a220_tech_docs_content\").write_with_schema(df)\n"
      ],
      "outputs": []
    },
    {
      "execution_count": 0,
      "cell_type": "code",
      "metadata": {},
      "source": [
        "!pip list\n"
      ],
      "outputs": []
    },
    {
      "execution_count": 0,
      "cell_type": "code",
      "metadata": {},
      "source": [
        "import langchain\n\n# Vérifier si langchain est installé\nlangchain_available \u003d importlib.util.find_spec(\"langchain\") is not None\nprint(f\"langchain est installé : {langchain_available}\")\n\n# Vérifier si langchain.textsplitter est disponible\ntextsplitter_available \u003d importlib.util.find_spec(\"langchain.textsplitter\") is not None\nprint(f\"langchain.textsplitter est disponible : {textsplitter_available}\")"
      ],
      "outputs": []
    },
    {
      "execution_count": 0,
      "cell_type": "code",
      "metadata": {},
      "source": [
        ""
      ],
      "outputs": []
    }
  ]
}