{
  "nbformat": 4,
  "nbformat_minor": 0,
  "metadata": {
    "kernelspec": {
      "display_name": "Python (env markitdown)",
      "language": "python",
      "name": "py-dku-venv-markitdown"
    },
    "associatedRecipe": "compute_a220_tech_docs_content",
    "dkuGit": {
      "lastInteraction": 0
    },
    "creationTag": {
      "versionNumber": 0,
      "lastModifiedBy": {
        "login": "fabien.antoine@cgi.com"
      },
      "lastModifiedOn": 1735315006284
    },
    "creator": "fabien.antoine@cgi.com",
    "createdOn": 1735315006284,
    "tags": [
      "recipe-editor"
    ],
    "customFields": {}
  },
  "cells": [
    {
      "cell_type": "code",
      "metadata": {},
      "outputs": [],
      "execution_count": 0,
      "source": [
        "# -*- coding: utf-8 -*-\n",
        "import dataiku\n",
        "import pandas as pd, numpy as np\n",
        "from dataiku import pandasutils as pdu\n",
        "\n",
        "# Read recipe inputs\n",
        "A220_tech_docs_prep \u003d dataiku.Folder(\"AXB1Cyno\")\n",
        "A220_tech_docs_prep_info \u003d A220_tech_docs_prep.get_info()\n",
        "\n",
        "\n",
        "# Compute recipe outputs\n",
        "# TODO: Write here your actual code that computes the outputs\n",
        "# NB: DSS supports several kinds of APIs for reading and writing data. Please see doc.\n",
        "\n",
        "a220_tech_docs_content_df \u003d ... # Compute a Pandas dataframe to write into a220_tech_docs_content\n",
        "\n",
        "\n",
        "# Write recipe outputs\n",
        "a220_tech_docs_content \u003d dataiku.Dataset(\"a220_tech_docs_content\")\n",
        "a220_tech_docs_content.write_with_schema(a220_tech_docs_content_df)"
      ]
    }
  ]
}