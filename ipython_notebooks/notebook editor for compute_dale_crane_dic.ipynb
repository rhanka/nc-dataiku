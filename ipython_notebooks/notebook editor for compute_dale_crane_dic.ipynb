{
  "metadata": {
    "kernelspec": {
      "name": "py-dku-containerized-venv-markitdown-scw-fa",
      "display_name": "Python in SCW-FA (env markitdown)",
      "language": "python"
    },
    "hide_input": false,
    "language_info": {
      "name": "python",
      "version": "3.11.10",
      "mimetype": "text/x-python",
      "codemirror_mode": {
        "name": "ipython",
        "version": 3
      },
      "pygments_lexer": "ipython3",
      "nbconvert_exporter": "python",
      "file_extension": ".py"
    },
    "createdOn": 1738702156147,
    "creator": "ludovic.bocken@cgi.com",
    "customFields": {},
    "tags": [
      "recipe-editor"
    ],
    "associatedRecipe": "compute_dale_crane_dic",
    "modifiedBy": "ludovic.bocken@cgi.com"
  },
  "nbformat": 4,
  "nbformat_minor": 1,
  "cells": [
    {
      "execution_count": 0,
      "cell_type": "code",
      "metadata": {},
      "source": [
        "# -*- coding: utf-8 -*-\nimport dataiku\nimport pandas as pd, numpy as np\nfrom dataiku import pandasutils as pdu\nimport re"
      ],
      "outputs": []
    },
    {
      "execution_count": 0,
      "cell_type": "code",
      "metadata": {},
      "source": [
        "# Read recipe inputs\ndictionaries_of_aviation \u003d dataiku.Dataset(\"dictionaries_of_aviation\")\ndictionaries_of_aviation_df \u003d dictionaries_of_aviation.get_dataframe()"
      ],
      "outputs": []
    },
    {
      "execution_count": 0,
      "cell_type": "code",
      "metadata": {},
      "source": [
        "dictionaries_of_aviation_df"
      ],
      "outputs": []
    },
    {
      "execution_count": 0,
      "cell_type": "code",
      "metadata": {},
      "source": [
        "dictionary \u003d dictionaries_of_aviation_df[\"content\"][2]"
      ],
      "outputs": []
    },
    {
      "execution_count": 0,
      "cell_type": "code",
      "metadata": {},
      "source": [
        "dictionary"
      ],
      "outputs": []
    },
    {
      "execution_count": 0,
      "cell_type": "code",
      "metadata": {},
      "source": [
        "clean_dictionary \u003d dictionary.replace(\"-\\n\",\"\")\nclean_dictionary \u003d dictionary.replace(\" \\n\",\" \")\n\n#clean_dictionary \u003d re.sub(r\u0027\\s*\\n\\s*\u0027, \u0027 \u0027, clean_dictionary)\nclean_dictionary \u003d re.sub(r\u0027([a-zA-Z]|[0-9])\\n([a-zA-Z]|[0-9])\u0027, r\u0027\\1 \\2\u0027, clean_dictionary)\nclean_dictionary \u003d re.sub(\" \\x02 \", \u0027 \u0027, clean_dictionary)"
      ],
      "outputs": []
    },
    {
      "execution_count": 0,
      "cell_type": "code",
      "metadata": {},
      "source": [
        "clean_dictionary"
      ],
      "outputs": []
    },
    {
      "execution_count": 0,
      "cell_type": "code",
      "metadata": {},
      "source": [
        "\n\n\n\n\n# Compute recipe outputs from inputs\n# TODO: Replace this part by your actual code that computes the output, as a Pandas dataframe\n# NB: DSS also supports other kinds of APIs for reading and writing data. Please see doc.\n\ndale_crane_dic_df \u003d dictionaries_of_aviation_df # For this sample code, simply copy input to output\n\n\n"
      ],
      "outputs": []
    },
    {
      "execution_count": 0,
      "cell_type": "code",
      "metadata": {},
      "source": [
        "# Write recipe outputs\ndale_crane_dic \u003d dataiku.Dataset(\"dale_crane_dic\")\ndale_crane_dic.write_with_schema(dale_crane_dic_df)"
      ],
      "outputs": []
    }
  ]
}