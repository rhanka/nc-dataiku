{
  "metadata": {
    "kernelspec": {
      "name": "py-dku-containerized-venv-markitdown-scw-fa",
      "display_name": "Python in SCW-FA (env markitdown)",
      "language": "python"
    },
    "hide_input": false,
    "language_info": {
      "name": "python",
      "version": "3.11.10",
      "mimetype": "text/x-python",
      "codemirror_mode": {
        "name": "ipython",
        "version": 3
      },
      "pygments_lexer": "ipython3",
      "nbconvert_exporter": "python",
      "file_extension": ".py"
    },
    "creationTag": {
      "versionNumber": 0,
      "lastModifiedBy": {
        "login": "ludovic.bocken@cgi.com"
      },
      "lastModifiedOn": 1738702156147
    },
    "createdOn": 1738702156147,
    "creator": "ludovic.bocken@cgi.com",
    "customFields": {},
    "tags": [
      "recipe-editor"
    ],
    "dkuGit": {
      "lastInteraction": 0
    },
    "associatedRecipe": "compute_dale_crane_dic",
    "modifiedBy": "ludovic.bocken@cgi.com"
  },
  "nbformat": 4,
  "nbformat_minor": 1,
  "cells": [
    {
      "cell_type": "markdown",
      "metadata": {},
      "source": [
        "# Import libraries"
      ]
    },
    {
      "execution_count": 0,
      "cell_type": "code",
      "metadata": {},
      "source": [
        "# -*- coding: utf-8 -*-\nimport dataiku\nimport pandas as pd, numpy as np\nfrom dataiku import pandasutils as pdu\nimport re"
      ],
      "outputs": []
    },
    {
      "cell_type": "markdown",
      "metadata": {},
      "source": [
        "# Get data"
      ]
    },
    {
      "execution_count": 0,
      "cell_type": "code",
      "metadata": {},
      "source": [
        "# Read recipe inputs\ndictionaries_of_aviation \u003d dataiku.Dataset(\"dictionaries_of_aviation\")\ndictionaries_of_aviation_df \u003d dictionaries_of_aviation.get_dataframe()"
      ],
      "outputs": []
    },
    {
      "execution_count": 0,
      "cell_type": "code",
      "metadata": {},
      "source": [
        "dictionaries_of_aviation_df"
      ],
      "outputs": []
    },
    {
      "execution_count": 0,
      "cell_type": "code",
      "metadata": {},
      "source": [
        "dictionary \u003d dictionaries_of_aviation_df[\"content\"][2]"
      ],
      "outputs": []
    },
    {
      "execution_count": 0,
      "cell_type": "code",
      "metadata": {},
      "source": [
        "dictionary"
      ],
      "outputs": []
    },
    {
      "cell_type": "markdown",
      "metadata": {},
      "source": [
        "# Clean data"
      ]
    },
    {
      "execution_count": 0,
      "cell_type": "code",
      "metadata": {},
      "source": [
        "clean_dictionary \u003d dictionary\nclean_dictionary \u003d clean_dictionary.replace(\"-\\n\",\"\")\nclean_dictionary \u003d clean_dictionary.replace(\" \\n\",\" \")\n\n#clean_dictionary \u003d re.sub(r\u0027\\s*\\n\\s*\u0027, \u0027 \u0027, clean_dictionary)\nclean_dictionary \u003d re.sub(r\u0027([a-zA-Z]|[0-9])\\n([a-zA-Z]|[0-9])\u0027, r\u0027\\1 \\2\u0027, clean_dictionary)\nclean_dictionary \u003d re.sub(\" \\x02 \", \u0027 \u0027, clean_dictionary)"
      ],
      "outputs": []
    },
    {
      "execution_count": 0,
      "cell_type": "code",
      "metadata": {},
      "source": [
        "clean_dictionary"
      ],
      "outputs": []
    },
    {
      "cell_type": "markdown",
      "metadata": {},
      "source": [
        "# Entries"
      ]
    },
    {
      "execution_count": 0,
      "cell_type": "code",
      "metadata": {},
      "source": [
        "entries \u003d re.findall(r\u0027\\b(\\w+)\\b\\s+\\b\\1\\b\u0027, clean_dictionary)"
      ],
      "outputs": []
    },
    {
      "execution_count": 0,
      "cell_type": "code",
      "metadata": {},
      "source": [
        "entries"
      ],
      "outputs": []
    },
    {
      "execution_count": 0,
      "cell_type": "code",
      "metadata": {},
      "source": [
        "pattern \u003d r\u0027\\b(\\w+)\\b\\s+\\b\\1\\b /\u0027\nreplacement \u003d r\u0027[[[\\1]]] /\u0027\ndictionary_with_entries \u003d re.sub(pattern, replacement, clean_dictionary)\ndictionary_with_entries"
      ],
      "outputs": []
    },
    {
      "execution_count": 0,
      "cell_type": "code",
      "metadata": {},
      "source": [
        "# Split the text using triple brackets\nentries \u003d re.split(r\u0027\\[\\[\\[|\\]\\]\\]\u0027, dictionary_with_entries)\n\n# Remove empty entries and strip whitespace\nentries \u003d [entry.strip() for entry in entries if entry.strip()]\n\n# Ensure both columns have the same length by adding empty strings if necessary\nif len(entries) % 2 !\u003d 0:\n    entries.append(\u0027\u0027)\n\n# Create a DataFrame with two columns: \u0027Entry\u0027 and \u0027Definition\u0027\ndata \u003d {\u0027Entry\u0027: entries[0::2], \u0027Definition\u0027: entries[1::2]}\ndf \u003d pd.DataFrame(data)\ndf"
      ],
      "outputs": []
    },
    {
      "execution_count": 0,
      "cell_type": "code",
      "metadata": {},
      "source": [
        "dale_crane_dic_df \u003d pd.DataFrame({\"entry\":list(df[\"Definition\"][0:1870]),\"definition\":list(df[\"Entry\"][1:1871])})"
      ],
      "outputs": []
    },
    {
      "execution_count": 0,
      "cell_type": "code",
      "metadata": {},
      "source": [
        "# Write recipe outputs\ndale_crane_dic \u003d dataiku.Dataset(\"dale_crane_dic\")\ndale_crane_dic.write_with_schema(dale_crane_dic_df)"
      ],
      "outputs": []
    }
  ]
}