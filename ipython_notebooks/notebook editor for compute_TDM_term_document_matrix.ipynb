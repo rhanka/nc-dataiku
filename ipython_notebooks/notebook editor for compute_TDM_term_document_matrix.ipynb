{
  "nbformat": 4,
  "nbformat_minor": 0,
  "metadata": {
    "kernelspec": {
      "display_name": "Python (env markitdown)",
      "language": "python",
      "name": "py-dku-venv-markitdown"
    },
    "associatedRecipe": "compute_TDM_term_document_matrix",
    "dkuGit": {
      "lastInteraction": 0
    },
    "creationTag": {
      "versionNumber": 0,
      "lastModifiedBy": {
        "login": "ludovic.bocken@cgi.com"
      },
      "lastModifiedOn": 1738596594567
    },
    "creator": "ludovic.bocken@cgi.com",
    "createdOn": 1738596594567,
    "tags": [
      "recipe-editor"
    ],
    "customFields": {}
  },
  "cells": [
    {
      "cell_type": "code",
      "metadata": {},
      "outputs": [],
      "execution_count": 0,
      "source": [
        "# -*- coding: utf-8 -*-\n",
        "import dataiku\n",
        "import pandas as pd\n",
        "import numpy as np\n",
        "from dataiku import pandasutils as pdu\n",
        "from sklearn.feature_extraction.text import CountVectorizer"
      ]
    },
    {
      "cell_type": "code",
      "metadata": {},
      "outputs": [],
      "execution_count": 0,
      "source": [
        "# Read recipe inputs\n",
        "A220_tech_docs_text \u003d dataiku.Folder(\"rhnW9xGx\")\n",
        "A220_tech_docs_text_info \u003d A220_tech_docs_text.get_info()\n",
        "\n",
        "# Assuming the text data is stored in files within the folder\n",
        "file_paths \u003d A220_tech_docs_text.list_paths_in_partition()\n",
        "\n",
        "# Read the content of each file into a list\n",
        "documents \u003d []\n",
        "for file_path in file_paths:\n",
        "    with A220_tech_docs_text.get_download_stream(file_path) as f:\n",
        "        documents.append(f.read().decode(\u0027utf-8\u0027))\n",
        "\n",
        "# Compute recipe outputs\n",
        "# Create a CountVectorizer to convert the text data to a term-document matrix\n",
        "vectorizer \u003d CountVectorizer()\n",
        "X \u003d vectorizer.fit_transform(documents)\n",
        "\n",
        "# Convert the sparse matrix to a DataFrame\n",
        "TDM_term_document_matrix_df \u003d pd.DataFrame(X.toarray(), columns\u003dvectorizer.get_feature_names_out(), index\u003dfile_paths)"
      ]
    },
    {
      "cell_type": "code",
      "metadata": {},
      "outputs": [],
      "execution_count": 0,
      "source": [
        "# Write recipe outputs\n",
        "TDM_term_document_matrix \u003d dataiku.Dataset(\"TDM_term_document_matrix\")\n",
        "TDM_term_document_matrix.write_with_schema(TDM_term_document_matrix_df)"
      ]
    }
  ]
}