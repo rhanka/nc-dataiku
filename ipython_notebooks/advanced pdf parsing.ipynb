{
  "metadata": {
    "kernelspec": {
      "name": "py-dku-venv-markitdown",
      "display_name": "Python (env markitdown)",
      "language": "python"
    },
    "hide_input": false,
    "language_info": {
      "name": "python",
      "version": "3.11.11",
      "mimetype": "text/x-python",
      "codemirror_mode": {
        "name": "ipython",
        "version": 3
      },
      "pygments_lexer": "ipython3",
      "nbconvert_exporter": "python",
      "file_extension": ".py"
    },
    "modifiedBy": "fabien.antoine@cgi.com",
    "tags": [],
    "creator": "fabien.antoine@cgi.com",
    "createdOn": 1735511189476,
    "customFields": {}
  },
  "nbformat": 4,
  "nbformat_minor": 1,
  "cells": [
    {
      "execution_count": 0,
      "cell_type": "code",
      "metadata": {},
      "source": [
        "# -*- coding: utf-8 -*-\nimport dataiku\nimport os\nfrom markitdown import MarkItDown\nimport tempfile\nimport openai\nfrom openai import OpenAI\nfrom unstructured.partition.pdf import partition_pdf\nfrom PIL import Image"
      ],
      "outputs": []
    },
    {
      "execution_count": 0,
      "cell_type": "code",
      "metadata": {},
      "source": [
        "openai_client \u003d OpenAI(api_key\u003d\"xxx\")\nmd \u003d MarkItDown(llm_client\u003dopenai_client, llm_model\u003d\"gpt-4o\")\n\nclient \u003d dataiku.api_client()\nproject \u003d client.get_default_project()\nllm_list \u003d project.list_llms()\nfor llm in llm_list:\n    print(f\"- {llm.description} (id: {llm.id})\")\nllm \u003d project.get_llm(\"openai:OpenAI-FA:gpt-4o-mini\")"
      ],
      "outputs": []
    },
    {
      "execution_count": 0,
      "cell_type": "code",
      "metadata": {},
      "source": [
        "# Folders\nA220_tech_docs \u003d dataiku.Folder(\"SoQWOnhR\")          # Input folder\nA220_tech_docs_prep \u003d dataiku.Folder(\"AXB1Cyno\")    # Output folder\n\n# Lister les fichiers PDF\npdf_files \u003d [f for f in A220_tech_docs.list_paths_in_partition() if f.lower().endswith(\".pdf\") ]\npdf_files \u003d [f for f in A220_tech_docs.list_paths_in_partition() if f.lower().endswith(\".pdf\") and \"hydro\" in f.lower()]\nprint(pdf_files)"
      ],
      "outputs": []
    },
    {
      "execution_count": 0,
      "cell_type": "code",
      "metadata": {},
      "source": [
        "prompt_image \u003d \"Describe shortly this image given the context of the pdf.\"\n\n\ndef prompt_image_with_context(summary, image_context):\n    return (\n        \"The aim is to describe an image extracted from a pdf document.\"\n        \"I will first provide you a short summary of a document\"\n        \"Then the text then a context for the image\"\n        \"Before you execute the description\"\n        \"\\n\"\n        \"# Summary\"\n        f\"{summary}\"\n        \"\\n\"\n        \"# Image context\"\n        f\"{image_context}\"\n        \"\\n\"\n        \"# Execute the description\\n\"\n        f\"{prompt_image}\\n\"\n    )\n\ndef comment_image_with_llm(image_path):\n    with open(image_path, \"rb\") as img_file:\n        response \u003d openai.Image.create(file\u003dimg_file, prompt\u003dpromt_image)\n    return response.get(\"description\", \"No description.\")"
      ],
      "outputs": []
    },
    {
      "execution_count": 0,
      "cell_type": "code",
      "metadata": {},
      "source": [
        "def pdf_2_md(file):\n    # Convertir en Markdown\n    md_content \u003d md.convert(temp_pdf.name)\n    \n    # Afficher le nombre de lignes dans le contenu Markdown\n    num_lines \u003d len(md_content.text_content.splitlines())\n    print(f\"Nombre de lignes : {num_lines}\")\n    \n    return md_content.text_content\n\n\n\ndef pdf_2_md_with_images(pdf_path):\n    # Extraire le contenu structuré\n    elements \u003d partition_pdf(filename\u003dpdf_path)\n    markdown_output \u003d \"\"\n\n    # Parcourir les éléments extraits\n    for element in elements:\n        if element.type \u003d\u003d \"Text\":\n            markdown_output +\u003d f\"{element.text}\\n\\n\"\n        elif element.type \u003d\u003d \"Image\":\n            # Sauvegarder l\u0027image\n            image_path \u003d f\"{element.id}.png\"\n            with A220_tech_docs_prep.get_writer(image_path) as writer:\n                writer.write(element.content)\n\n            # Ajouter une référence Markdown à l\u0027image\n            markdown_output +\u003d f\"![Image](./{os.path.basename(image_path)})\\n\"\n\n            # Ajouter un commentaire généré par le LLM\n            comment \u003d comment_image_with_llm(image_path)\n            markdown_output +\u003d f\"\u003e _Commentaire sur l\u0027image : {comment}_\\n\\n\"\n\n    return markdown_output\n\nprompt_summarization \u003d \"Summarize the content of the following file content in one small paragraph:\\n\"\n\ndef summarize_with_llm(md_text):\n    # Create and run a completion query\n    completion \u003d llm.new_completion()\n    prompt \u003d (\n        f\"{prompt_summarization}\\n\"\n        f\"# File Content\\n\"\n        f\"{md_text}\"\n    )\n    completion.with_message(prompt[:10000])\n    resp \u003d completion.execute()\n\n    # Display the LLM output\n    if resp.success:\n        return resp.text\n    else:\n        print(dir(resp))\n        return resp.text"
      ],
      "outputs": []
    },
    {
      "execution_count": 0,
      "cell_type": "code",
      "metadata": {},
      "source": [
        "for pdf_file in pdf_files:\n    # Lire le contenu PDF\n    with A220_tech_docs.get_download_stream(pdf_file) as f:\n        pdf_data \u003d f.read()\n\n        # Utiliser un fichier temporaire pour la conversion\n        with tempfile.NamedTemporaryFile(delete\u003dTrue, suffix\u003d\".pdf\") as temp_pdf:\n            temp_pdf.write(pdf_data)\n            temp_pdf.flush()  # Assurez-vous que le contenu est écrit sur le disque\n\n            #md_text \u003d pdf_2_md(temp_pdf.name)\n            \n            md_text \u003d pdf_2_md_with_images(temp_pdf.name)\n            \n            # Écrire le fichier .md\n            md_file_name \u003d os.path.splitext(pdf_file)[0] + \".md\"\n            with A220_tech_docs_prep.get_writer(md_file_name) as writer:\n                writer.write(md_text.encode(\u0027utf-8\u0027))\n\nprint(llm)\nprint(summarize_with_llm(md_text))"
      ],
      "outputs": []
    },
    {
      "execution_count": 0,
      "cell_type": "code",
      "metadata": {},
      "source": [
        ""
      ],
      "outputs": []
    }
  ]
}