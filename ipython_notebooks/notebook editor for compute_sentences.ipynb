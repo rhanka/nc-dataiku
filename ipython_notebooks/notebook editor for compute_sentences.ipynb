{
  "metadata": {
    "kernelspec": {
      "name": "py-dku-venv-markitdown",
      "display_name": "Python (env markitdown)",
      "language": "python"
    },
    "hide_input": false,
    "language_info": {
      "name": "python",
      "version": "3.11.11",
      "mimetype": "text/x-python",
      "codemirror_mode": {
        "name": "ipython",
        "version": 3
      },
      "pygments_lexer": "ipython3",
      "nbconvert_exporter": "python",
      "file_extension": ".py"
    },
    "tags": [
      "recipe-editor"
    ],
    "createdOn": 1738601047761,
    "customFields": {},
    "associatedRecipe": "compute_sentences",
    "creator": "ludovic.bocken@cgi.com",
    "modifiedBy": "ludovic.bocken@cgi.com"
  },
  "nbformat": 4,
  "nbformat_minor": 1,
  "cells": [
    {
      "execution_count": 0,
      "cell_type": "code",
      "metadata": {},
      "source": [
        "# -*- coding: utf-8 -*-\nimport dataiku\nimport pandas as pd, numpy as np\nfrom dataiku import pandasutils as pdu\n\n# Read recipe inputs\nA220_tech_docs_text \u003d dataiku.Folder(\"rhnW9xGx\")\nA220_tech_docs_text_info \u003d A220_tech_docs_text.get_info()\n\n# Assuming the folder contains text files, we can read them into a DataFrame\nimport os"
      ],
      "outputs": []
    },
    {
      "execution_count": 0,
      "cell_type": "code",
      "metadata": {},
      "source": [
        "# -*- coding: utf-8 -*-\nimport dataiku\nimport pandas as pd\nimport numpy as np\nfrom dataiku import pandasutils as pdu\nimport nltk\nnltk.download(\u0027punkt\u0027)\nfrom nltk.tokenize import sent_tokenize\n\n# Read recipe inputs\nA220_tech_docs_text \u003d dataiku.Folder(\"rhnW9xGx\")\nA220_tech_docs_text_info \u003d A220_tech_docs_text.get_info()\n\n# Assuming the folder contains text files, we can read them into a DataFrame\nimport os\n\nfile_paths \u003d A220_tech_docs_text.list_paths_in_partition()\ntexts \u003d []\n\nfor file_path in file_paths:\n    with A220_tech_docs_text.get_download_stream(file_path) as f:\n        texts.append(f.read().decode(\u0027utf-8\u0027))\n\n# Extract sentences from the texts\nsentences \u003d []\nfor text in texts:\n    text \u003d text.replace(\"\\x0c\", \"\\n\")\n    text \u003d text.strip()\n    sentences.extend(sent_tokenize(text))\n\n# Create a DataFrame from the sentences\nsentences_df \u003d pd.DataFrame({\u0027sentence\u0027: sentences})\n\n# Splitting sentences by newline character\nsentences_df[\u0027sentence\u0027] \u003d sentences_df[\u0027sentence\u0027].apply(lambda x: x.split(\u0027\\n\u0027))\n# Stripping whitespace from each sentence\nexploded_df \u003d sentences_df.explode(\u0027sentence\u0027)\nexploded_df \u003d exploded_df.drop_duplicates()\nexploded_df[\u0027sentence\u0027] \u003d exploded_df[\u0027sentence\u0027].apply(lambda x: x.strip() if isinstance(x, str) else x)\nexploded_df[\u0027sentence\u0027].replace(\u0027\u0027, np.nan, inplace\u003dTrue)\nexploded_df \u003d exploded_df.dropna().reset_index(drop\u003dTrue)\nclean_sentences_df \u003d exploded_df\n"
      ],
      "outputs": []
    },
    {
      "execution_count": 0,
      "cell_type": "code",
      "metadata": {},
      "source": [
        "# -*- coding: utf-8 -*-\nimport dataiku\nimport pandas as pd\nimport numpy as np\nfrom dataiku import pandasutils as pdu\nimport spacy\n\n# Load the spaCy model\nnlp \u003d spacy.load(\u0027en_core_web_sm\u0027)\n\n# Increase the maximum length limit\nnlp.max_length \u003d 3000000  # Adjust this value as needed\n\n# Read recipe inputs\nA220_tech_docs_text \u003d dataiku.Folder(\"rhnW9xGx\")\nA220_tech_docs_text_info \u003d A220_tech_docs_text.get_info()\n\n# Assuming the folder contains text files, we can read them into a DataFrame\nimport os\n\nfile_paths \u003d A220_tech_docs_text.list_paths_in_partition()\ntexts \u003d []\n\nfor file_path in file_paths:\n    with A220_tech_docs_text.get_download_stream(file_path) as f:\n        texts.append(f.read().decode(\u0027utf-8\u0027))\n\n# Extract sentences from the texts using spaCy\nsentences \u003d []\nfor text in texts:\n    text \u003d text.replace(\"\\x0c\", \"\\n\")\n    text \u003d text.strip()\n    doc \u003d nlp(text)\n    sentences.extend([sent.text for sent in doc.sents])\n\n# Create a DataFrame from the sentences\nsentences_df \u003d pd.DataFrame({\u0027sentence\u0027: sentences})\n\n# Splitting sentences by newline character\nsentences_df[\u0027sentence\u0027] \u003d sentences_df[\u0027sentence\u0027].apply(lambda x: x.split(\u0027\\n\u0027))\n\n# Exploding the lists into separate rows\nexploded_df \u003d sentences_df.explode(\u0027sentence\u0027)\n\n# Dropping duplicates\nexploded_df \u003d exploded_df.drop_duplicates()\n\n# Stripping whitespace from each sentence\nexploded_df[\u0027sentence\u0027] \u003d exploded_df[\u0027sentence\u0027].apply(lambda x: x.strip() if isinstance(x, str) else x)\n\n# Dropping empty rows\nexploded_df[\u0027sentence\u0027].replace(\u0027\u0027, np.nan, inplace\u003dTrue)\nexploded_df \u003d exploded_df.dropna().reset_index(drop\u003dTrue)\n\nclean_sentences_df \u003d exploded_df\n\nprint(clean_sentences_df)\n"
      ],
      "outputs": []
    },
    {
      "execution_count": 0,
      "cell_type": "code",
      "metadata": {},
      "source": [
        "clean_sentences_df"
      ],
      "outputs": []
    },
    {
      "execution_count": 0,
      "cell_type": "code",
      "metadata": {},
      "source": [
        "# Write recipe outputs\nsentences \u003d dataiku.Dataset(\"sentences\")\nsentences.write_with_schema(sentences_df)"
      ],
      "outputs": []
    },
    {
      "execution_count": 0,
      "cell_type": "code",
      "metadata": {},
      "source": [
        "import spacy\n\n# Install the spaCy model\nimport subprocess\nsubprocess.run([\"python\", \"-m\", \"spacy\", \"download\", \"en_core_web_sm\"])"
      ],
      "outputs": []
    },
    {
      "execution_count": 0,
      "cell_type": "code",
      "metadata": {},
      "source": [
        "import subprocess\n\n# Install spaCy\nsubprocess.run([\"pip\", \"install\", \"spacy\"])\n\n# Install the spaCy model\nsubprocess.run([\"python\", \"-m\", \"spacy\", \"download\", \"en_core_web_sm\"])"
      ],
      "outputs": []
    },
    {
      "execution_count": 0,
      "cell_type": "code",
      "metadata": {},
      "source": [
        "pip install spacy"
      ],
      "outputs": []
    },
    {
      "execution_count": 0,
      "cell_type": "code",
      "metadata": {},
      "source": [
        "import spacy\nspacy.cli.download(\u0027en_core_web_sm\u0027)"
      ],
      "outputs": []
    },
    {
      "execution_count": 0,
      "cell_type": "code",
      "metadata": {},
      "source": [
        ""
      ],
      "outputs": []
    }
  ]
}