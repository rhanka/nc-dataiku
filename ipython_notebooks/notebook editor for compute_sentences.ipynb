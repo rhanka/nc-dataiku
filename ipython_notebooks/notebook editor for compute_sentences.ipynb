{
  "metadata": {
    "kernelspec": {
      "name": "py-dku-containerized-venv-markitdown-scw-fa",
      "display_name": "Python in SCW-FA (env markitdown)",
      "language": "python"
    },
    "hide_input": false,
    "language_info": {
      "name": "python",
      "version": "3.11.10",
      "mimetype": "text/x-python",
      "codemirror_mode": {
        "name": "ipython",
        "version": 3
      },
      "pygments_lexer": "ipython3",
      "nbconvert_exporter": "python",
      "file_extension": ".py"
    },
    "dkuGit": {
      "lastInteraction": 0
    },
    "createdOn": 1738601047761,
    "creator": "ludovic.bocken@cgi.com",
    "associatedRecipe": "compute_sentences",
    "creationTag": {
      "versionNumber": 0,
      "lastModifiedBy": {
        "login": "ludovic.bocken@cgi.com"
      },
      "lastModifiedOn": 1738601047761
    },
    "tags": [
      "recipe-editor"
    ],
    "customFields": {},
    "modifiedBy": "ludovic.bocken@cgi.com"
  },
  "nbformat": 4,
  "nbformat_minor": 1,
  "cells": [
    {
      "cell_type": "markdown",
      "metadata": {},
      "source": [
        "# Import libraries"
      ]
    },
    {
      "execution_count": 0,
      "cell_type": "code",
      "metadata": {},
      "source": [
        "# -*- coding: utf-8 -*-\nimport dataiku\nimport pandas as pd\nimport numpy as np\nfrom dataiku import pandasutils as pdu\nimport nltk\nnltk.download(\u0027punkt\u0027)\nnltk.download(\u0027punkt_tab\u0027)\nfrom nltk.tokenize import sent_tokenize\nimport spacy\nimport os\n"
      ],
      "outputs": []
    },
    {
      "cell_type": "markdown",
      "metadata": {},
      "source": [
        "# Read recipe inputs"
      ]
    },
    {
      "cell_type": "markdown",
      "metadata": {},
      "source": [
        "## Get corpus"
      ]
    },
    {
      "execution_count": 0,
      "cell_type": "code",
      "metadata": {},
      "source": [
        "A220_tech_docs_text \u003d dataiku.Folder(\"rhnW9xGx\")\nA220_tech_docs_text_info \u003d A220_tech_docs_text.get_info()"
      ],
      "outputs": []
    },
    {
      "execution_count": 0,
      "cell_type": "code",
      "metadata": {},
      "source": [
        "# Assuming the folder contains text files, we can read them into a DataFrame\n\nfile_paths \u003d A220_tech_docs_text.list_paths_in_partition()\ntexts \u003d []\n\nfor file_path in file_paths:\n    with A220_tech_docs_text.get_download_stream(file_path) as f:\n        texts.append(f.read().decode(\u0027utf-8\u0027))"
      ],
      "outputs": []
    },
    {
      "execution_count": 0,
      "cell_type": "code",
      "metadata": {},
      "source": [
        "# Extract sentences from the texts\nsentences \u003d []\nfor text in texts:\n    text \u003d text.replace(\"\\x0c\", \"\\n\")\n    text \u003d text.strip()\n    sentences.extend(sent_tokenize(text))\n\n# Create a DataFrame from the sentences\nsentences_df \u003d pd.DataFrame({\u0027sentence\u0027: sentences})\n\n# Splitting sentences by newline character\nsentences_df[\u0027sentence\u0027] \u003d sentences_df[\u0027sentence\u0027].apply(lambda x: x.split(\u0027\\n\u0027))\n# Stripping whitespace from each sentence\nexploded_df \u003d sentences_df.explode(\u0027sentence\u0027)\nexploded_df \u003d exploded_df.drop_duplicates()\nexploded_df[\u0027sentence\u0027] \u003d exploded_df[\u0027sentence\u0027].apply(lambda x: x.strip() if isinstance(x, str) else x)\nexploded_df[\u0027sentence\u0027].replace(\u0027\u0027, np.nan, inplace\u003dTrue)\nexploded_df \u003d exploded_df.dropna().reset_index(drop\u003dTrue)\nclean_sentences_according_to_nltk_df \u003d exploded_df"
      ],
      "outputs": []
    },
    {
      "execution_count": 0,
      "cell_type": "code",
      "metadata": {},
      "source": [
        "clean_sentences_according_to_nltk_df"
      ],
      "outputs": []
    },
    {
      "execution_count": 0,
      "cell_type": "code",
      "metadata": {},
      "source": [
        "# Load the spaCy model\nnlp \u003d spacy.load(\u0027en_core_web_sm\u0027)\n\n# Function to refine sentences and add POS tags\ndef refine_sentences_with_pos(df, column_name):\n    refined_sentences \u003d []\n    pos_sentences \u003d []\n    for sentence in df[column_name]:\n        doc \u003d nlp(sentence)\n        refined_sentences.extend([sent.text for sent in doc.sents])\n        pos_sentences.extend([\u0027 \u0027.join([token.pos_ for token in sent]) for sent in doc.sents])\n    return pd.DataFrame({column_name: refined_sentences, \u0027POS_sentence\u0027: pos_sentences})\n\n# Refine the sentences and add POS tags to the DataFrame\nrefined_df \u003d refine_sentences_with_pos(clean_sentences_according_to_nltk_df, \u0027sentence\u0027)"
      ],
      "outputs": []
    },
    {
      "execution_count": 0,
      "cell_type": "code",
      "metadata": {},
      "source": [
        "refined_df"
      ],
      "outputs": []
    },
    {
      "execution_count": 0,
      "cell_type": "code",
      "metadata": {},
      "source": [
        "valid_sentences_df \u003d refined_df[refined_df[\"POS_sentence\"].str.contains(\"VERB\")]\nvalid_sentences_df \u003d valid_sentences_df[valid_sentences_df[\"POS_sentence\"].str.endswith(\"PUNCT\")]"
      ],
      "outputs": []
    },
    {
      "execution_count": 0,
      "cell_type": "code",
      "metadata": {},
      "source": [
        "valid_sentences_df"
      ],
      "outputs": []
    },
    {
      "execution_count": 0,
      "cell_type": "code",
      "metadata": {},
      "source": [
        "# Write recipe outputs\nsentences \u003d dataiku.Dataset(\"sentences\")\nsentences.write_with_schema(valid_sentences_df)"
      ],
      "outputs": []
    }
  ]
}