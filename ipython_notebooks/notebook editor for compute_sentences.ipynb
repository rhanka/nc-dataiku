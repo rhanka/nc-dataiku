{
  "nbformat": 4,
  "nbformat_minor": 0,
  "metadata": {
    "kernelspec": {
      "display_name": "Python (env markitdown)",
      "language": "python",
      "name": "py-dku-venv-markitdown"
    },
    "associatedRecipe": "compute_sentences",
    "creator": "ludovic.bocken@cgi.com",
    "createdOn": 1738601047761,
    "tags": [
      "recipe-editor"
    ],
    "customFields": {}
  },
  "cells": [
    {
      "cell_type": "code",
      "metadata": {},
      "outputs": [],
      "execution_count": 0,
      "source": [
        "# -*- coding: utf-8 -*-\n",
        "import dataiku\n",
        "import pandas as pd, numpy as np\n",
        "from dataiku import pandasutils as pdu\n",
        "\n",
        "# Read recipe inputs\n",
        "A220_tech_docs_text \u003d dataiku.Folder(\"rhnW9xGx\")\n",
        "A220_tech_docs_text_info \u003d A220_tech_docs_text.get_info()\n",
        "\n",
        "# Assuming the folder contains text files, we can read them into a DataFrame\n",
        "import os\n",
        "\n",
        "file_paths \u003d A220_tech_docs_text.list_paths_in_partition()\n",
        "texts \u003d []\n",
        "\n",
        "for file_path in file_paths:\n",
        "    with A220_tech_docs_text.get_download_stream(file_path) as f:\n",
        "        texts.append(f.read().decode(\u0027utf-8\u0027))\n",
        "\n",
        "# Create a DataFrame from the texts\n",
        "sentences_df \u003d pd.DataFrame({\u0027text\u0027: texts})\n",
        "\n",
        "# Write recipe outputs\n",
        "sentences \u003d dataiku.Dataset(\"sentences\")\n",
        "sentences.write_with_schema(sentences_df)"
      ]
    }
  ]
}