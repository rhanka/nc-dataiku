{
  "metadata": {
    "kernelspec": {
      "name": "py-dku-venv-markitdown",
      "display_name": "Python (env markitdown)",
      "language": "python"
    },
    "hide_input": false,
    "language_info": {
      "name": "python",
      "version": "3.11.11",
      "mimetype": "text/x-python",
      "codemirror_mode": {
        "name": "ipython",
        "version": 3
      },
      "pygments_lexer": "ipython3",
      "nbconvert_exporter": "python",
      "file_extension": ".py"
    },
    "associatedRecipe": "compute_sentences",
    "creator": "ludovic.bocken@cgi.com",
    "createdOn": 1738601047761,
    "customFields": {},
    "tags": [
      "recipe-editor"
    ],
    "modifiedBy": "ludovic.bocken@cgi.com"
  },
  "nbformat": 4,
  "nbformat_minor": 1,
  "cells": [
    {
      "execution_count": 0,
      "cell_type": "code",
      "metadata": {},
      "source": [
        "# -*- coding: utf-8 -*-\nimport dataiku\nimport pandas as pd, numpy as np\nfrom dataiku import pandasutils as pdu\n\n# Read recipe inputs\nA220_tech_docs_text \u003d dataiku.Folder(\"rhnW9xGx\")\nA220_tech_docs_text_info \u003d A220_tech_docs_text.get_info()\n\n# Assuming the folder contains text files, we can read them into a DataFrame\nimport os"
      ],
      "outputs": []
    },
    {
      "execution_count": 0,
      "cell_type": "code",
      "metadata": {},
      "source": [
        "# -*- coding: utf-8 -*-\nimport dataiku\nimport pandas as pd\nimport numpy as np\nfrom dataiku import pandasutils as pdu\nimport nltk\nnltk.download(\u0027punkt\u0027)\nfrom nltk.tokenize import sent_tokenize\n\n# Read recipe inputs\nA220_tech_docs_text \u003d dataiku.Folder(\"rhnW9xGx\")\nA220_tech_docs_text_info \u003d A220_tech_docs_text.get_info()\n\n# Assuming the folder contains text files, we can read them into a DataFrame\nimport os\n\nfile_paths \u003d A220_tech_docs_text.list_paths_in_partition()\ntexts \u003d []\n\nfor file_path in file_paths:\n    with A220_tech_docs_text.get_download_stream(file_path) as f:\n        texts.append(f.read().decode(\u0027utf-8\u0027))\n\n# Extract sentences from the texts\nsentences \u003d []\nfor text in texts:\n    sentences.extend(sent_tokenize(text))\n\n# Create a DataFrame from the sentences\nsentences_df \u003d pd.DataFrame({\u0027sentence\u0027: sentences})"
      ],
      "outputs": []
    },
    {
      "execution_count": 0,
      "cell_type": "code",
      "metadata": {},
      "source": [
        "sentences_df[\"sentence\"].split(\"\\n\")"
      ],
      "outputs": []
    },
    {
      "execution_count": 0,
      "cell_type": "code",
      "metadata": {},
      "source": [
        "sentences_df[0:1].values"
      ],
      "outputs": []
    },
    {
      "execution_count": 0,
      "cell_type": "code",
      "metadata": {},
      "source": [
        "# -*- coding: utf-8 -*-\nimport dataiku\nimport pandas as pd\nimport numpy as np\nfrom dataiku import pandasutils as pdu\nimport nltk\nnltk.download(\u0027punkt\u0027)\nfrom nltk.tokenize import sent_tokenize\n\n# Read recipe inputs\nA220_tech_docs_text \u003d dataiku.Folder(\"rhnW9xGx\")\nA220_tech_docs_text_info \u003d A220_tech_docs_text.get_info()\n\n# Assuming the folder contains text files, we can read them into a DataFrame\nimport os\n\nfile_paths \u003d A220_tech_docs_text.list_paths_in_partition()\ntexts \u003d []\n\nfor file_path in file_paths:\n    with A220_tech_docs_text.get_download_stream(file_path) as f:\n        texts.append(f.read().decode(\u0027utf-8\u0027))\n\n# Extract sentences from the texts\nsentences \u003d []\nfor text in texts:\n    # Split text by newlines first\n    lines \u003d text.split(\u0027\\n\u0027)\n    for line in lines:\n        # Further split each line into sentences\n        sentences \u003d sent_tokenize(line)\n\n# Create a DataFrame from the sentences\nsentences_df \u003d pd.DataFrame({\u0027sentence\u0027: sentences})\n"
      ],
      "outputs": []
    },
    {
      "execution_count": 0,
      "cell_type": "code",
      "metadata": {},
      "source": [
        "# Write recipe outputs\nsentences \u003d dataiku.Dataset(\"sentences\")\nsentences.write_with_schema(sentences_df)"
      ],
      "outputs": []
    },
    {
      "execution_count": 0,
      "cell_type": "code",
      "metadata": {},
      "source": [
        ""
      ],
      "outputs": []
    }
  ]
}