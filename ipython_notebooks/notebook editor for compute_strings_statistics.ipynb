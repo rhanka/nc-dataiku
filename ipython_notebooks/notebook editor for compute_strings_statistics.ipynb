{
  "nbformat": 4,
  "nbformat_minor": 0,
  "metadata": {
    "kernelspec": {
      "display_name": "Python (env markitdown)",
      "language": "python",
      "name": "py-dku-venv-markitdown"
    },
    "associatedRecipe": "compute_strings_statistics",
    "creator": "ludovic.bocken@cgi.com",
    "createdOn": 1738594642867,
    "tags": [
      "recipe-editor"
    ],
    "customFields": {}
  },
  "cells": [
    {
      "cell_type": "code",
      "metadata": {},
      "outputs": [],
      "execution_count": 0,
      "source": [
        "# -*- coding: utf-8 -*-\n",
        "import dataiku\n",
        "import pandas as pd, numpy as np\n",
        "from dataiku import pandasutils as pdu\n",
        "\n",
        "# Read recipe inputs\n",
        "A220_tech_docs_text \u003d dataiku.Folder(\"rhnW9xGx\")\n",
        "A220_tech_docs_text_info \u003d A220_tech_docs_text.get_info()\n",
        "\n",
        "\n",
        "# Compute recipe outputs\n",
        "# TODO: Write here your actual code that computes the outputs\n",
        "# NB: DSS supports several kinds of APIs for reading and writing data. Please see doc.\n",
        "\n",
        "strings_statistics_df \u003d ... # Compute a Pandas dataframe to write into strings_statistics\n",
        "\n",
        "\n",
        "# Write recipe outputs\n",
        "strings_statistics \u003d dataiku.Dataset(\"strings_statistics\")\n",
        "strings_statistics.write_with_schema(strings_statistics_df)"
      ]
    }
  ]
}