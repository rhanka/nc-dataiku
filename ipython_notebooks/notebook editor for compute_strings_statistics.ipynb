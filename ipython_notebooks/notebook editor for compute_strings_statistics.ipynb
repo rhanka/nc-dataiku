{
  "metadata": {
    "kernelspec": {
      "name": "py-dku-venv-markitdown",
      "display_name": "Python (env markitdown)",
      "language": "python"
    },
    "hide_input": false,
    "language_info": {
      "name": "python",
      "version": "3.11.11",
      "mimetype": "text/x-python",
      "codemirror_mode": {
        "name": "ipython",
        "version": 3
      },
      "pygments_lexer": "ipython3",
      "nbconvert_exporter": "python",
      "file_extension": ".py"
    },
    "modifiedBy": "ludovic.bocken@cgi.com",
    "associatedRecipe": "compute_strings_statistics",
    "creator": "ludovic.bocken@cgi.com",
    "createdOn": 1738594642867,
    "customFields": {},
    "tags": [
      "recipe-editor"
    ]
  },
  "nbformat": 4,
  "nbformat_minor": 1,
  "cells": [
    {
      "execution_count": 0,
      "cell_type": "code",
      "metadata": {},
      "source": [
        "# -*- coding: utf-8 -*-\nimport dataiku\nimport pandas as pd\nfrom collections import Counter\nimport string\n\n# Read recipe inputs\nA220_tech_docs_text \u003d dataiku.Folder(\"rhnW9xGx\")\nA220_tech_docs_text_info \u003d A220_tech_docs_text.get_info()"
      ],
      "outputs": []
    },
    {
      "execution_count": 0,
      "cell_type": "code",
      "metadata": {},
      "source": [
        "# Function to split text into strings, remove punctuation, convert to lowercase, and compute occurrences\ndef compute_string_frequencies(text, document_id):\n    # Remove punctuation and convert to lowercase\n    text \u003d text.translate(str.maketrans(\u0027\u0027, \u0027\u0027, string.punctuation)).lower()\n    words \u003d text.split()\n    word_counts \u003d Counter(words)\n    data \u003d [{\"document_id\": document_id, \"string\": word, \"frequency\": count} for word, count in word_counts.items()]\n    return data\n\n# Initialize an empty list to store the data\ndata \u003d []\n\n# Get the list of file paths in the folder\nfile_paths \u003d A220_tech_docs_text.list_paths_in_partition()\n\n# Iterate over each file path\nfor document_id, file_path in enumerate(file_paths, start\u003d1):\n    # Read the content of the file\n    with A220_tech_docs_text.get_download_stream(file_path) as f:\n        text \u003d f.read().decode(\u0027utf-8\u0027)\n        # Compute string frequencies\n        file_data \u003d compute_string_frequencies(text, document_id)\n        # Append the data to the list\n        data.extend(file_data)\n\n# Convert the data to a DataFrame\ndf_string_stats \u003d pd.DataFrame(data)\n\n# Display the DataFrame\nprint(df_string_stats)\n"
      ],
      "outputs": []
    },
    {
      "execution_count": 0,
      "cell_type": "code",
      "metadata": {},
      "source": [
        "# Write recipe outputs\nstring_statistics \u003d dataiku.Dataset(\"strings_statistics\")\nstring_statistics.write_with_schema(df_string_stats)"
      ],
      "outputs": []
    },
    {
      "execution_count": 0,
      "cell_type": "code",
      "metadata": {},
      "source": [
        ""
      ],
      "outputs": []
    }
  ]
}