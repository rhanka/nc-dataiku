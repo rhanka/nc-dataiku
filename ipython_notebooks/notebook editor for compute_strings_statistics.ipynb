{
  "metadata": {
    "kernelspec": {
      "name": "py-dku-venv-markitdown",
      "display_name": "Python (env markitdown)",
      "language": "python"
    },
    "hide_input": false,
    "language_info": {
      "name": "python",
      "version": "3.11.11",
      "mimetype": "text/x-python",
      "codemirror_mode": {
        "name": "ipython",
        "version": 3
      },
      "pygments_lexer": "ipython3",
      "nbconvert_exporter": "python",
      "file_extension": ".py"
    },
    "associatedRecipe": "compute_strings_statistics",
    "creator": "ludovic.bocken@cgi.com",
    "createdOn": 1738594642867,
    "customFields": {},
    "tags": [
      "recipe-editor"
    ],
    "modifiedBy": "ludovic.bocken@cgi.com"
  },
  "nbformat": 4,
  "nbformat_minor": 1,
  "cells": [
    {
      "execution_count": 0,
      "cell_type": "code",
      "metadata": {},
      "source": [
        "# -*- coding: utf-8 -*-\nimport dataiku\nimport pandas as pd, numpy as np\nfrom dataiku import pandasutils as pdu\n\n# Read recipe inputs\nA220_tech_docs_text \u003d dataiku.Folder(\"rhnW9xGx\")\nA220_tech_docs_text_info \u003d A220_tech_docs_text.get_info()"
      ],
      "outputs": []
    },
    {
      "execution_count": 0,
      "cell_type": "code",
      "metadata": {},
      "source": [
        "# Function to compute string statistics\ndef compute_string_stats(text):\n    num_uppercase \u003d sum(1 for c in text if c.isupper())\n    num_lowercase \u003d sum(1 for c in text if c.islower())\n    num_digits \u003d sum(1 for c in text if c.isdigit())\n    num_punctuation \u003d sum(1 for c in text if c in \u0027.,;:!?\u0027)\n\n    return pd.Series({\n        \"num_uppercase\": num_uppercase,\n        \"num_lowercase\": num_lowercase,\n        \"num_digits\": num_digits,\n        \"num_punctuation\": num_punctuation\n    })\n\n# Load text data from the folder\nfile_paths \u003d A220_tech_docs_text.list_paths_in_partition()\ndata \u003d []\nfor file_path in file_paths:\n    with A220_tech_docs_text.get_download_stream(file_path) as f:\n        text \u003d f.read().decode(\u0027utf-8\u0027)\n        stats \u003d compute_string_stats(text)\n        stats[\"file_path\"] \u003d file_path\n        data.append(stats)\n\n# Convert to DataFrame\ndf_string_stats \u003d pd.DataFrame(data)"
      ],
      "outputs": []
    },
    {
      "execution_count": 0,
      "cell_type": "code",
      "metadata": {},
      "source": [
        "# Write recipe outputs\nstring_statistics \u003d dataiku.Dataset(\"strings_statistics\")\nstring_statistics.write_with_schema(df_string_stats)"
      ],
      "outputs": []
    }
  ]
}