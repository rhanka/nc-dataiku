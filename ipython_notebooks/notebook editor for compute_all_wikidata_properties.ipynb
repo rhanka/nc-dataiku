{
  "nbformat": 4,
  "nbformat_minor": 0,
  "metadata": {
    "kernelspec": {
      "display_name": "Python 3",
      "language": "python",
      "name": "python3"
    },
    "associatedRecipe": "compute_all_wikidata_properties",
    "dkuGit": {
      "lastInteraction": 0
    },
    "creationTag": {
      "versionNumber": 0,
      "lastModifiedBy": {
        "login": "ludovic.bocken@cgi.com"
      },
      "lastModifiedOn": 1738268118606
    },
    "creator": "ludovic.bocken@cgi.com",
    "createdOn": 1738268118606,
    "tags": [
      "recipe-editor"
    ],
    "customFields": {}
  },
  "cells": [
    {
      "cell_type": "code",
      "metadata": {},
      "outputs": [],
      "execution_count": 0,
      "source": [
        "from SPARQLWrapper import SPARQLWrapper, JSON\n",
        "import pandas as pd\n",
        "import dataiku\n",
        "from dataiku import Dataset\n",
        "\n",
        "# Define SPARQL endpoint\n",
        "sparql \u003d SPARQLWrapper(\"https://query.wikidata.org/sparql\")\n",
        "\n",
        "# Define the SPARQL query\n",
        "query \u003d \"\"\"\n",
        "SELECT ?property ?propertyType ?propertyLabel ?propertyDescription ?propertyAltLabel WHERE {\n",
        "  ?property wikibase:propertyType ?propertyType .\n",
        "  SERVICE wikibase:label { bd:serviceParam wikibase:language \"[AUTO_LANGUAGE],mul,en\". }\n",
        "}\n",
        "ORDER BY ASC(xsd:integer(STRAFTER(STR(?property), \u0027P\u0027)))\n",
        "\"\"\"\n",
        "\n",
        "# Set up the query\n",
        "sparql.setQuery(query)\n",
        "sparql.setReturnFormat(JSON)\n",
        "\n",
        "# Execute the query\n",
        "results \u003d sparql.query().convert()\n",
        "\n",
        "# Extract results into a list of dictionaries\n",
        "data \u003d []\n",
        "for result in results[\"results\"][\"bindings\"]:\n",
        "    data.append({\n",
        "        \"property\": result[\"property\"][\"value\"],\n",
        "        \"propertyType\": result[\"propertyType\"][\"value\"],\n",
        "        \"propertyLabel\": result.get(\"propertyLabel\", {}).get(\"value\", \"\"),\n",
        "        \"propertyDescription\": result.get(\"propertyDescription\", {}).get(\"value\", \"\"),\n",
        "        \"propertyAltLabel\": result.get(\"propertyAltLabel\", {}).get(\"value\", \"\"),\n",
        "    })\n",
        "\n",
        "# Convert to DataFrame\n",
        "df \u003d pd.DataFrame(data)\n",
        "\n",
        "# Save DataFrame to Dataiku dataset\n",
        "dataset_name \u003d \"all_wikidata_properties\"\n",
        "Dataset(dataset_name).write_with_schema(df)"
      ]
    }
  ]
}