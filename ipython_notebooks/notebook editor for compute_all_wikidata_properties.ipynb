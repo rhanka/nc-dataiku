{
  "metadata": {
    "kernelspec": {
      "name": "python3",
      "display_name": "Python 3 (ipykernel)",
      "language": "python"
    },
    "hide_input": false,
    "language_info": {
      "name": "python",
      "version": "3.9.21",
      "mimetype": "text/x-python",
      "codemirror_mode": {
        "name": "ipython",
        "version": 3
      },
      "pygments_lexer": "ipython3",
      "nbconvert_exporter": "python",
      "file_extension": ".py"
    },
    "creator": "ludovic.bocken@cgi.com",
    "tags": [
      "recipe-editor"
    ],
    "createdOn": 1738268118606,
    "associatedRecipe": "compute_all_wikidata_properties",
    "customFields": {},
    "modifiedBy": "ludovic.bocken@cgi.com"
  },
  "nbformat": 4,
  "nbformat_minor": 1,
  "cells": [
    {
      "execution_count": 0,
      "cell_type": "code",
      "metadata": {},
      "source": [
        "from SPARQLWrapper import SPARQLWrapper, JSON\nimport pandas as pd\nimport dataiku\nfrom dataiku import Dataset\n\n# Define SPARQL endpoint\nsparql \u003d SPARQLWrapper(\"https://query.wikidata.org/sparql\")\n\n# Define the SPARQL query\nquery \u003d \"\"\"\nSELECT ?property ?propertyType ?propertyLabel ?propertyDescription ?propertyAltLabel WHERE {\n  ?property wikibase:propertyType ?propertyType .\n  SERVICE wikibase:label { bd:serviceParam wikibase:language \"[AUTO_LANGUAGE],mul,en\". }\n}\nORDER BY ASC(xsd:integer(STRAFTER(STR(?property), \u0027P\u0027)))\n\"\"\"\n\n# Set up the query\nsparql.setQuery(query)\nsparql.setReturnFormat(JSON)\n\n# Execute the query\nresults \u003d sparql.query().convert()\n\n# Extract results into a list of dictionaries\ndata \u003d []\nfor result in results[\"results\"][\"bindings\"]:\n    data.append({\n        \"property\": result[\"property\"][\"value\"],\n        \"propertyType\": result[\"propertyType\"][\"value\"],\n        \"propertyLabel\": result.get(\"propertyLabel\", {}).get(\"value\", \"\"),\n        \"propertyDescription\": result.get(\"propertyDescription\", {}).get(\"value\", \"\"),\n        \"propertyAltLabel\": result.get(\"propertyAltLabel\", {}).get(\"value\", \"\"),\n    })\n\n# Convert to DataFrame\ndf \u003d pd.DataFrame(data)\n\n# Save DataFrame to Dataiku dataset\ndataset_name \u003d \"all_wikidata_properties\"\nDataset(dataset_name).write_with_schema(df)"
      ],
      "outputs": []
    }
  ]
}