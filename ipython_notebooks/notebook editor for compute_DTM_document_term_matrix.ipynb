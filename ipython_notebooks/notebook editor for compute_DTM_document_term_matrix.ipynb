{
  "metadata": {
    "kernelspec": {
      "name": "py-dku-venv-markitdown",
      "display_name": "Python (env markitdown)",
      "language": "python"
    },
    "hide_input": false,
    "language_info": {
      "name": "python",
      "version": "3.11.11",
      "mimetype": "text/x-python",
      "codemirror_mode": {
        "name": "ipython",
        "version": 3
      },
      "pygments_lexer": "ipython3",
      "nbconvert_exporter": "python",
      "file_extension": ".py"
    },
    "associatedRecipe": "compute_DTM_document_term_matrix",
    "creator": "ludovic.bocken@cgi.com",
    "createdOn": 1738596141210,
    "customFields": {},
    "tags": [
      "recipe-editor"
    ],
    "modifiedBy": "ludovic.bocken@cgi.com"
  },
  "nbformat": 4,
  "nbformat_minor": 1,
  "cells": [
    {
      "execution_count": 0,
      "cell_type": "code",
      "metadata": {},
      "source": [
        "# -*- coding: utf-8 -*-\nimport dataiku\nimport pandas as pd\nimport numpy as np\nfrom dataiku import pandasutils as pdu\nfrom sklearn.feature_extraction.text import CountVectorizer"
      ],
      "outputs": []
    },
    {
      "execution_count": 0,
      "cell_type": "code",
      "metadata": {},
      "source": [
        "# Read recipe inputs\nA220_tech_docs_text \u003d dataiku.Folder(\"rhnW9xGx\")\nA220_tech_docs_text_info \u003d A220_tech_docs_text.get_info()\n\n# Assuming the text data is stored in files within the folder\nfile_paths \u003d A220_tech_docs_text.list_paths_in_partition()\n\n# Read the content of each file into a list\ndocuments \u003d []\nfor file_path in file_paths:\n    with A220_tech_docs_text.get_download_stream(file_path) as f:\n        documents.append(f.read().decode(\u0027utf-8\u0027))\n\n# Compute recipe outputs\n# Create a CountVectorizer to convert the text data to a document-term matrix\nvectorizer \u003d CountVectorizer()\nX \u003d vectorizer.fit_transform(documents)\n\n# Convert the sparse matrix to a DataFrame\nDTM_document_term_matrix_df \u003d pd.DataFrame(X.toarray(), columns\u003dvectorizer.get_feature_names_out())"
      ],
      "outputs": []
    },
    {
      "execution_count": 0,
      "cell_type": "code",
      "metadata": {},
      "source": [
        "DTM_document_term_matrix_df"
      ],
      "outputs": []
    },
    {
      "execution_count": 0,
      "cell_type": "code",
      "metadata": {},
      "source": [
        "# Write recipe outputs\nDTM_document_term_matrix \u003d dataiku.Dataset(\"DTM_document_term_matrix\")\nDTM_document_term_matrix.write_with_schema(DTM_document_term_matrix_df)"
      ],
      "outputs": []
    },
    {
      "execution_count": 0,
      "cell_type": "code",
      "metadata": {},
      "source": [
        "pip install scikit-learn"
      ],
      "outputs": []
    },
    {
      "execution_count": 0,
      "cell_type": "code",
      "metadata": {},
      "source": [
        ""
      ],
      "outputs": []
    }
  ]
}