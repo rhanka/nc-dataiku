{
  "nbformat": 4,
  "nbformat_minor": 0,
  "metadata": {
    "kernelspec": {
      "display_name": "Python in SCW-FA (env markitdown)",
      "language": "python",
      "name": "py-dku-containerized-venv-markitdown-scw-fa"
    },
    "associatedRecipe": "compute_corpus_strings_statistics_with_pareto",
    "dkuGit": {
      "lastInteraction": 0
    },
    "creationTag": {
      "versionNumber": 0,
      "lastModifiedBy": {
        "login": "ludovic.bocken@cgi.com"
      },
      "lastModifiedOn": 1738598298893
    },
    "creator": "ludovic.bocken@cgi.com",
    "createdOn": 1738598298893,
    "tags": [
      "recipe-editor"
    ],
    "customFields": {}
  },
  "cells": [
    {
      "cell_type": "code",
      "metadata": {},
      "outputs": [],
      "execution_count": 0,
      "source": [
        "import dataiku\n",
        "import pandas as pd\n",
        "import numpy as np\n",
        "from dataiku import pandasutils as pdu\n",
        "import re\n",
        "import string\n",
        "\n",
        "\n",
        "# Read recipe inputs\n",
        "A220_tech_docs_text \u003d dataiku.Folder(\"rhnW9xGx\")\n",
        "A220_tech_docs_text_info \u003d A220_tech_docs_text.get_info()"
      ]
    },
    {
      "cell_type": "code",
      "metadata": {},
      "outputs": [],
      "execution_count": 0,
      "source": [
        "# Function to read the corpus from the folder and extract strings\n",
        "def read_corpus(folder):\n",
        "    corpus \u003d []\n",
        "    for file_path in folder.list_paths_in_partition():\n",
        "        with folder.get_download_stream(file_path) as f:\n",
        "            text \u003d f.read().decode(\u0027utf-8\u0027)\n",
        "            # Remove punctuation and convert to lowercase before splitting\n",
        "            text \u003d text.translate(str.maketrans(\u0027\u0027, \u0027\u0027, string.punctuation)).lower()\n",
        "            words \u003d text.split()\n",
        "            # Filter out any words containing numbers\n",
        "            words \u003d [word for word in words if not re.search(r\u0027\\d\u0027, word)]\n",
        "            corpus.extend(words)\n",
        "    return corpus\n",
        "\n",
        "corpus \u003d read_corpus(A220_tech_docs_text)\n",
        "\n",
        "# Compute frequency of each string in the corpus\n",
        "frequency \u003d pd.Series(corpus).value_counts().reset_index()\n",
        "frequency.columns \u003d [\u0027string\u0027, \u0027frequency\u0027]\n",
        "\n",
        "# Calculate relative frequency\n",
        "total_count \u003d frequency[\u0027frequency\u0027].sum()\n",
        "frequency[\u0027relative_frequency\u0027] \u003d frequency[\u0027frequency\u0027] / total_count\n",
        "\n",
        "# Rank the strings by frequency\n",
        "frequency[\u0027rank\u0027] \u003d frequency[\u0027frequency\u0027].rank(method\u003d\u0027min\u0027, ascending\u003dFalse)\n",
        "\n",
        "# Sort by string in ascending order before calculating cumulative sum\n",
        "frequency \u003d frequency.sort_values(by\u003d\u0027frequency\u0027, ascending\u003dFalse)\n",
        "\n",
        "# Calculate cumulative sum of frequencies\n",
        "frequency[\u0027cumulative_sum\u0027] \u003d frequency[\u0027frequency\u0027].cumsum()\n",
        "\n",
        "# Calculate pareto as cumulative_sum percentage\n",
        "frequency[\u0027pareto\u0027] \u003d (frequency[\u0027cumulative_sum\u0027] / total_count) * 100\n",
        "\n",
        "# Compute recipe outputs\n",
        "corpus_strings_statistics_with_pareto_df \u003d frequency"
      ]
    },
    {
      "cell_type": "code",
      "metadata": {},
      "outputs": [],
      "execution_count": 0,
      "source": [
        "corpus_strings_statistics_with_pareto_df"
      ]
    },
    {
      "cell_type": "code",
      "metadata": {},
      "outputs": [],
      "execution_count": 0,
      "source": [
        "# Write recipe outputs\n",
        "corpus_strings_statistics_with_pareto \u003d dataiku.Dataset(\"corpus_strings_statistics_with_pareto\")\n",
        "corpus_strings_statistics_with_pareto.write_with_schema(corpus_strings_statistics_with_pareto_df)"
      ]
    }
  ]
}