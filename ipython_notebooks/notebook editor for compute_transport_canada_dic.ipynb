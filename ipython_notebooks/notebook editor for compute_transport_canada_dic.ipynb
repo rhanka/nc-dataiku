{
  "metadata": {
    "kernelspec": {
      "name": "py-dku-containerized-venv-markitdown-scw-fa",
      "display_name": "Python in SCW-FA (env markitdown)",
      "language": "python"
    },
    "hide_input": false,
    "language_info": {
      "name": "python",
      "version": "3.11.10",
      "mimetype": "text/x-python",
      "codemirror_mode": {
        "name": "ipython",
        "version": 3
      },
      "pygments_lexer": "ipython3",
      "nbconvert_exporter": "python",
      "file_extension": ".py"
    },
    "createdOn": 1738783051693,
    "creator": "ludovic.bocken@cgi.com",
    "customFields": {},
    "tags": [
      "recipe-editor"
    ],
    "associatedRecipe": "compute_transport_canada_dic",
    "modifiedBy": "ludovic.bocken@cgi.com"
  },
  "nbformat": 4,
  "nbformat_minor": 1,
  "cells": [
    {
      "cell_type": "markdown",
      "metadata": {},
      "source": [
        "# Import libraries"
      ]
    },
    {
      "execution_count": 0,
      "cell_type": "code",
      "metadata": {},
      "source": [
        "# -*- coding: utf-8 -*-\nimport dataiku\nimport pandas as pd, numpy as np\nfrom dataiku import pandasutils as pdu\nimport re"
      ],
      "outputs": []
    },
    {
      "cell_type": "markdown",
      "metadata": {},
      "source": [
        "# Get data"
      ]
    },
    {
      "execution_count": 0,
      "cell_type": "code",
      "metadata": {},
      "source": [
        "# Read recipe inputs\ndictionaries_of_aviation \u003d dataiku.Dataset(\"dictionaries_of_aviation\")\ndictionaries_of_aviation_df \u003d dictionaries_of_aviation.get_dataframe()"
      ],
      "outputs": []
    },
    {
      "execution_count": 0,
      "cell_type": "code",
      "metadata": {},
      "source": [
        "dictionaries_of_aviation_df"
      ],
      "outputs": []
    },
    {
      "execution_count": 0,
      "cell_type": "code",
      "metadata": {},
      "source": [
        "dictionary \u003d dictionaries_of_aviation_df[\"content\"][1]"
      ],
      "outputs": []
    },
    {
      "execution_count": 0,
      "cell_type": "code",
      "metadata": {},
      "source": [
        "dictionary"
      ],
      "outputs": []
    },
    {
      "execution_count": 0,
      "cell_type": "code",
      "metadata": {},
      "source": [
        "pattern\nentries \u003d re.findall(r\u0027\\n(\\w+)\\s\\n\u0027, dictionary)\nentries"
      ],
      "outputs": []
    },
    {
      "execution_count": 0,
      "cell_type": "code",
      "metadata": {},
      "source": [
        "pattern \u003d r\u0027\\n(\\w+)\\s\\n\u0027\nreplacement \u003d r\u0027[[[\\1]]] /\u0027\ndictionary_with_entries \u003d re.sub(pattern, replacement, clean_dictionary)\ndictionary_with_entries"
      ],
      "outputs": []
    },
    {
      "execution_count": 0,
      "cell_type": "code",
      "metadata": {},
      "source": [
        "# Compute recipe outputs from inputs\n# TODO: Replace this part by your actual code that computes the output, as a Pandas dataframe\n# NB: DSS also supports other kinds of APIs for reading and writing data. Please see doc.\n\ntransport_canada_dic_df \u003d dictionaries_of_aviation_df # For this sample code, simply copy input to output\n\n\n# Write recipe outputs\ntransport_canada_dic \u003d dataiku.Dataset(\"transport_canada_dic\")\ntransport_canada_dic.write_with_schema(transport_canada_dic_df)"
      ],
      "outputs": []
    }
  ]
}