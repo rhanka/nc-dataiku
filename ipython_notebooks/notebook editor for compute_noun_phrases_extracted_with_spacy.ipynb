{
  "metadata": {
    "kernelspec": {
      "name": "py-dku-containerized-venv-markitdown-scw-fa",
      "display_name": "Python in SCW-FA (env markitdown)",
      "language": "python"
    },
    "hide_input": false,
    "language_info": {
      "name": "python",
      "version": "3.11.10",
      "mimetype": "text/x-python",
      "codemirror_mode": {
        "name": "ipython",
        "version": 3
      },
      "pygments_lexer": "ipython3",
      "nbconvert_exporter": "python",
      "file_extension": ".py"
    },
    "createdOn": 1738857882205,
    "creator": "ludovic.bocken@cgi.com",
    "customFields": {},
    "tags": [
      "recipe-editor"
    ],
    "associatedRecipe": "compute_noun_phrases_extracted_with_spacy",
    "modifiedBy": "ludovic.bocken@cgi.com"
  },
  "nbformat": 4,
  "nbformat_minor": 1,
  "cells": [
    {
      "execution_count": 0,
      "cell_type": "code",
      "metadata": {},
      "source": [
        "# -*- coding: utf-8 -*-\nimport dataiku\nimport pandas as pd, numpy as np\nfrom dataiku import pandasutils as pdu\nimport spacy\n\n"
      ],
      "outputs": []
    },
    {
      "execution_count": 0,
      "cell_type": "code",
      "metadata": {},
      "source": [
        "# Load spaCy model\nnlp \u003d spacy.load(\"en_core_web_sm\")"
      ],
      "outputs": []
    },
    {
      "execution_count": 0,
      "cell_type": "code",
      "metadata": {},
      "source": [
        "# Read recipe inputs\ncorpus_for_knowledge_engineering \u003d dataiku.Dataset(\"corpus_for_knowledge_engineering\")\ncorpus_for_knowledge_engineering_df \u003d corpus_for_knowledge_engineering.get_dataframe()\n"
      ],
      "outputs": []
    },
    {
      "execution_count": 0,
      "cell_type": "code",
      "metadata": {},
      "source": [
        "corpus_for_knowledge_engineering_df"
      ],
      "outputs": []
    },
    {
      "execution_count": 0,
      "cell_type": "code",
      "metadata": {},
      "source": [
        "# Function to extract noun phrases\ndef extract_noun_phrases(text):\n    doc \u003d nlp(text)\n    return [chunk.text for chunk in doc.noun_chunks]"
      ],
      "outputs": []
    },
    {
      "execution_count": 0,
      "cell_type": "code",
      "metadata": {},
      "source": [
        "noun_phrases_extracted_with_spacy_df \u003d corpus_for_knowledge_engineering_df[\u0027text\u0027].apply(extract_noun_phrases)"
      ],
      "outputs": []
    },
    {
      "execution_count": 0,
      "cell_type": "code",
      "metadata": {},
      "source": [
        "noun_phrases_extracted_with_spacy_df"
      ],
      "outputs": []
    },
    {
      "execution_count": 0,
      "cell_type": "code",
      "metadata": {},
      "source": [
        "# Write recipe outputs\nnoun_phrases_extracted_with_spacy \u003d dataiku.Dataset(\"noun_phrases_extracted_with_spacy\")\nnoun_phrases_extracted_with_spacy.write_with_schema(noun_phrases_extracted_with_spacy_df)"
      ],
      "outputs": []
    }
  ]
}