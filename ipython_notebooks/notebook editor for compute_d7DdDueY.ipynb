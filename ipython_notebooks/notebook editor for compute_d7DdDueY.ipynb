{
  "metadata": {
    "kernelspec": {
      "name": "py-dku-containerized-venv-markitdown-scw-fa",
      "display_name": "Python in SCW-FA (env markitdown)",
      "language": "python"
    },
    "hide_input": false,
    "language_info": {
      "name": "python",
      "version": "3.11.10",
      "mimetype": "text/x-python",
      "codemirror_mode": {
        "name": "ipython",
        "version": 3
      },
      "pygments_lexer": "ipython3",
      "nbconvert_exporter": "python",
      "file_extension": ".py"
    },
    "createdOn": 1741384580258,
    "associatedRecipe": "compute_d7DdDueY",
    "customFields": {},
    "dkuGit": {
      "lastInteraction": 0
    },
    "creator": "fabien.antoine@cgi.com",
    "tags": [
      "recipe-editor"
    ],
    "creationTag": {
      "versionNumber": 0,
      "lastModifiedBy": {
        "login": "fabien.antoine@cgi.com"
      },
      "lastModifiedOn": 1741384580258
    },
    "modifiedBy": "fabien.antoine@cgi.com"
  },
  "nbformat": 4,
  "nbformat_minor": 1,
  "cells": [
    {
      "execution_count": 0,
      "cell_type": "code",
      "metadata": {},
      "source": [
        "# -*- coding: utf-8 -*-\nimport dataiku\nfrom mistralai import Mistral\nfrom mistralai import DocumentURLChunk, ImageURLChunk, TextChunk\nimport tempfile\nimport base64\nfrom io import BytesIO\n\nclient \u003d dataiku.api_client()\nproject \u003d client.get_default_project()\nauth_info \u003d client.get_auth_info(with_secrets\u003dTrue)\nMISTRAL_API_KEY \u003d None\nfor secret in auth_info[\"secrets\"]:\n    if secret[\"key\"] \u003d\u003d \"MISTRAL_API_KEY\":\n        MISTRAL_API_KEY \u003d secret[\"value\"]\n\nclient \u003d Mistral(api_key\u003dMISTRAL_API_KEY)"
      ],
      "outputs": []
    },
    {
      "execution_count": 0,
      "cell_type": "code",
      "metadata": {
        "code_folding": []
      },
      "source": [
        "from concurrent.futures import ThreadPoolExecutor, as_completed\nimport os\nimport json\nimport time\nimport base64\nimport re\nfrom io import BytesIO\nfrom mistralai import Mistral\n\n# Paramétrer le nombre de requêtes parallèles\nMAX_WORKERS \u003d 3\n\n# Folders\nA220_tech_docs \u003d dataiku.Folder(\"W8lS5GmB\")          # Input folder\nA220_tech_docs_prep \u003d dataiku.Folder(\"d7DdDueY\")    # Output folder\n\n# Lister les fichiers PDF\npdf_files \u003d [f for f in A220_tech_docs.list_paths_in_partition() if f.lower().endswith(\".pdf\")]\npdf_files.sort()\n\n# Lister les fichiers existants\nexisting_files \u003d set(A220_tech_docs_prep.list_paths_in_partition())\n\ndef generate_image_description(image_data):\n    \"\"\"\n    Utilise Mistral Vision (Pixtral) pour générer une description de l\u0027image\n    \"\"\"\n    try:\n        # Préparer l\u0027image au format base64 pour l\u0027API Mistral\n        base64_image \u003d image_data.split(\",\")[1] if \",\" in image_data else image_data\n        \n        # Préparer les messages pour l\u0027API Mistral\n        messages \u003d [\n            {\n                \"role\": \"user\",\n                \"content\": [\n                    {\n                        \"type\": \"text\",\n                        \"text\": \"Provide a description in markdown of this image coming from an A220 technical document, using exact terms if any included in the picture.\"\n                    },\n                    {\n                        \"type\": \"image_url\",\n                        \"image_url\": {\n                            \"url\": f\"data:image/jpeg;base64,{base64_image}\"\n                        }\n                    }\n                ]\n            }\n        ]\n        \n        # Appeler l\u0027API Mistral Vision avec le modèle pixtral-large-2411\n        # Utiliser l\u0027objet chat du client Mistral correctement\n        response \u003d client.chat.complete(\n            model\u003d\"pixtral-large-2411\",\n            messages\u003dmessages\n        )\n        \n        # Extraire la description générée\n        description \u003d response.choices[0].message.content\n        return description\n    \n    except Exception as e:\n        print(f\"Erreur lors de la génération de description d\u0027image: {e}\")\n        # Imprimer plus de détails pour le débogage\n        import traceback\n        traceback.print_exc()\n        # Retourner None pour indiquer l\u0027échec\n        return None\n\ndef clean_description_for_alt_text(description):\n    \"\"\"\n    Nettoie le texte de description markdown pour l\u0027utiliser comme texte alternatif.\n    - Enlève les sauts de ligne\n    - Supprime les formatages markdown comme # et *\n    \"\"\"\n    # Remplacer les sauts de ligne par des espaces\n    cleaned \u003d description.replace(\u0027\\n\u0027, \u0027 \u0027)\n    \n    # Supprimer les titres markdown (# Titre)\n    cleaned \u003d re.sub(r\u0027#+\\s+\u0027, \u0027\u0027, cleaned)\n    \n    # Supprimer les formatages comme * ou _\n    cleaned \u003d re.sub(r\u0027[*_]\u0027, \u0027\u0027, cleaned)\n    \n    # Supprimer les liens markdown\n    cleaned \u003d re.sub(r\u0027\\[([^\\]]+)\\]\\([^)]+\\)\u0027, r\u0027\\1\u0027, cleaned)\n        \n    return cleaned\n\ndef extract_md_and_images(json_file_name, response_dict):\n    base_name \u003d os.path.splitext(json_file_name)[0]\n    \n    # Dictionnaire pour stocker les descriptions d\u0027images\n    image_descriptions \u003d {}\n    \n    # Extraire, écrire les images et générer leurs descriptions\n    for page in response_dict.get(\"pages\", []):\n        for image in page.get(\"images\", []):\n            # Nom de fichier pour l\u0027image\n            image_file_name \u003d base_name + \"-\" + image[\"id\"]\n            image_id \u003d image[\"id\"]  # ID utilisé dans le markdown pour référencer l\u0027image\n            \n            # Écrire l\u0027image si elle n\u0027existe pas déjà\n            if image_file_name not in existing_files:\n                image_data \u003d image[\"image_base64\"]\n                image_bytes \u003d base64.b64decode(image_data.split(\",\")[1])\n                with A220_tech_docs_prep.get_writer(image_file_name) as writer:\n                    writer.write(BytesIO(image_bytes).getvalue())\n            \n            # Générer et écrire la description de l\u0027image\n            # Utiliser le format base_name-img-id.md pour la description\n            description_file_name \u003d base_name + \"-\" + image_id.split(\u0027.\u0027)[0] + \".md\"\n            if description_file_name not in existing_files:\n                # Générer la description avec Mistral Vision\n                description \u003d generate_image_description(image[\"image_base64\"])\n                \n                # Vérifier si la génération a échoué\n                if description is None:\n                    print(f\"Échec lors de la génération de description pour l\u0027image {image_id}\")\n                    return\n                \n                # Écrire la description dans un fichier .md\n                with A220_tech_docs_prep.get_writer(description_file_name) as writer:\n                    writer.write(description.encode(\u0027utf-8\u0027))\n                \n                print(f\"Description générée pour {image_id} et sauvegardée dans {description_file_name}\")\n            else:\n                # Lire la description existante\n                with A220_tech_docs_prep.get_download_stream(description_file_name) as reader:\n                    description \u003d reader.read().decode(\u0027utf-8\u0027)\n            \n            # Stocker la description pour mise à jour du markdown\n            image_descriptions[image_id] \u003d clean_description_for_alt_text(description)\n    \n    # Extraire et mettre à jour le Markdown avec les descriptions comme textes alternatifs\n    md_file_name \u003d base_name + \".md\"\n    \n    # Créer un nouveau fichier markdown avec les descriptions d\u0027images seulement s\u0027il y a des images\n    if not image_descriptions:\n        print(f\"Aucune image trouvée dans {json_file_name}, pas de création de fichier avec descriptions.\")\n        return\n        \n    new_md_file_name \u003d base_name + \"__with_img_desc.md\"\n    \n    # Vérifier si le fichier markdown avec descriptions existe déjà\n    if new_md_file_name in existing_files:\n        print(f\"Le fichier {new_md_file_name} existe déjà, pas de régénération.\")\n        return\n    \n    # Vérifier si le fichier markdown original existe\n    if md_file_name in existing_files:\n        # Lire le contenu du markdown original\n        with A220_tech_docs_prep.get_download_stream(md_file_name) as reader:\n            markdown_content \u003d reader.read().decode(\u0027utf-8\u0027)\n    else:\n        # Générer le markdown à partir des données de réponse\n        markdown_content \u003d \"\\n\\n\".join(page[\"markdown\"] for page in response_dict.get(\"pages\", []))\n        # Écrire le markdown original s\u0027il n\u0027existe pas encore\n        with A220_tech_docs_prep.get_writer(md_file_name) as writer:\n            writer.write(markdown_content.encode(\u0027utf-8\u0027))\n    \n    # Mettre à jour les références d\u0027images avec les textes alternatifs\n    updated_markdown \u003d markdown_content\n    for image_id, description in image_descriptions.items():\n        # Chercher le pattern d\u0027image sans texte alternatif ou avec texte alternatif vide\n        pattern \u003d rf\u0027!\\[\\]?\\(#image-{image_id}\\)\u0027\n        replacement \u003d f\u0027![{description}](#image-{image_id})\u0027\n        updated_markdown \u003d re.sub(pattern, replacement, updated_markdown)\n        \n        # Chercher également avec des textes alternatifs existants\n        pattern \u003d rf\u0027!\\[([^\\]]*)\\]\\(#image-{image_id}\\)\u0027\n        replacement \u003d f\u0027![{description}](#image-{image_id})\u0027\n        updated_markdown \u003d re.sub(pattern, replacement, updated_markdown)\n    \n    # Écrire la version mise à jour du markdown dans un nouveau fichier\n    with A220_tech_docs_prep.get_writer(new_md_file_name) as writer:\n        writer.write(updated_markdown.encode(\u0027utf-8\u0027))\n        print(f\"Fichier {new_md_file_name} créé avec les descriptions d\u0027images.\")\n\ndef process_pdf(pdf_file):\n    json_file_name \u003d os.path.splitext(pdf_file)[0] + \".json\"\n    \n    # Vérifier si le JSON existe déjà\n    if json_file_name in existing_files:\n        print(f\"{json_file_name} existe déjà.\")\n        # Charger le JSON existant pour extraction MD et images\n        with A220_tech_docs_prep.get_download_stream(json_file_name) as reader:\n            response_dict \u003d json.load(reader)\n            extract_md_and_images(json_file_name, response_dict)\n        return\n    \n    # Lire le contenu PDF\n    with A220_tech_docs.get_download_stream(pdf_file) as f:\n        print(f\"Traitement du fichier : {pdf_file}\")\n        try:\n            uploaded_file \u003d client.files.upload(\n                file\u003d{\n                    \"file_name\": pdf_file,\n                    \"content\": f.read(),\n                },\n                purpose\u003d\"ocr\",\n            )\n            signed_url \u003d client.files.get_signed_url(file_id\u003duploaded_file.id, expiry\u003d1)\n            pdf_response \u003d client.ocr.process(\n                document\u003dDocumentURLChunk(document_url\u003dsigned_url.url),\n                model\u003d\"mistral-ocr-latest\",\n                include_image_base64\u003dTrue\n            )\n        except Exception as e:\n            print(f\"Erreur lors du traitement de {pdf_file}: {e}. Réessai dans 2 secondes.\")\n            time.sleep(2)\n            try:\n                pdf_response \u003d client.ocr.process(\n                    document\u003dDocumentURLChunk(document_url\u003dsigned_url.url),\n                    model\u003d\"mistral-ocr-latest\",\n                    include_image_base64\u003dTrue\n                )\n            except Exception as e:\n                print(f\"Échec répété pour {pdf_file}, réessai plus tard: {e}\")\n                return pdf_file  # à réessayer plus tard\n        \n        response_dict \u003d json.loads(pdf_response.json())\n        json_string \u003d json.dumps(response_dict, indent\u003d4)\n        \n        # Écrire le fichier .json\n        with A220_tech_docs_prep.get_writer(json_file_name) as writer:\n            writer.write(json_string.encode(\u0027utf-8\u0027))\n        \n        # Extraire Markdown et images avec descriptions\n        extract_md_and_images(json_file_name, response_dict)\n\n# Exécution principale\npending_files \u003d pdf_files\nwhile pending_files:\n    retry_files \u003d []\n    with ThreadPoolExecutor(max_workers\u003dMAX_WORKERS) as executor:\n        futures \u003d {executor.submit(process_pdf, pdf): pdf for pdf in pending_files}\n        for future in as_completed(futures):\n            result \u003d future.result()\n            if result:\n                retry_files.append(result)\n    pending_files \u003d retry_files\n    if retry_files:\n        print(f\"{len(retry_files)} fichiers à réessayer...\")\n        time.sleep(5)  # Attendre avant de réessayer"
      ],
      "outputs": []
    },
    {
      "execution_count": 0,
      "cell_type": "code",
      "metadata": {},
      "source": [
        ""
      ],
      "outputs": []
    },
    {
      "execution_count": 0,
      "cell_type": "code",
      "metadata": {},
      "source": [
        ""
      ],
      "outputs": []
    }
  ]
}