{
  "metadata": {
    "kernelspec": {
      "name": "py-dku-containerized-venv-markitdown-scw-fa",
      "display_name": "Python in SCW-FA (env markitdown)",
      "language": "python"
    },
    "hide_input": false,
    "language_info": {
      "name": "python",
      "version": "3.11.10",
      "mimetype": "text/x-python",
      "codemirror_mode": {
        "name": "ipython",
        "version": 3
      },
      "pygments_lexer": "ipython3",
      "nbconvert_exporter": "python",
      "file_extension": ".py"
    },
    "createdOn": 1741384580258,
    "associatedRecipe": "compute_d7DdDueY",
    "customFields": {},
    "dkuGit": {
      "lastInteraction": 0
    },
    "creator": "fabien.antoine@cgi.com",
    "tags": [
      "recipe-editor"
    ],
    "creationTag": {
      "versionNumber": 0,
      "lastModifiedBy": {
        "login": "fabien.antoine@cgi.com"
      },
      "lastModifiedOn": 1741384580258
    },
    "modifiedBy": "fabien.antoine@cgi.com"
  },
  "nbformat": 4,
  "nbformat_minor": 1,
  "cells": [
    {
      "execution_count": 0,
      "cell_type": "code",
      "metadata": {},
      "source": [
        "# -*- coding: utf-8 -*-\nimport dataiku\nfrom mistralai import Mistral\nfrom mistralai import DocumentURLChunk, ImageURLChunk, TextChunk\nimport tempfile\nimport base64\nfrom io import BytesIO\n\nclient \u003d dataiku.api_client()\nproject \u003d client.get_default_project()\nauth_info \u003d client.get_auth_info(with_secrets\u003dTrue)\nMISTRAL_API_KEY \u003d None\nfor secret in auth_info[\"secrets\"]:\n    if secret[\"key\"] \u003d\u003d \"MISTRAL_API_KEY\":\n        MISTRAL_API_KEY \u003d secret[\"value\"]\n\nclient \u003d Mistral(api_key\u003dMISTRAL_API_KEY)"
      ],
      "outputs": []
    },
    {
      "execution_count": 0,
      "cell_type": "code",
      "metadata": {
        "code_folding": []
      },
      "source": [
        "def extract_md_and_images(json_file_name, response_dict):\n    base_name \u003d os.path.splitext(json_file_name)[0]\n    md_file_name \u003d base_name + \".md\"\n    \n    # Dictionnaire pour stocker les descriptions d\u0027images\n    image_descriptions \u003d {}\n    \n    # Extraire, écrire les images et générer leurs descriptions\n    has_images \u003d False\n    for page in response_dict.get(\"pages\", []):\n        if page.get(\"images\", []):\n            has_images \u003d True\n        for image in page.get(\"images\", []):\n            # Nom de fichier pour l\u0027image\n            image_file_name \u003d base_name + \"-\" + image[\"id\"]\n            image_id \u003d image[\"id\"]  # ID utilisé dans le markdown pour référencer l\u0027image\n            \n            # Écrire l\u0027image si elle n\u0027existe pas déjà\n            if image_file_name not in existing_files:\n                image_data \u003d image[\"image_base64\"]\n                image_bytes \u003d base64.b64decode(image_data.split(\",\")[1])\n                with A220_tech_docs_prep.get_writer(image_file_name) as writer:\n                    writer.write(BytesIO(image_bytes).getvalue())\n            \n            # Générer et écrire la description de l\u0027image\n            # Utiliser le format base_name-img-id.md pour la description\n            description_file_name \u003d base_name + \"-\" + image_id.split(\u0027.\u0027)[0] + \".md\"\n            if description_file_name not in existing_files:\n                # Générer la description avec Mistral Vision\n                description \u003d generate_image_description(image[\"image_base64\"])\n                \n                # Vérifier si la génération a échoué\n                if description is None:\n                    print(f\"Échec lors de la génération de description pour l\u0027image {image_id}\")\n                    return\n                \n                # Écrire la description dans un fichier .md\n                with A220_tech_docs_prep.get_writer(description_file_name) as writer:\n                    writer.write(description.encode(\u0027utf-8\u0027))\n                \n                print(f\"Description générée pour {image_id} et sauvegardée dans {description_file_name}\")\n            else:\n                # Lire la description existante\n                with A220_tech_docs_prep.get_download_stream(description_file_name) as reader:\n                    description \u003d reader.read().decode(\u0027utf-8\u0027)\n            \n            # Stocker la description pour mise à jour du markdown\n            image_descriptions[image_id] \u003d clean_description_for_alt_text(description)\n    \n    # Vérifier s\u0027il y a des images dans le document\n    if not has_images:\n        print(f\"Aucune image trouvée dans {json_file_name}, pas de création de fichier avec descriptions.\")\n        \n        # Extraire et écrire le Markdown original sans modifications\n        if md_file_name not in existing_files:\n            markdown_content \u003d \"\\n\\n\".join(page[\"markdown\"] for page in response_dict.get(\"pages\", []))\n            with A220_tech_docs_prep.get_writer(md_file_name) as writer:\n                writer.write(markdown_content.encode(\u0027utf-8\u0027))\n        return\n    \n    # Debug: Voir quelles images ont été traitées\n    print(f\"Images trouvées et décrites: {list(image_descriptions.keys())}\")\n    \n    # Vérifier s\u0027il y a des images et des descriptions dans le document\n    if not image_descriptions:\n        print(f\"Aucune image trouvée ou décrite dans {json_file_name}, pas de création de fichier avec descriptions.\")\n        return\n        \n    # Créer un nouveau fichier markdown avec les descriptions d\u0027images\n    new_md_file_name \u003d base_name + \"__with_img_desc.md\"\n    \n    # Vérifier si le fichier markdown avec descriptions existe déjà\n    if new_md_file_name in existing_files:\n        print(f\"Le fichier {new_md_file_name} existe déjà, pas de régénération.\")\n        return\n    \n    # Vérifier si le fichier markdown original existe\n    if md_file_name in existing_files:\n        # Lire le contenu du markdown original\n        with A220_tech_docs_prep.get_download_stream(md_file_name) as reader:\n            markdown_content \u003d reader.read().decode(\u0027utf-8\u0027)\n    else:\n        # Générer le markdown à partir des données de réponse\n        markdown_content \u003d \"\\n\\n\".join(page[\"markdown\"] for page in response_dict.get(\"pages\", []))\n        # Écrire le markdown original s\u0027il n\u0027existe pas encore\n        with A220_tech_docs_prep.get_writer(md_file_name) as writer:\n            writer.write(markdown_content.encode(\u0027utf-8\u0027))\n    \n    # Debug: afficher un extrait du markdown avant modification\n    print(f\"Extrait du markdown avant modification: {markdown_content[:200]}...\")\n    \n    # Mettre à jour les références d\u0027images avec les textes alternatifs\n    updated_markdown \u003d markdown_content\n    replacements_made \u003d False\n    \n    for image_id, description in image_descriptions.items():\n        # Debug: Vérifier le pattern recherché\n        pure_id \u003d image_id.split(\u0027.\u0027)[0]  # Si image_id est \"img-0.jpeg\", prendre juste \"img-0\"\n        print(f\"Recherche de références pour l\u0027image {image_id} (id sans extension: {pure_id})\")\n        \n        # Chercher le pattern d\u0027image sans texte alternatif ou avec texte alternatif vide\n        pattern1 \u003d rf\u0027!\\[\\]?\\(#image-{pure_id}\\)\u0027\n        pattern2 \u003d rf\u0027!\\[\\]?\\(#image-{image_id}\\)\u0027\n        replacement \u003d f\u0027![{description}](#image-{image_id})\u0027\n        \n        # Appliquer les remplacements et compter\n        new_text, count1 \u003d re.subn(pattern1, replacement, updated_markdown)\n        if count1 \u003e 0:\n            updated_markdown \u003d new_text\n            replacements_made \u003d True\n            print(f\"Remplacé {count1} occurrences du pattern {pattern1}\")\n        \n        new_text, count2 \u003d re.subn(pattern2, replacement, updated_markdown)\n        if count2 \u003e 0:\n            updated_markdown \u003d new_text\n            replacements_made \u003d True\n            print(f\"Remplacé {count2} occurrences du pattern {pattern2}\")\n        \n        # Chercher également avec des textes alternatifs existants\n        pattern3 \u003d rf\u0027!\\[([^\\]]*)\\]\\(#image-{pure_id}\\)\u0027\n        pattern4 \u003d rf\u0027!\\[([^\\]]*)\\]\\(#image-{image_id}\\)\u0027\n        \n        new_text, count3 \u003d re.subn(pattern3, replacement, updated_markdown)\n        if count3 \u003e 0:\n            updated_markdown \u003d new_text\n            replacements_made \u003d True\n            print(f\"Remplacé {count3} occurrences du pattern {pattern3}\")\n        \n        new_text, count4 \u003d re.subn(pattern4, replacement, updated_markdown)\n        if count4 \u003e 0:\n            updated_markdown \u003d new_text\n            replacements_made \u003d True\n            print(f\"Remplacé {count4} occurrences du pattern {pattern4}\")\n    \n    # Vérifier si des remplacements ont été effectués\n    if not replacements_made:\n        print(f\"Aucune référence d\u0027image trouvée dans le markdown pour les remplacer. Vérifiez le format des références.\")\n        # Rechercher toutes les références d\u0027images dans le markdown pour le débogage\n        all_img_refs \u003d re.findall(r\u0027!\\[.*?\\]\\(.*?\\)\u0027, markdown_content)\n        if all_img_refs:\n            print(f\"Références d\u0027images trouvées dans le markdown: {all_img_refs[:5]}\")\n        else:\n            print(\"Aucune référence d\u0027image trouvée dans le document markdown.\")\n    \n    # Écrire la version mise à jour du markdown dans un nouveau fichier quand même\n    with A220_tech_docs_prep.get_writer(new_md_file_name) as writer:\n        writer.write(updated_markdown.encode(\u0027utf-8\u0027))\n        print(f\"Fichier {new_md_file_name} créé avec les descriptions d\u0027images (remplacements effectués: {replacements_made}).\")"
      ],
      "outputs": []
    },
    {
      "execution_count": 0,
      "cell_type": "code",
      "metadata": {},
      "source": [
        ""
      ],
      "outputs": []
    },
    {
      "execution_count": 0,
      "cell_type": "code",
      "metadata": {},
      "source": [
        ""
      ],
      "outputs": []
    }
  ]
}