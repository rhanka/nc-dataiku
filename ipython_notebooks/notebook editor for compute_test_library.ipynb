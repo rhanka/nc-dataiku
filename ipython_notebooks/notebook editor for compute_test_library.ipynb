{
  "metadata": {
    "kernelspec": {
      "name": "py-dku-containerized-venv-markitdown-scw-fa",
      "display_name": "Python in SCW-FA (env markitdown)",
      "language": "python"
    },
    "hide_input": false,
    "language_info": {
      "name": "python",
      "version": "3.11.10",
      "mimetype": "text/x-python",
      "codemirror_mode": {
        "name": "ipython",
        "version": 3
      },
      "pygments_lexer": "ipython3",
      "nbconvert_exporter": "python",
      "file_extension": ".py"
    },
    "createdOn": 1738853315659,
    "creator": "ludovic.bocken@cgi.com",
    "customFields": {},
    "tags": [
      "recipe-editor"
    ],
    "associatedRecipe": "compute_test_library",
    "modifiedBy": "ludovic.bocken@cgi.com"
  },
  "nbformat": 4,
  "nbformat_minor": 1,
  "cells": [
    {
      "execution_count": 0,
      "cell_type": "code",
      "metadata": {},
      "source": [
        "# -*- coding: utf-8 -*-\nimport dataiku\nimport pandas as pd, numpy as np\nfrom dataiku import pandasutils as pdu"
      ],
      "outputs": []
    },
    {
      "execution_count": 0,
      "cell_type": "code",
      "metadata": {},
      "source": [
        "import nlpp"
      ],
      "outputs": []
    },
    {
      "execution_count": 0,
      "cell_type": "code",
      "metadata": {},
      "source": [
        "\n\n\n\n# Compute recipe outputs\n# TODO: Write here your actual code that computes the outputs\n# NB: DSS supports several kinds of APIs for reading and writing data. Please see doc.\n\ntest_library_df \u003d ... # Compute a Pandas dataframe to write into test_library\n\n\n# Write recipe outputs\ntest_library \u003d dataiku.Dataset(\"test_library\")\ntest_library.write_with_schema(test_library_df)"
      ],
      "outputs": []
    }
  ]
}