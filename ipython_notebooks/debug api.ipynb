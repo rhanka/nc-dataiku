{
  "metadata": {
    "kernelspec": {
      "name": "python3",
      "display_name": "Python 3 (ipykernel)",
      "language": "python"
    },
    "hide_input": false,
    "language_info": {
      "name": "python",
      "version": "3.9.21",
      "mimetype": "text/x-python",
      "codemirror_mode": {
        "name": "ipython",
        "version": 3
      },
      "pygments_lexer": "ipython3",
      "nbconvert_exporter": "python",
      "file_extension": ".py"
    },
    "customFields": {},
    "tags": [],
    "createdOn": 1735385108589,
    "creator": "fabien.antoine@cgi.com",
    "modifiedBy": "fabien.antoine@cgi.com",
    "versionNumber": 2
  },
  "nbformat": 4,
  "nbformat_minor": 1,
  "cells": [
    {
      "execution_count": 0,
      "cell_type": "code",
      "metadata": {},
      "source": [
        "%pylab inline"
      ],
      "outputs": []
    },
    {
      "execution_count": 0,
      "cell_type": "code",
      "metadata": {},
      "source": [
        "import dataiku\nfrom dataiku import pandasutils as pdu\nimport pandas as pd"
      ],
      "outputs": []
    },
    {
      "execution_count": 0,
      "cell_type": "code",
      "metadata": {},
      "source": [
        "# Example: load a DSS dataset as a Pandas dataframe\nmydataset \u003d dataiku.Dataset(\"NC_types_random_500_final_structured\")\nmydataset_df \u003d mydataset.get_dataframe(sampling\u003d\u0027head\u0027, limit\u003d(max_rows))\n\nmydataset_df[\u0027nc_event_date\u0027] \u003d mydataset_df[\u0027nc_event_date\u0027].astype(str)\nmydataset_df[\u0027analysis_history\u0027] \u003d mydataset_df[\u0027analysis_history\u0027].apply(json.loads)\n\n# Pandas dataFrames are not directly JSON serializable, use to_json()\ndata \u003d mydataset_df.to_dict(orient\u003d\u0027records\u0027)"
      ],
      "outputs": []
    },
    {
      "execution_count": 0,
      "cell_type": "code",
      "metadata": {},
      "source": [
        ""
      ],
      "outputs": []
    }
  ]
}