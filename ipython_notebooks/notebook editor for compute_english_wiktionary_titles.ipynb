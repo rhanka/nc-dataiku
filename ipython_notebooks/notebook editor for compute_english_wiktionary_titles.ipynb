{
  "metadata": {
    "kernelspec": {
      "name": "python3",
      "display_name": "Python 3 (ipykernel)",
      "language": "python"
    },
    "hide_input": false,
    "language_info": {
      "name": "python",
      "version": "3.9.21",
      "mimetype": "text/x-python",
      "codemirror_mode": {
        "name": "ipython",
        "version": 3
      },
      "pygments_lexer": "ipython3",
      "nbconvert_exporter": "python",
      "file_extension": ".py"
    },
    "customFields": {},
    "tags": [
      "deleted-recipe-editor"
    ],
    "createdOn": 1738262802642,
    "creator": "ludovic.bocken@cgi.com",
    "modifiedBy": "ludovic.bocken@cgi.com"
  },
  "nbformat": 4,
  "nbformat_minor": 1,
  "cells": [
    {
      "execution_count": 0,
      "cell_type": "code",
      "metadata": {},
      "source": [
        "import dataiku\nimport pandas as pd\nimport requests\nimport gzip\nimport shutil\nimport os\n\n# URL of the file\nurl \u003d \"https://dumps.wikimedia.org/enwiktionary/latest/enwiktionary-latest-all-titles.gz\"\nfilename \u003d \"enwiktionary-latest-all-titles.gz\"\nunzipped_filename \u003d \"enwiktionary-latest-all-titles.txt\"\n\ndef download_file(url, filename):\n    \"\"\"Download a file from a URL\"\"\"\n    response \u003d requests.get(url, stream\u003dTrue)\n    with open(filename, \"wb\") as file:\n        shutil.copyfileobj(response.raw, file)\n    print(f\"Downloaded {filename}\")\n\ndef extract_gzip(gz_filename, extracted_filename):\n    \"\"\"Extract a gzip file\"\"\"\n    with gzip.open(gz_filename, \"rb\") as f_in:\n        with open(extracted_filename, \"wb\") as f_out:\n            shutil.copyfileobj(f_in, f_out)\n    print(f\"Extracted {gz_filename} to {extracted_filename}\")\n\ndef load_to_dataframe(filename):\n    \"\"\"Load file content into a Pandas DataFrame\"\"\"\n    with open(filename, \"r\", encoding\u003d\"utf-8\") as file:\n        lines \u003d file.read().splitlines()\n    df \u003d pd.DataFrame(lines, columns\u003d[\"Title\"])\n    return df\n\n# Download, extract, and load data\ndownload_file(url, filename)\nextract_gzip(filename, unzipped_filename)\ndf \u003d load_to_dataframe(unzipped_filename)\n\n# Write DataFrame to Dataiku dataset\noutput_dataset \u003d dataiku.Dataset(\"english_wiktionary_titles\")\noutput_dataset.write_with_schema(df)"
      ],
      "outputs": []
    }
  ]
}