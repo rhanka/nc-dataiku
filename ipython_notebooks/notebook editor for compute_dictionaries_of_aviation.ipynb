{
  "metadata": {
    "kernelspec": {
      "name": "py-dku-containerized-venv-markitdown-scw-fa",
      "display_name": "Python in SCW-FA (env markitdown)",
      "language": "python"
    },
    "hide_input": false,
    "language_info": {
      "name": "python",
      "version": "3.11.10",
      "mimetype": "text/x-python",
      "codemirror_mode": {
        "name": "ipython",
        "version": 3
      },
      "pygments_lexer": "ipython3",
      "nbconvert_exporter": "python",
      "file_extension": ".py"
    },
    "createdOn": 1738701477877,
    "creator": "ludovic.bocken@cgi.com",
    "customFields": {},
    "tags": [
      "recipe-editor"
    ],
    "associatedRecipe": "compute_dictionaries_of_aviation",
    "modifiedBy": "ludovic.bocken@cgi.com"
  },
  "nbformat": 4,
  "nbformat_minor": 1,
  "cells": [
    {
      "execution_count": 0,
      "cell_type": "code",
      "metadata": {},
      "source": [
        "# -*- coding: utf-8 -*-\nimport dataiku\nimport pandas as pd, numpy as np\nfrom dataiku import pandasutils as pdu\n\n# Read recipe inputs\nDictionaries \u003d dataiku.Folder(\"PP5gsWW1\")\nDictionaries_info \u003d Dictionaries.get_info()\n\n\n# Compute recipe outputs\n# TODO: Write here your actual code that computes the outputs\n# NB: DSS supports several kinds of APIs for reading and writing data. Please see doc.\n\ndictionaries_of_aviation_df \u003d ... # Compute a Pandas dataframe to write into dictionaries_of_aviation\n\n\n# Write recipe outputs\ndictionaries_of_aviation \u003d dataiku.Dataset(\"dictionaries_of_aviation\")\ndictionaries_of_aviation.write_with_schema(dictionaries_of_aviation_df)"
      ],
      "outputs": []
    },
    {
      "execution_count": 0,
      "cell_type": "code",
      "metadata": {},
      "source": [
        "# -*- coding: utf-8 -*-\nimport dataiku\nimport pandas as pd\nimport numpy as np\nfrom dataiku import pandasutils as pdu\nimport PyPDF2\nimport os"
      ],
      "outputs": []
    },
    {
      "execution_count": 0,
      "cell_type": "code",
      "metadata": {},
      "source": [
        "# Read recipe inputs\nDictionaries \u003d dataiku.Folder(\"PP5gsWW1\")\nDictionaries_info \u003d Dictionaries.get_info()\n\n# Initialize an empty list to store data\ndata \u003d []\n\n# Iterate through the files in the folder\nfor file_path in Dictionaries.list_paths_in_partition():\n    with Dictionaries.get_download_stream(file_path) as f:\n        # Read the PDF file\n        reader \u003d PyPDF2.PdfFileReader(f)\n        text \u003d \"\"\n        for page_num in range(reader.numPages):\n            page \u003d reader.getPage(page_num)\n            text +\u003d page.extract_text()\n        data.append({\"file_path\": file_path, \"content\": text})\n\n# Convert the list to a dataframe\ndictionaries_of_aviation_df \u003d pd.DataFrame(data)\n\n\n"
      ],
      "outputs": []
    },
    {
      "execution_count": 0,
      "cell_type": "code",
      "metadata": {},
      "source": [
        "pip install PyPDF2"
      ],
      "outputs": []
    },
    {
      "execution_count": 0,
      "cell_type": "code",
      "metadata": {},
      "source": [
        "# Write recipe outputs\ndictionaries_of_aviation \u003d dataiku.Dataset(\"dictionaries_of_aviation\")\ndictionaries_of_aviation.write_with_schema(dictionaries_of_aviation_df)"
      ],
      "outputs": []
    }
  ]
}