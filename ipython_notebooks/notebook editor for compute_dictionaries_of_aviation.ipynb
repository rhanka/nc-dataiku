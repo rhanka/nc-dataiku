{
  "metadata": {
    "kernelspec": {
      "name": "py-dku-containerized-venv-markitdown-scw-fa",
      "display_name": "Python in SCW-FA (env markitdown)",
      "language": "python"
    },
    "hide_input": false,
    "language_info": {
      "name": "python",
      "version": "3.11.10",
      "mimetype": "text/x-python",
      "codemirror_mode": {
        "name": "ipython",
        "version": 3
      },
      "pygments_lexer": "ipython3",
      "nbconvert_exporter": "python",
      "file_extension": ".py"
    },
    "createdOn": 1738701477877,
    "creator": "ludovic.bocken@cgi.com",
    "customFields": {},
    "tags": [
      "recipe-editor"
    ],
    "associatedRecipe": "compute_dictionaries_of_aviation",
    "modifiedBy": "ludovic.bocken@cgi.com"
  },
  "nbformat": 4,
  "nbformat_minor": 1,
  "cells": [
    {
      "execution_count": 0,
      "cell_type": "code",
      "metadata": {},
      "source": [
        "# -*- coding: utf-8 -*-\nimport dataiku\nimport fitz  # PyMuPDF\nimport pandas as pd"
      ],
      "outputs": []
    },
    {
      "execution_count": 0,
      "cell_type": "code",
      "metadata": {},
      "source": [
        "# Read recipe inputs\nDictionaries \u003d dataiku.Folder(\"PP5gsWW1\")\nDictionaries_info \u003d Dictionaries.get_info()\n\n# Initialize an empty list to store data\ndata \u003d []\n\n# Iterate through the files in the folder\nfor file_path in Dictionaries.list_paths_in_partition():\n    with Dictionaries.get_download_stream(file_path) as f:\n        # Open the PDF file\n        pdf_document \u003d fitz.open(stream\u003df.read(), filetype\u003d\"pdf\")\n        text \u003d \"\"\n        for page_num in range(len(pdf_document)):\n            page \u003d pdf_document[page_num]\n            text +\u003d page.get_text()\n        data.append({\"file_path\": file_path, \"content\": text})\n\n# Convert the list to a dataframe\ndictionaries_of_aviation_df \u003d pd.DataFrame(data)\n"
      ],
      "outputs": []
    },
    {
      "execution_count": 0,
      "cell_type": "code",
      "metadata": {},
      "source": [
        "dictionaries_of_aviation_df"
      ],
      "outputs": []
    },
    {
      "execution_count": 0,
      "cell_type": "code",
      "metadata": {},
      "source": [
        "# Write recipe outputs\ndictionaries_of_aviation \u003d dataiku.Dataset(\"dictionaries_of_aviation\")\ndictionaries_of_aviation.write_with_schema(dictionaries_of_aviation_df)"
      ],
      "outputs": []
    },
    {
      "execution_count": 0,
      "cell_type": "code",
      "metadata": {},
      "source": [
        ""
      ],
      "outputs": []
    }
  ]
}