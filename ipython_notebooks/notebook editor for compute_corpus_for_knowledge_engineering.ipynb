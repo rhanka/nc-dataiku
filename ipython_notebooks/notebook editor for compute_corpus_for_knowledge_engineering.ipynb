{
  "metadata": {
    "kernelspec": {
      "name": "py-dku-containerized-venv-markitdown-scw-fa",
      "display_name": "Python in SCW-FA (env markitdown)",
      "language": "python"
    },
    "hide_input": false,
    "language_info": {
      "name": "python",
      "version": "3.11.10",
      "mimetype": "text/x-python",
      "codemirror_mode": {
        "name": "ipython",
        "version": 3
      },
      "pygments_lexer": "ipython3",
      "nbconvert_exporter": "python",
      "file_extension": ".py"
    },
    "modifiedBy": "ludovic.bocken@cgi.com",
    "createdOn": 1738686158938,
    "creator": "ludovic.bocken@cgi.com",
    "associatedRecipe": "compute_corpus_for_knowledge_engineering",
    "tags": [
      "recipe-editor"
    ],
    "customFields": {}
  },
  "nbformat": 4,
  "nbformat_minor": 1,
  "cells": [
    {
      "cell_type": "markdown",
      "metadata": {},
      "source": [
        "# Import libraries"
      ]
    },
    {
      "execution_count": 0,
      "cell_type": "code",
      "metadata": {},
      "source": [
        "# -*- coding: utf-8 -*-\nimport dataiku\nimport pandas as pd, numpy as np\nfrom dataiku import pandasutils as pdu"
      ],
      "outputs": []
    },
    {
      "cell_type": "markdown",
      "metadata": {},
      "source": [
        "# Get texts"
      ]
    },
    {
      "execution_count": 0,
      "cell_type": "code",
      "metadata": {},
      "source": [
        "A220_tech_docs_text \u003d dataiku.Folder(\"rhnW9xGx\")\nA220_tech_docs_text_info \u003d A220_tech_docs_text.get_info()\n# Assuming the folder contains text files, we can read them into a DataFrame\n\nfile_paths \u003d A220_tech_docs_text.list_paths_in_partition()\ntexts \u003d []\n\nfor file_path in file_paths:\n    with A220_tech_docs_text.get_download_stream(file_path) as f:\n        texts.append(f.read().decode(\u0027utf-8\u0027))"
      ],
      "outputs": []
    },
    {
      "cell_type": "markdown",
      "metadata": {},
      "source": [
        "# Clean texts"
      ]
    },
    {
      "execution_count": 0,
      "cell_type": "code",
      "metadata": {},
      "source": [
        "clean_texts \u003d texts"
      ],
      "outputs": []
    },
    {
      "execution_count": 0,
      "cell_type": "code",
      "metadata": {},
      "source": [
        "# Compute recipe outputs\n# TODO: Write here your actual code that computes the outputs\n# NB: DSS supports several kinds of APIs for reading and writing data. Please see doc.\nclean_texts \u003d [text.replace(\"\\n\\n\", \"\\\\pp\") for text in clean_texts]\nclean_texts \u003d [text.replace(\"\\n\", \" \") for text in clean_texts]\nclean_texts \u003d [text.replace(\"\\\\pp\", \"\\n\\n\") for text in clean_texts]\nclean_texts \u003d [text.replace(\"\\x0c\", \"\\n\") for text in clean_texts]"
      ],
      "outputs": []
    },
    {
      "cell_type": "markdown",
      "metadata": {},
      "source": [
        "# Save dataframe"
      ]
    },
    {
      "execution_count": 0,
      "cell_type": "code",
      "metadata": {},
      "source": [
        "corpus_for_knowledge_engineering_df \u003d pd.DataFrame({\"text\": clean_texts})"
      ],
      "outputs": []
    },
    {
      "execution_count": 0,
      "cell_type": "code",
      "metadata": {},
      "source": [
        "corpus_for_knowledge_engineering_df"
      ],
      "outputs": []
    },
    {
      "execution_count": 0,
      "cell_type": "code",
      "metadata": {},
      "source": [
        "corpus_for_knowledge_engineering_df[\"text\"][2]"
      ],
      "outputs": []
    },
    {
      "cell_type": "markdown",
      "metadata": {},
      "source": [
        "# Write recipe outputs"
      ]
    },
    {
      "execution_count": 0,
      "cell_type": "code",
      "metadata": {},
      "source": [
        "corpus_for_knowledge_engineering \u003d dataiku.Dataset(\"corpus_for_knowledge_engineering\")\ncorpus_for_knowledge_engineering.write_with_schema(corpus_for_knowledge_engineering_df)"
      ],
      "outputs": []
    }
  ]
}