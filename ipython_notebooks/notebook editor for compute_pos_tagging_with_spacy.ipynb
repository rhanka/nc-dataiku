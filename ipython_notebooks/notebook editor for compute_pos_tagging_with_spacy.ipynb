{
  "metadata": {
    "kernelspec": {
      "name": "py-dku-containerized-venv-markitdown-scw-fa",
      "display_name": "Python in SCW-FA (env markitdown)",
      "language": "python"
    },
    "hide_input": false,
    "language_info": {
      "name": "python",
      "version": "3.11.10",
      "mimetype": "text/x-python",
      "codemirror_mode": {
        "name": "ipython",
        "version": 3
      },
      "pygments_lexer": "ipython3",
      "nbconvert_exporter": "python",
      "file_extension": ".py"
    },
    "createdOn": 1738933283190,
    "creator": "ludovic.bocken@cgi.com",
    "customFields": {},
    "tags": [
      "recipe-editor"
    ],
    "associatedRecipe": "compute_pos_tagging_with_spacy",
    "modifiedBy": "ludovic.bocken@cgi.com"
  },
  "nbformat": 4,
  "nbformat_minor": 1,
  "cells": [
    {
      "cell_type": "markdown",
      "metadata": {},
      "source": [
        "# Import libraries"
      ]
    },
    {
      "execution_count": 0,
      "cell_type": "code",
      "metadata": {},
      "source": [
        "# -*- coding: utf-8 -*-\nimport dataiku\nimport pandas as pd, numpy as np\nfrom dataiku import pandasutils as pdu\nimport spacy\nfrom dframcy import DframCy\n\n# Load the spaCy model\nnlp \u003d spacy.load(\"en_core_web_sm\")"
      ],
      "outputs": []
    },
    {
      "cell_type": "markdown",
      "metadata": {},
      "source": [
        "# Read recipe inputs"
      ]
    },
    {
      "execution_count": 0,
      "cell_type": "code",
      "metadata": {},
      "source": [
        "corpus_for_knowledge_engineering \u003d dataiku.Dataset(\"corpus_for_knowledge_engineering\")\ncorpus_for_knowledge_engineering_df \u003d corpus_for_knowledge_engineering.get_dataframe()"
      ],
      "outputs": []
    },
    {
      "execution_count": 0,
      "cell_type": "code",
      "metadata": {},
      "source": [
        "corpus_for_knowledge_engineering_df[\"lower_text\"] \u003d corpus_for_knowledge_engineering_df[\"text\"].str.lower()\ncorpus_for_knowledge_engineering_df[\"upper_text\"] \u003d corpus_for_knowledge_engineering_df[\"text\"].str.upper()"
      ],
      "outputs": []
    },
    {
      "execution_count": 0,
      "cell_type": "code",
      "metadata": {},
      "source": [
        "corpus_for_knowledge_engineering_df"
      ],
      "outputs": []
    },
    {
      "execution_count": 0,
      "cell_type": "code",
      "metadata": {},
      "source": [
        "def pos_tag_with_spacy(text):\n    nlp.max_length \u003d 3000000  # Set this to a value higher than your text length\n    dframcy \u003d DframCy(nlp)\n    doc \u003d dframcy.nlp(text)\n    pos_df \u003d dframcy.to_dataframe(doc)\n    return filtered_pos_df\n\n# Apply the function to the \u0027text\u0027 column and consolidate the results\npos_tagging_with_spacy_df \u003d corpus_for_knowledge_engineering_df[\u0027text\u0027].apply(pos_tag_with_spacy)"
      ],
      "outputs": []
    },
    {
      "execution_count": 0,
      "cell_type": "code",
      "metadata": {},
      "source": [
        "dframcy \u003d DframCy(nlp)\ndoc \u003d dframcy.nlp(text)\npos_df \u003d dframcy.to_dataframe(doc)"
      ],
      "outputs": []
    },
    {
      "execution_count": 0,
      "cell_type": "code",
      "metadata": {},
      "source": [
        "def extract_nouns_with_spacy(text):\n    dframcy \u003d DframCy(nlp)\n    doc \u003d dframcy.nlp(text)\n    pos_df \u003d dframcy.to_dataframe(doc)\n    tags \u003d [\"NN\", \"NNP\"]\n    filtered_pos_df \u003d pos_df[pos_df[\"token_tag_\"].isin(tags)]\n    return filtered_pos_df\n\n\n# Compute recipe outputs from inputs\n# TODO: Replace this part by your actual code that computes the output, as a Pandas dataframe\n# NB: DSS also supports other kinds of APIs for reading and writing data. Please see doc.\n\npos_tagging_with_spacy_df \u003d corpus_for_knowledge_engineering_df # For this sample code, simply copy input to output\n\n\n# Write recipe outputs\npos_tagging_with_spacy \u003d dataiku.Dataset(\"pos_tagging_with_spacy\")\npos_tagging_with_spacy.write_with_schema(pos_tagging_with_spacy_df)"
      ],
      "outputs": []
    }
  ]
}