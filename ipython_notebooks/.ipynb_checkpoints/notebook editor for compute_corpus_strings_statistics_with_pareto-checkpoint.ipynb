{
  "nbformat": 4,
  "nbformat_minor": 0,
  "metadata": {
    "kernelspec": {
      "display_name": "Python (env markitdown)",
      "language": "python",
      "name": "py-dku-venv-markitdown"
    },
    "associatedRecipe": "compute_corpus_strings_statistics_with_pareto",
    "creator": "ludovic.bocken@cgi.com",
    "createdOn": 1738598298893,
    "tags": [
      "recipe-editor"
    ],
    "customFields": {}
  },
  "cells": [
    {
      "cell_type": "code",
      "metadata": {},
      "outputs": [],
      "execution_count": 0,
      "source": [
        "# -*- coding: utf-8 -*-\n",
        "import dataiku\n",
        "import pandas as pd, numpy as np\n",
        "from dataiku import pandasutils as pdu\n",
        "\n",
        "# Read recipe inputs\n",
        "A220_tech_docs_text \u003d dataiku.Folder(\"rhnW9xGx\")\n",
        "A220_tech_docs_text_info \u003d A220_tech_docs_text.get_info()\n",
        "\n",
        "\n",
        "# Compute recipe outputs\n",
        "# TODO: Write here your actual code that computes the outputs\n",
        "# NB: DSS supports several kinds of APIs for reading and writing data. Please see doc.\n",
        "\n",
        "corpus_strings_statistics_with_pareto_df \u003d ... # Compute a Pandas dataframe to write into corpus_strings_statistics_with_pareto\n",
        "\n",
        "\n",
        "# Write recipe outputs\n",
        "corpus_strings_statistics_with_pareto \u003d dataiku.Dataset(\"corpus_strings_statistics_with_pareto\")\n",
        "corpus_strings_statistics_with_pareto.write_with_schema(corpus_strings_statistics_with_pareto_df)"
      ]
    }
  ]
}