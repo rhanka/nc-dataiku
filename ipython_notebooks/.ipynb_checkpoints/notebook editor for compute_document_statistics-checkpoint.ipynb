{
  "nbformat": 4,
  "nbformat_minor": 0,
  "metadata": {
    "kernelspec": {
      "display_name": "Python (env markitdown)",
      "language": "python",
      "name": "py-dku-venv-markitdown"
    },
    "associatedRecipe": "compute_document_statistics",
    "dkuGit": {
      "lastInteraction": 0
    },
    "creationTag": {
      "versionNumber": 0,
      "lastModifiedBy": {
        "login": "ludovic.bocken@cgi.com"
      },
      "lastModifiedOn": 1738262123813
    },
    "creator": "ludovic.bocken@cgi.com",
    "createdOn": 1738262123813,
    "tags": [
      "recipe-editor"
    ],
    "customFields": {}
  },
  "cells": [
    {
      "cell_type": "code",
      "metadata": {},
      "outputs": [],
      "execution_count": 0,
      "source": [
        "# -*- coding: utf-8 -*-\n",
        "import dataiku\n",
        "import pandas as pd\n",
        "import numpy as np\n",
        "import re\n",
        "import textstat\n",
        "from dataiku import pandasutils as pdu\n",
        "\n",
        "# Read recipe inputs\n",
        "A220_tech_docs_text \u003d dataiku.Folder(\"rhnW9xGx\")\n",
        "A220_tech_docs_text_info \u003d A220_tech_docs_text.get_info()"
      ]
    },
    {
      "cell_type": "code",
      "metadata": {},
      "outputs": [],
      "execution_count": 0,
      "source": [
        "# Function to compute text statistics\n",
        "def compute_text_stats(text):\n",
        "    num_chars \u003d len(text)\n",
        "    num_words \u003d len(text.split())\n",
        "    num_sentences \u003d textstat.sentence_count(text)\n",
        "    avg_word_length \u003d np.mean([len(word) for word in text.split()]) if num_words \u003e 0 else 0\n",
        "    lexical_diversity \u003d len(set(text.split())) / num_words if num_words \u003e 0 else 0\n",
        "    readability \u003d textstat.flesch_kincaid_grade(text)\n",
        "\n",
        "    return pd.Series({\n",
        "        \"num_chars\": num_chars,\n",
        "        \"num_words\": num_words,\n",
        "        \"num_sentences\": num_sentences,\n",
        "        \"avg_word_length\": avg_word_length,\n",
        "        \"lexical_diversity\": lexical_diversity,\n",
        "        \"readability\": readability\n",
        "    })\n",
        "\n",
        "# Load text data from the folder\n",
        "file_paths \u003d A220_tech_docs_text.list_paths_in_partition()\n",
        "data \u003d []\n",
        "for file_path in file_paths:\n",
        "    with A220_tech_docs_text.get_download_stream(file_path) as f:\n",
        "        text \u003d f.read().decode(\u0027utf-8\u0027)\n",
        "        stats \u003d compute_text_stats(text)\n",
        "        stats[\"file_path\"] \u003d file_path\n",
        "        data.append(stats)\n",
        "\n",
        "# Convert to DataFrame\n",
        "df_stats \u003d pd.DataFrame(data)"
      ]
    },
    {
      "cell_type": "code",
      "metadata": {},
      "outputs": [],
      "execution_count": 0,
      "source": [
        "# Write recipe outputs\n",
        "document_statistics \u003d dataiku.Dataset(\"document_statistics\")\n",
        "document_statistics.write_with_schema(df_stats)"
      ]
    }
  ]
}