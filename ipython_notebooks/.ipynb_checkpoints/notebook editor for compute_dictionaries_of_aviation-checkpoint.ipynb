{
  "nbformat": 4,
  "nbformat_minor": 0,
  "metadata": {
    "kernelspec": {
      "display_name": "Python in SCW-FA (env markitdown)",
      "language": "python",
      "name": "py-dku-containerized-venv-markitdown-scw-fa"
    },
    "associatedRecipe": "compute_dictionaries_of_aviation",
    "creator": "ludovic.bocken@cgi.com",
    "createdOn": 1738701477877,
    "tags": [
      "recipe-editor"
    ],
    "customFields": {}
  },
  "cells": [
    {
      "cell_type": "code",
      "metadata": {},
      "outputs": [],
      "execution_count": 0,
      "source": [
        "# -*- coding: utf-8 -*-\n",
        "import dataiku\n",
        "import pandas as pd, numpy as np\n",
        "from dataiku import pandasutils as pdu\n",
        "\n",
        "# Read recipe inputs\n",
        "Dictionaries \u003d dataiku.Folder(\"PP5gsWW1\")\n",
        "Dictionaries_info \u003d Dictionaries.get_info()\n",
        "\n",
        "\n",
        "# Compute recipe outputs\n",
        "# TODO: Write here your actual code that computes the outputs\n",
        "# NB: DSS supports several kinds of APIs for reading and writing data. Please see doc.\n",
        "\n",
        "dictionaries_of_aviation_df \u003d ... # Compute a Pandas dataframe to write into dictionaries_of_aviation\n",
        "\n",
        "\n",
        "# Write recipe outputs\n",
        "dictionaries_of_aviation \u003d dataiku.Dataset(\"dictionaries_of_aviation\")\n",
        "dictionaries_of_aviation.write_with_schema(dictionaries_of_aviation_df)"
      ]
    }
  ]
}