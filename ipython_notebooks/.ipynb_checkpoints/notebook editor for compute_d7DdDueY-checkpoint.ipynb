{
  "nbformat": 4,
  "nbformat_minor": 0,
  "metadata": {
    "kernelspec": {
      "display_name": "Python in SCW-FA (env markitdown)",
      "language": "python",
      "name": "py-dku-containerized-venv-markitdown-scw-fa"
    },
    "associatedRecipe": "compute_d7DdDueY",
    "dkuGit": {
      "lastInteraction": 0
    },
    "creationTag": {
      "versionNumber": 0,
      "lastModifiedBy": {
        "login": "fabien.antoine@cgi.com"
      },
      "lastModifiedOn": 1741384580258
    },
    "creator": "fabien.antoine@cgi.com",
    "createdOn": 1741384580258,
    "tags": [
      "recipe-editor"
    ],
    "customFields": {}
  },
  "cells": [
    {
      "cell_type": "code",
      "metadata": {},
      "outputs": [],
      "execution_count": 0,
      "source": [
        "# -*- coding: utf-8 -*-\n",
        "import dataiku\n",
        "import os\n",
        "from mistralai import Mistral\n",
        "from mistralai import DocumentURLChunk, ImageURLChunk, TextChunk\n",
        "import tempfile\n",
        "import json\n",
        "\n",
        "client \u003d dataiku.api_client()\n",
        "project \u003d client.get_default_project()\n",
        "auth_info \u003d client.get_auth_info(with_secrets\u003dTrue)\n",
        "MISTRAL_API_KEY \u003d None\n",
        "for secret in auth_info[\"secrets\"]:\n",
        "    if secret[\"key\"] \u003d\u003d \"MISTRAL_API_KEY\":\n",
        "        MISTRAL_API_KEY \u003d secret[\"value\"]\n",
        "\n",
        "client \u003d Mistral(api_key\u003dMISTRAL_API_KEY)"
      ]
    },
    {
      "cell_type": "code",
      "metadata": {},
      "outputs": [],
      "execution_count": 0,
      "source": [
        "# Folders\n",
        "A220_tech_docs \u003d dataiku.Folder(\"W8lS5GmB\")          # Input folder\n",
        "A220_tech_docs_prep \u003d dataiku.Folder(\"d7DdDueY\")    # Output folder\n",
        "\n",
        "# Lister les fichiers PDF\n",
        "pdf_files \u003d [f for f in A220_tech_docs.list_paths_in_partition() if f.lower().endswith(\".pdf\")]\n",
        "\n",
        "for pdf_file in pdf_files:\n",
        "    # Lire le contenu PDF\n",
        "    with A220_tech_docs.get_download_stream(pdf_file) as f:\n",
        "        print(f\"file: {pdf_file}\")\n",
        "        # Create upload file object for Mistral API\n",
        "        uploaded_file \u003d client.files.upload(\n",
        "            file\u003d{\n",
        "                \"file_name\": pdf_file,\n",
        "                \"content\": f.read(),\n",
        "            },\n",
        "            purpose\u003d\"ocr\",\n",
        "        )\n",
        "        signed_url \u003d client.files.get_signed_url(file_id\u003duploaded_file.id, expiry\u003d1)\n",
        "        pdf_response \u003d client.ocr.process(document\u003dDocumentURLChunk(document_url\u003dsigned_url.url), model\u003d\"mistral-ocr-latest\", include_image_base64\u003dTrue)\n",
        "        response_dict \u003d json.loads(pdf_response.json())\n",
        "        json_string \u003d json.dumps(response_dict, indent\u003d4)\n",
        "\n",
        "        # Écrire le fichier .json\n",
        "        json_file_name \u003d os.path.splitext(pdf_file)[0] + \".json\"\n",
        "        with A220_tech_docs_prep.get_writer(json_file_name) as writer:\n",
        "            writer.write(json_string.encode(\u0027utf-8\u0027))"
      ]
    }
  ]
}