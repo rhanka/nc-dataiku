{
  "metadata": {
    "kernelspec": {
      "name": "py-dku-containerized-venv-markitdown-scw-fa",
      "display_name": "Python in SCW-FA (env markitdown)",
      "language": "python"
    },
    "hide_input": false,
    "language_info": {
      "name": "python",
      "version": "3.11.10",
      "mimetype": "text/x-python",
      "codemirror_mode": {
        "name": "ipython",
        "version": 3
      },
      "pygments_lexer": "ipython3",
      "nbconvert_exporter": "python",
      "file_extension": ".py"
    },
    "dkuGit": {
      "lastInteraction": 0
    },
    "associatedRecipe": "compute_d7DdDueY",
    "creator": "fabien.antoine@cgi.com",
    "creationTag": {
      "versionNumber": 0,
      "lastModifiedBy": {
        "login": "fabien.antoine@cgi.com"
      },
      "lastModifiedOn": 1741384580258
    },
    "createdOn": 1741384580258,
    "tags": [
      "recipe-editor"
    ],
    "customFields": {},
    "modifiedBy": "fabien.antoine@cgi.com"
  },
  "nbformat": 4,
  "nbformat_minor": 1,
  "cells": [
    {
      "execution_count": 0,
      "cell_type": "code",
      "metadata": {},
      "source": [
        "# -*- coding: utf-8 -*-\nimport dataiku\nimport os\nfrom mistralai import Mistral\nfrom mistralai import DocumentURLChunk, ImageURLChunk, TextChunk\nimport tempfile\nimport json\n\nclient \u003d dataiku.api_client()\nproject \u003d client.get_default_project()\nauth_info \u003d client.get_auth_info(with_secrets\u003dTrue)\nMISTRAL_API_KEY \u003d None\nfor secret in auth_info[\"secrets\"]:\n    if secret[\"key\"] \u003d\u003d \"MISTRAL_API_KEY\":\n        MISTRAL_API_KEY \u003d secret[\"value\"]\n\nclient \u003d Mistral(api_key\u003dMISTRAL_API_KEY)"
      ],
      "outputs": []
    },
    {
      "execution_count": 0,
      "cell_type": "code",
      "metadata": {},
      "source": [
        "# Folders\nA220_tech_docs \u003d dataiku.Folder(\\\"W8lS5GmB\\\")          # Input folder\nA220_tech_docs_prep \u003d dataiku.Folder(\\\"d7DdDueY\\\")    # Output folder\n\n# Lister les fichiers PDF\npdf_files \u003d [f for f in A220_tech_docs.list_paths_in_partition() if f.lower().endswith(\\\".pdf\\\")]\npdf_files.sort()\n\n# Lister les fichiers JSON existants pour éviter les doublons\nexisting_json_files \u003d set(A220_tech_docs_prep.list_paths_in_partition())\n\nindex \u003d 0\nwhile index \u003c len(pdf_files):\n    pdf_file \u003d pdf_files[index]\n    json_file_name \u003d os.path.splitext(pdf_file)[0] + \\\".json\\\"\n\n    # Vérifier si le fichier JSON existe déjà\n    if json_file_name in existing_json_files:\n        print(f\\\"{json_file_name} existe déjà, passe au suivant.\\\")\n        index +\u003d 1\n        continue\n\n    # Lire le contenu PDF\n    with A220_tech_docs.get_download_stream(pdf_file) as f:\n        print(f\\\"Traitement du fichier : {pdf_file}\\\")\n        try:\n            uploaded_file \u003d client.files.upload(\n                file\u003d{\n                    \\\"file_name\\\": pdf_file,\n                    \\\"content\\\": f.read(),\n                },\n                purpose\u003d\\\"ocr\\\",\n            )\n            signed_url \u003d client.files.get_signed_url(file_id\u003duploaded_file.id, expiry\u003d1)\n            pdf_response \u003d client.ocr.process(\n                document\u003dDocumentURLChunk(document_url\u003dsigned_url.url),\n                model\u003d\\\"mistral-ocr-latest\\\",\n                include_image_base64\u003dTrue\n            )\n        except Exception as e:\n            print(f\\\"Erreur lors du traitement de {pdf_file}: {e}. Réessai dans 2 secondes.\\\")\n            time.sleep(2)\n            try:\n                pdf_response \u003d client.ocr.process(\n                    document\u003dDocumentURLChunk(document_url\u003dsigned_url.url),\n                    model\u003d\\\"mistral-ocr-latest\\\",\n                    include_image_base64\u003dTrue\n                )\n            except Exception as e:\n                print(f\\\"Échec répété pour {pdf_file}, ajout en fin de liste: {e}\\\")\n                pdf_files.append(pdf_file)\n                index +\u003d 1\n                continue\n\n        response_dict \u003d json.loads(pdf_response.json())\n        json_string \u003d json.dumps(response_dict, indent\u003d4)\n\n        # Écrire le fichier .json\n        with A220_tech_docs_prep.get_writer(json_file_name) as writer:\n            writer.write(json_string.encode(\u0027utf-8\u0027))\n\n    index +\u003d 1\n"
      ],
      "outputs": []
    },
    {
      "execution_count": 0,
      "cell_type": "code",
      "metadata": {},
      "source": [
        ""
      ],
      "outputs": []
    }
  ]
}