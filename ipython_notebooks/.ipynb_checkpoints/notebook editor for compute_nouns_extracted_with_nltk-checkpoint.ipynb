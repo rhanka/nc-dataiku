{
  "nbformat": 4,
  "nbformat_minor": 0,
  "metadata": {
    "kernelspec": {
      "display_name": "Python in SCW-FA (env markitdown)",
      "language": "python",
      "name": "py-dku-containerized-venv-markitdown-scw-fa"
    },
    "associatedRecipe": "compute_nouns_extracted_with_nltk",
    "dkuGit": {
      "lastInteraction": 0
    },
    "creationTag": {
      "versionNumber": 0,
      "lastModifiedBy": {
        "login": "ludovic.bocken@cgi.com"
      },
      "lastModifiedOn": 1738688431757
    },
    "creator": "ludovic.bocken@cgi.com",
    "createdOn": 1738688431757,
    "tags": [
      "recipe-editor"
    ],
    "customFields": {}
  },
  "cells": [
    {
      "cell_type": "markdown",
      "metadata": {},
      "source": [
        "# Import libraries"
      ]
    },
    {
      "cell_type": "code",
      "metadata": {},
      "outputs": [],
      "execution_count": 0,
      "source": [
        "# -*- coding: utf-8 -*-\n",
        "import dataiku\n",
        "import pandas as pd, numpy as np\n",
        "from dataiku import pandasutils as pdu\n",
        "import nltk\n",
        "from nltk import word_tokenize, pos_tag"
      ]
    },
    {
      "cell_type": "code",
      "metadata": {},
      "outputs": [],
      "execution_count": 0,
      "source": [
        "nltk.download(\u0027punkt\u0027)\n",
        "nltk.download(\u0027punkt_tab\u0027)\n",
        "\n",
        "nltk.download(\u0027averaged_perceptron_tagger\u0027)\n",
        "nltk.download(\u0027averaged_perceptron_tagger_eng\u0027)"
      ]
    },
    {
      "cell_type": "markdown",
      "metadata": {},
      "source": [
        "# Read recipe inputs"
      ]
    },
    {
      "cell_type": "code",
      "metadata": {},
      "outputs": [],
      "execution_count": 0,
      "source": [
        "corpus_for_knowledge_engineering \u003d dataiku.Dataset(\"corpus_for_knowledge_engineering\")\n",
        "corpus_for_knowledge_engineering_df \u003d corpus_for_knowledge_engineering.get_dataframe()"
      ]
    },
    {
      "cell_type": "code",
      "metadata": {},
      "outputs": [],
      "execution_count": 0,
      "source": [
        "corpus_for_knowledge_engineering_df[\"lower_text\"] \u003d corpus_for_knowledge_engineering_df[\"text\"].str.lower()"
      ]
    },
    {
      "cell_type": "code",
      "metadata": {},
      "outputs": [],
      "execution_count": 0,
      "source": [
        "# Function to extract nouns from text\n",
        "def extract_nouns(text):\n",
        "    words \u003d word_tokenize(text)\n",
        "    words_pos \u003d pos_tag(words)\n",
        "    #nouns \u003d [word for word, pos in words_pos if pos.startswith(\u0027NN\u0027)]\n",
        "    # \u0027 \u0027.join(nouns)\n",
        "    return words_pos"
      ]
    },
    {
      "cell_type": "code",
      "metadata": {},
      "outputs": [],
      "execution_count": 0,
      "source": [
        "data \u003d extract_nouns(text)"
      ]
    },
    {
      "cell_type": "code",
      "metadata": {},
      "outputs": [],
      "execution_count": 0,
      "source": [
        "df \u003d pd.DataFrame(data, columns\u003d[\u0027word\u0027, \u0027tag\u0027])\n",
        "tags \u003d [\"NN\", \"NNS\", \"NNP\"]\n",
        "df \u003d df[df[\"tag\"].isin(tags)]\n",
        "df"
      ]
    },
    {
      "cell_type": "code",
      "metadata": {},
      "outputs": [],
      "execution_count": 0,
      "source": [
        "pos_df \u003d corpus_for_knowledge_engineering_df[\u0027text\u0027].apply(extract_nouns)"
      ]
    },
    {
      "cell_type": "code",
      "metadata": {},
      "outputs": [],
      "execution_count": 0,
      "source": [
        "pos_df"
      ]
    },
    {
      "cell_type": "code",
      "metadata": {},
      "outputs": [],
      "execution_count": 0,
      "source": [
        "lower_pos_df \u003d corpus_for_knowledge_engineering_df[\u0027lower_text\u0027].apply(extract_nouns)"
      ]
    },
    {
      "cell_type": "code",
      "metadata": {},
      "outputs": [],
      "execution_count": 0,
      "source": [
        "# Apply the function to the dataframe\n",
        "corpus_for_knowledge_engineering_df[\u0027nouns\u0027] \u003d corpus_for_knowledge_engineering_df[\u0027text\u0027].apply(extract_nouns)"
      ]
    },
    {
      "cell_type": "code",
      "metadata": {},
      "outputs": [],
      "execution_count": 0,
      "source": [
        "# Compute recipe outputs from inputs\n",
        "nouns_extracted_with_nltk_df \u003d corpus_for_knowledge_engineering_df[[\u0027nouns\u0027]]"
      ]
    },
    {
      "cell_type": "code",
      "metadata": {},
      "outputs": [],
      "execution_count": 0,
      "source": [
        "nouns_extracted_with_nltk_df"
      ]
    },
    {
      "cell_type": "code",
      "metadata": {},
      "outputs": [],
      "execution_count": 0,
      "source": [
        "# Write recipe outputs\n",
        "nouns_extracted_with_nltk \u003d dataiku.Dataset(\"nouns_extracted_with_nltk\")\n",
        "nouns_extracted_with_nltk.write_with_schema(nouns_extracted_with_nltk_df)"
      ]
    }
  ]
}