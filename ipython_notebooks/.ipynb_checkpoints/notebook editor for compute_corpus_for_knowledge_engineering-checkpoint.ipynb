{
  "nbformat": 4,
  "nbformat_minor": 0,
  "metadata": {
    "kernelspec": {
      "display_name": "Python in SCW-FA (env markitdown)",
      "language": "python",
      "name": "py-dku-containerized-venv-markitdown-scw-fa"
    },
    "associatedRecipe": "compute_corpus_for_knowledge_engineering",
    "dkuGit": {
      "lastInteraction": 0
    },
    "creationTag": {
      "versionNumber": 0,
      "lastModifiedBy": {
        "login": "ludovic.bocken@cgi.com"
      },
      "lastModifiedOn": 1738686158938
    },
    "creator": "ludovic.bocken@cgi.com",
    "createdOn": 1738686158938,
    "tags": [
      "recipe-editor"
    ],
    "customFields": {}
  },
  "cells": [
    {
      "cell_type": "markdown",
      "metadata": {},
      "source": [
        "# Import libraries"
      ]
    },
    {
      "cell_type": "code",
      "metadata": {},
      "outputs": [],
      "execution_count": 0,
      "source": [
        "# -*- coding: utf-8 -*-\n",
        "import dataiku\n",
        "import pandas as pd, numpy as np\n",
        "from dataiku import pandasutils as pdu"
      ]
    },
    {
      "cell_type": "markdown",
      "metadata": {},
      "source": [
        "# Get texts"
      ]
    },
    {
      "cell_type": "code",
      "metadata": {},
      "outputs": [],
      "execution_count": 0,
      "source": [
        "A220_tech_docs_text \u003d dataiku.Folder(\"rhnW9xGx\")\n",
        "A220_tech_docs_text_info \u003d A220_tech_docs_text.get_info()\n",
        "# Assuming the folder contains text files, we can read them into a DataFrame\n",
        "\n",
        "file_paths \u003d A220_tech_docs_text.list_paths_in_partition()\n",
        "texts \u003d []\n",
        "\n",
        "for file_path in file_paths:\n",
        "    with A220_tech_docs_text.get_download_stream(file_path) as f:\n",
        "        texts.append(f.read().decode(\u0027utf-8\u0027))"
      ]
    },
    {
      "cell_type": "markdown",
      "metadata": {},
      "source": [
        "# Clean texts"
      ]
    },
    {
      "cell_type": "code",
      "metadata": {},
      "outputs": [],
      "execution_count": 0,
      "source": [
        "clean_texts \u003d texts"
      ]
    },
    {
      "cell_type": "code",
      "metadata": {},
      "outputs": [],
      "execution_count": 0,
      "source": [
        "# Compute recipe outputs\n",
        "# TODO: Write here your actual code that computes the outputs\n",
        "# NB: DSS supports several kinds of APIs for reading and writing data. Please see doc.\n",
        "clean_texts \u003d [text.replace(\"\\n\\n\", \"\\\\pp\") for text in clean_texts]\n",
        "clean_texts \u003d [text.replace(\"\\n\", \" \") for text in clean_texts]\n",
        "clean_texts \u003d [text.replace(\"\\\\pp\", \"\\n\\n\") for text in clean_texts]\n",
        "clean_texts \u003d [text.replace(\"\\x0c\", \"\\n\") for text in clean_texts]"
      ]
    },
    {
      "cell_type": "markdown",
      "metadata": {},
      "source": [
        "# Save dataframe"
      ]
    },
    {
      "cell_type": "code",
      "metadata": {},
      "outputs": [],
      "execution_count": 0,
      "source": [
        "corpus_for_knowledge_engineering_df \u003d pd.DataFrame({\"text\": clean_texts})"
      ]
    },
    {
      "cell_type": "code",
      "metadata": {},
      "outputs": [],
      "execution_count": 0,
      "source": [
        "corpus_for_knowledge_engineering_df"
      ]
    },
    {
      "cell_type": "code",
      "metadata": {},
      "outputs": [],
      "execution_count": 0,
      "source": [
        "corpus_for_knowledge_engineering_df[\"text\"][2]"
      ]
    },
    {
      "cell_type": "markdown",
      "metadata": {},
      "source": [
        "# Write recipe outputs"
      ]
    },
    {
      "cell_type": "code",
      "metadata": {},
      "outputs": [],
      "execution_count": 0,
      "source": [
        "corpus_for_knowledge_engineering \u003d dataiku.Dataset(\"corpus_for_knowledge_engineering\")\n",
        "corpus_for_knowledge_engineering.write_with_schema(corpus_for_knowledge_engineering_df)"
      ]
    }
  ]
}