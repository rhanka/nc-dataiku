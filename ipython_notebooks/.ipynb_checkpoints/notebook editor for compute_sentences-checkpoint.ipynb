{
  "nbformat": 4,
  "nbformat_minor": 0,
  "metadata": {
    "kernelspec": {
      "display_name": "Python (env markitdown)",
      "language": "python",
      "name": "py-dku-venv-markitdown"
    },
    "associatedRecipe": "compute_sentences",
    "dkuGit": {
      "lastInteraction": 0
    },
    "creationTag": {
      "versionNumber": 0,
      "lastModifiedBy": {
        "login": "ludovic.bocken@cgi.com"
      },
      "lastModifiedOn": 1738601047761
    },
    "creator": "ludovic.bocken@cgi.com",
    "createdOn": 1738601047761,
    "tags": [
      "recipe-editor"
    ],
    "customFields": {}
  },
  "cells": [
    {
      "cell_type": "code",
      "metadata": {},
      "outputs": [],
      "execution_count": 0,
      "source": [
        "# -*- coding: utf-8 -*-\n",
        "import dataiku\n",
        "import pandas as pd\n",
        "import numpy as np\n",
        "from dataiku import pandasutils as pdu\n",
        "import nltk\n",
        "nltk.download(\u0027punkt\u0027)\n",
        "from nltk.tokenize import sent_tokenize\n",
        "\n",
        "# Read recipe inputs\n",
        "A220_tech_docs_text \u003d dataiku.Folder(\"rhnW9xGx\")\n",
        "A220_tech_docs_text_info \u003d A220_tech_docs_text.get_info()\n",
        "\n",
        "# Assuming the folder contains text files, we can read them into a DataFrame\n",
        "import os\n",
        "\n",
        "file_paths \u003d A220_tech_docs_text.list_paths_in_partition()\n",
        "texts \u003d []\n",
        "\n",
        "for file_path in file_paths:\n",
        "    with A220_tech_docs_text.get_download_stream(file_path) as f:\n",
        "        texts.append(f.read().decode(\u0027utf-8\u0027))\n",
        "\n",
        "# Extract sentences from the texts\n",
        "sentences \u003d []\n",
        "for text in texts:\n",
        "    text \u003d text.replace(\"\\x0c\", \"\\n\")\n",
        "    text \u003d text.strip()\n",
        "    sentences.extend(sent_tokenize(text))\n",
        "\n",
        "# Create a DataFrame from the sentences\n",
        "sentences_df \u003d pd.DataFrame({\u0027sentence\u0027: sentences})\n",
        "\n",
        "# Splitting sentences by newline character\n",
        "sentences_df[\u0027sentence\u0027] \u003d sentences_df[\u0027sentence\u0027].apply(lambda x: x.split(\u0027\\n\u0027))\n",
        "# Stripping whitespace from each sentence\n",
        "exploded_df \u003d sentences_df.explode(\u0027sentence\u0027)\n",
        "exploded_df \u003d exploded_df.drop_duplicates()\n",
        "exploded_df[\u0027sentence\u0027] \u003d exploded_df[\u0027sentence\u0027].apply(lambda x: x.strip() if isinstance(x, str) else x)\n",
        "exploded_df[\u0027sentence\u0027].replace(\u0027\u0027, np.nan, inplace\u003dTrue)\n",
        "exploded_df \u003d exploded_df.dropna().reset_index(drop\u003dTrue)\n",
        "clean_sentences_according_to_nltk_df \u003d exploded_df"
      ]
    },
    {
      "cell_type": "code",
      "metadata": {},
      "outputs": [],
      "execution_count": 0,
      "source": [
        "clean_sentences_according_to_nltk_df"
      ]
    },
    {
      "cell_type": "code",
      "metadata": {},
      "outputs": [],
      "execution_count": 0,
      "source": [
        "import spacy\n",
        "import pandas as pd\n",
        "\n",
        "# Load the spaCy model\n",
        "nlp \u003d spacy.load(\u0027en_core_web_sm\u0027)\n",
        "\n",
        "# Function to refine sentences and add POS tags\n",
        "def refine_sentences_with_pos(df, column_name):\n",
        "    refined_sentences \u003d []\n",
        "    pos_sentences \u003d []\n",
        "    for sentence in df[column_name]:\n",
        "        doc \u003d nlp(sentence)\n",
        "        refined_sentences.extend([sent.text for sent in doc.sents])\n",
        "        pos_sentences.extend([\u0027 \u0027.join([token.pos_ for token in sent]) for sent in doc.sents])\n",
        "    return pd.DataFrame({column_name: refined_sentences, \u0027POS_sentence\u0027: pos_sentences})\n",
        "\n",
        "# Refine the sentences and add POS tags to the DataFrame\n",
        "refined_df \u003d refine_sentences_with_pos(clean_sentences_according_to_nltk_df, \u0027sentence\u0027)"
      ]
    },
    {
      "cell_type": "code",
      "metadata": {},
      "outputs": [],
      "execution_count": 0,
      "source": [
        "refined_df"
      ]
    },
    {
      "cell_type": "code",
      "metadata": {},
      "outputs": [],
      "execution_count": 0,
      "source": [
        "valid_sentences_df \u003d refined_df[refined_df[\"POS_sentence\"].contains(\"VERB\")]\n",
        "valid_sentences_df \u003d refined_df[refined_df[\"POS_sentence\"].endswith(\"PUNCT\")]"
      ]
    },
    {
      "cell_type": "code",
      "metadata": {},
      "outputs": [],
      "execution_count": 0,
      "source": [
        "# Write recipe outputs\n",
        "sentences \u003d dataiku.Dataset(\"sentences\")\n",
        "sentences.write_with_schema(refined_df)"
      ]
    },
    {
      "cell_type": "code",
      "metadata": {},
      "outputs": [],
      "execution_count": 0,
      "source": [
        "# Write in chunks to avoid memory overload\n",
        "with sentences.get_writer() as writer:\n",
        "    chunk_size \u003d 10000  # Adjust based on your memory capacity\n",
        "    for chunk in np.array_split(refined_df, max(1, len(refined_df) // chunk_size)):\n",
        "        writer.write_dataframe(chunk)"
      ]
    }
  ]
}