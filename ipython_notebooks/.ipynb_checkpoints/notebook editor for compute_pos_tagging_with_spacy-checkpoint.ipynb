{
  "nbformat": 4,
  "nbformat_minor": 0,
  "metadata": {
    "kernelspec": {
      "display_name": "Python in SCW-FA (env markitdown)",
      "language": "python",
      "name": "py-dku-containerized-venv-markitdown-scw-fa"
    },
    "associatedRecipe": "compute_pos_tagging_with_spacy",
    "creator": "ludovic.bocken@cgi.com",
    "createdOn": 1738933283190,
    "tags": [
      "recipe-editor"
    ],
    "customFields": {}
  },
  "cells": [
    {
      "cell_type": "markdown",
      "metadata": {},
      "source": [
        "# Import libraries"
      ]
    },
    {
      "cell_type": "code",
      "metadata": {},
      "outputs": [],
      "execution_count": 0,
      "source": [
        "# -*- coding: utf-8 -*-\n",
        "import dataiku\n",
        "import pandas as pd, numpy as np\n",
        "from dataiku import pandasutils as pdu\n",
        "import spacy\n",
        "from dframcy import DframCy\n",
        "\n",
        "# Load the spaCy model\n",
        "nlp \u003d spacy.load(\"en_core_web_sm\")"
      ]
    },
    {
      "cell_type": "markdown",
      "metadata": {},
      "source": [
        "# Read recipe inputs"
      ]
    },
    {
      "cell_type": "code",
      "metadata": {},
      "outputs": [],
      "execution_count": 0,
      "source": [
        "corpus_for_knowledge_engineering \u003d dataiku.Dataset(\"corpus_for_knowledge_engineering\")\n",
        "corpus_for_knowledge_engineering_df \u003d corpus_for_knowledge_engineering.get_dataframe()"
      ]
    },
    {
      "cell_type": "code",
      "metadata": {},
      "outputs": [],
      "execution_count": 0,
      "source": [
        "corpus_for_knowledge_engineering_df[\"lower_text\"] \u003d corpus_for_knowledge_engineering_df[\"text\"].str.lower()\n",
        "corpus_for_knowledge_engineering_df[\"upper_text\"] \u003d corpus_for_knowledge_engineering_df[\"text\"].str.upper()"
      ]
    },
    {
      "cell_type": "code",
      "metadata": {},
      "outputs": [],
      "execution_count": 0,
      "source": [
        "corpus_for_knowledge_engineering_df"
      ]
    },
    {
      "cell_type": "code",
      "metadata": {},
      "outputs": [],
      "execution_count": 0,
      "source": [
        "def extract_nouns_with_spacy(text):\n",
        "    dframcy \u003d DframCy(nlp)\n",
        "    doc \u003d dframcy.nlp(text)\n",
        "    pos_df \u003d dframcy.to_dataframe(doc)\n",
        "    tags \u003d [\"NN\", \"NNP\"]\n",
        "    filtered_pos_df \u003d pos_df[pos_df[\"token_tag_\"].isin(tags)]\n",
        "    return filtered_pos_df\n",
        "\n",
        "\n",
        "# Compute recipe outputs from inputs\n",
        "# TODO: Replace this part by your actual code that computes the output, as a Pandas dataframe\n",
        "# NB: DSS also supports other kinds of APIs for reading and writing data. Please see doc.\n",
        "\n",
        "pos_tagging_with_spacy_df \u003d corpus_for_knowledge_engineering_df # For this sample code, simply copy input to output\n",
        "\n",
        "\n",
        "# Write recipe outputs\n",
        "pos_tagging_with_spacy \u003d dataiku.Dataset(\"pos_tagging_with_spacy\")\n",
        "pos_tagging_with_spacy.write_with_schema(pos_tagging_with_spacy_df)"
      ]
    }
  ]
}