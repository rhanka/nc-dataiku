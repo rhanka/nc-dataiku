{
  "nbformat": 4,
  "nbformat_minor": 0,
  "metadata": {
    "kernelspec": {
      "display_name": "Python in SCW-FA (env markitdown)",
      "language": "python",
      "name": "py-dku-containerized-venv-markitdown-scw-fa"
    },
    "associatedRecipe": "compute_dale_crane_dic",
    "dkuGit": {
      "lastInteraction": 0
    },
    "creationTag": {
      "versionNumber": 0,
      "lastModifiedBy": {
        "login": "ludovic.bocken@cgi.com"
      },
      "lastModifiedOn": 1738702156147
    },
    "creator": "ludovic.bocken@cgi.com",
    "createdOn": 1738702156147,
    "tags": [
      "recipe-editor"
    ],
    "customFields": {}
  },
  "cells": [
    {
      "cell_type": "code",
      "metadata": {},
      "outputs": [],
      "execution_count": 0,
      "source": [
        "# -*- coding: utf-8 -*-\n",
        "import dataiku\n",
        "import pandas as pd, numpy as np\n",
        "from dataiku import pandasutils as pdu\n",
        "import re"
      ]
    },
    {
      "cell_type": "code",
      "metadata": {},
      "outputs": [],
      "execution_count": 0,
      "source": [
        "# Read recipe inputs\n",
        "dictionaries_of_aviation \u003d dataiku.Dataset(\"dictionaries_of_aviation\")\n",
        "dictionaries_of_aviation_df \u003d dictionaries_of_aviation.get_dataframe()"
      ]
    },
    {
      "cell_type": "code",
      "metadata": {},
      "outputs": [],
      "execution_count": 0,
      "source": [
        "dictionaries_of_aviation_df"
      ]
    },
    {
      "cell_type": "code",
      "metadata": {},
      "outputs": [],
      "execution_count": 0,
      "source": [
        "dictionary \u003d dictionaries_of_aviation_df[\"content\"][2]"
      ]
    },
    {
      "cell_type": "code",
      "metadata": {},
      "outputs": [],
      "execution_count": 0,
      "source": [
        "dictionary"
      ]
    },
    {
      "cell_type": "code",
      "metadata": {},
      "outputs": [],
      "execution_count": 0,
      "source": [
        "clean_dictionary \u003d dictionary\n",
        "clean_dictionary \u003d clean_dictionary.replace(\"-\\n\",\"\")\n",
        "clean_dictionary \u003d clean_dictionary.replace(\" \\n\",\" \")\n",
        "\n",
        "#clean_dictionary \u003d re.sub(r\u0027\\s*\\n\\s*\u0027, \u0027 \u0027, clean_dictionary)\n",
        "clean_dictionary \u003d re.sub(r\u0027([a-zA-Z]|[0-9])\\n([a-zA-Z]|[0-9])\u0027, r\u0027\\1 \\2\u0027, clean_dictionary)\n",
        "clean_dictionary \u003d re.sub(\" \\x02 \", \u0027 \u0027, clean_dictionary)"
      ]
    },
    {
      "cell_type": "code",
      "metadata": {},
      "outputs": [],
      "execution_count": 0,
      "source": [
        "clean_dictionary"
      ]
    },
    {
      "cell_type": "markdown",
      "metadata": {},
      "source": [
        "# Entries"
      ]
    },
    {
      "cell_type": "code",
      "metadata": {},
      "outputs": [],
      "execution_count": 0,
      "source": [
        "entries \u003d re.findall(r\u0027\\b(\\w+)\\b\\s+\\b\\1\\b\u0027, clean_dictionary)"
      ]
    },
    {
      "cell_type": "code",
      "metadata": {},
      "outputs": [],
      "execution_count": 0,
      "source": [
        "pattern \u003d r\u0027\\b(\\w+)\\b\\s+\\b\\1\\b /\u0027\n",
        "replacement \u003d r\u0027[[[\\1]]] /\u0027\n",
        "dictionary_with_entries \u003d re.sub(pattern, replacement, clean_dictionary)\n",
        "dictionary_with_entries"
      ]
    },
    {
      "cell_type": "code",
      "metadata": {},
      "outputs": [],
      "execution_count": 0,
      "source": [
        "# Split the text using triple brackets\n",
        "entries \u003d re.split(r\u0027\\[\\[\\[|\\]\\]\\]\u0027, dictionary_with_entries)\n",
        "\n",
        "# Remove empty entries and strip whitespace\n",
        "entries \u003d [entry.strip() for entry in entries if entry.strip()]\n",
        "\n",
        "# Ensure both columns have the same length by adding empty strings if necessary\n",
        "if len(entries) % 2 !\u003d 0:\n",
        "    entries.append(\u0027\u0027)\n",
        "\n",
        "# Create a DataFrame with two columns: \u0027Entry\u0027 and \u0027Definition\u0027\n",
        "data \u003d {\u0027Entry\u0027: entries[0::2], \u0027Definition\u0027: entries[1::2]}\n",
        "df \u003d pd.DataFrame(data)\n",
        "df"
      ]
    },
    {
      "cell_type": "code",
      "metadata": {},
      "outputs": [],
      "execution_count": 0,
      "source": [
        "dale_crane_dic_df \u003d pd.DataFrame({\"entry\":list(df[\"Definition\"][0:1870]),\"definition\":list(df[\"Entry\"][1:1871])})"
      ]
    },
    {
      "cell_type": "code",
      "metadata": {},
      "outputs": [],
      "execution_count": 0,
      "source": [
        "# Write recipe outputs\n",
        "dale_crane_dic \u003d dataiku.Dataset(\"dale_crane_dic\")\n",
        "dale_crane_dic.write_with_schema(dale_crane_dic_df)"
      ]
    }
  ]
}