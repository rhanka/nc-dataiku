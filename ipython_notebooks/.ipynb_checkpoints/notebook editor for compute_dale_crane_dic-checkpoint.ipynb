{
  "nbformat": 4,
  "nbformat_minor": 0,
  "metadata": {
    "kernelspec": {
      "display_name": "Python in SCW-FA (env markitdown)",
      "language": "python",
      "name": "py-dku-containerized-venv-markitdown-scw-fa"
    },
    "associatedRecipe": "compute_dale_crane_dic",
    "creator": "ludovic.bocken@cgi.com",
    "createdOn": 1738702156147,
    "tags": [
      "recipe-editor"
    ],
    "customFields": {}
  },
  "cells": [
    {
      "cell_type": "code",
      "metadata": {},
      "outputs": [],
      "execution_count": 0,
      "source": [
        "# -*- coding: utf-8 -*-\n",
        "import dataiku\n",
        "import pandas as pd, numpy as np\n",
        "from dataiku import pandasutils as pdu\n",
        "\n",
        "# Read recipe inputs\n",
        "dictionaries_of_aviation \u003d dataiku.Dataset(\"dictionaries_of_aviation\")\n",
        "dictionaries_of_aviation_df \u003d dictionaries_of_aviation.get_dataframe()\n",
        "\n",
        "\n",
        "# Compute recipe outputs from inputs\n",
        "# TODO: Replace this part by your actual code that computes the output, as a Pandas dataframe\n",
        "# NB: DSS also supports other kinds of APIs for reading and writing data. Please see doc.\n",
        "\n",
        "dale_crane_dic_df \u003d dictionaries_of_aviation_df # For this sample code, simply copy input to output\n",
        "\n",
        "\n",
        "# Write recipe outputs\n",
        "dale_crane_dic \u003d dataiku.Dataset(\"dale_crane_dic\")\n",
        "dale_crane_dic.write_with_schema(dale_crane_dic_df)"
      ]
    }
  ]
}