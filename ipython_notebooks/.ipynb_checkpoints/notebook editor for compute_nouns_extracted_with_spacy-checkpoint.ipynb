{
  "nbformat": 4,
  "nbformat_minor": 0,
  "metadata": {
    "kernelspec": {
      "display_name": "Python in SCW-FA (env markitdown)",
      "language": "python",
      "name": "py-dku-containerized-venv-markitdown-scw-fa"
    },
    "associatedRecipe": "compute_nouns_extracted_with_spacy",
    "dkuGit": {
      "lastInteraction": 0
    },
    "creationTag": {
      "versionNumber": 0,
      "lastModifiedBy": {
        "login": "ludovic.bocken@cgi.com"
      },
      "lastModifiedOn": 1738771495591
    },
    "creator": "ludovic.bocken@cgi.com",
    "createdOn": 1738771495591,
    "tags": [
      "recipe-editor"
    ],
    "customFields": {}
  },
  "cells": [
    {
      "cell_type": "code",
      "metadata": {},
      "outputs": [],
      "execution_count": 0,
      "source": [
        "# -*- coding: utf-8 -*-\n",
        "import dataiku\n",
        "import pandas as pd, numpy as np\n",
        "from dataiku import pandasutils as pdu\n",
        "\n",
        "# Read recipe inputs\n",
        "corpus_for_knowledge_engineering \u003d dataiku.Dataset(\"corpus_for_knowledge_engineering\")\n",
        "corpus_for_knowledge_engineering_df \u003d corpus_for_knowledge_engineering.get_dataframe()\n",
        "\n",
        "\n",
        "# Compute recipe outputs from inputs\n",
        "# TODO: Replace this part by your actual code that computes the output, as a Pandas dataframe\n",
        "# NB: DSS also supports other kinds of APIs for reading and writing data. Please see doc.\n",
        "\n",
        "nouns_extracted_with_spacy_df \u003d corpus_for_knowledge_engineering_df # For this sample code, simply copy input to output\n",
        "\n",
        "\n",
        "# Write recipe outputs\n",
        "nouns_extracted_with_spacy \u003d dataiku.Dataset(\"nouns_extracted_with_spacy\")\n",
        "nouns_extracted_with_spacy.write_with_schema(nouns_extracted_with_spacy_df)"
      ]
    },
    {
      "cell_type": "markdown",
      "metadata": {},
      "source": [
        "# Import libraries"
      ]
    },
    {
      "cell_type": "code",
      "metadata": {},
      "outputs": [],
      "execution_count": 0,
      "source": [
        "# -*- coding: utf-8 -*-\n",
        "import dataiku\n",
        "import pandas as pd, numpy as np\n",
        "from dataiku import pandasutils as pdu\n",
        "import spacy\n",
        "\n",
        "# Load the spaCy model\n",
        "nlp \u003d spacy.load(\"en_core_web_sm\")"
      ]
    },
    {
      "cell_type": "markdown",
      "metadata": {},
      "source": [
        "# Read recipe inputs"
      ]
    },
    {
      "cell_type": "code",
      "metadata": {},
      "outputs": [],
      "execution_count": 0,
      "source": [
        "corpus_for_knowledge_engineering \u003d dataiku.Dataset(\"corpus_for_knowledge_engineering\")\n",
        "corpus_for_knowledge_engineering_df \u003d corpus_for_knowledge_engineering.get_dataframe()"
      ]
    },
    {
      "cell_type": "code",
      "metadata": {},
      "outputs": [],
      "execution_count": 0,
      "source": [
        "corpus_for_knowledge_engineering_df[\"lower_text\"] \u003d corpus_for_knowledge_engineering_df[\"text\"].str.lower()\n",
        "corpus_for_knowledge_engineering_df[\"upper_text\"] \u003d corpus_for_knowledge_engineering_df[\"text\"].str.upper()"
      ]
    },
    {
      "cell_type": "code",
      "metadata": {},
      "outputs": [],
      "execution_count": 0,
      "source": [
        "corpus_for_knowledge_engineering_df"
      ]
    },
    {
      "cell_type": "markdown",
      "metadata": {},
      "source": [
        "# Extract nouns"
      ]
    },
    {
      "cell_type": "code",
      "metadata": {},
      "outputs": [],
      "execution_count": 0,
      "source": [
        "# Define the function to extract nouns and return a DataFrame\n",
        "def extract_nouns(doc_id, text):\n",
        "    doc \u003d nlp(text)\n",
        "    nouns \u003d [(doc_id, token.text, token.pos_) for token in doc if token.pos_ \u003d\u003d \"NOUN\"]\n",
        "    return pd.DataFrame(nouns, columns\u003d[\u0027doc_id\u0027, \u0027word\u0027, \u0027tag\u0027])"
      ]
    },
    {
      "cell_type": "code",
      "metadata": {},
      "outputs": [],
      "execution_count": 0,
      "source": [
        "# Apply the function to each row and concatenate the results\n",
        "pos_df \u003d pd.concat([extract_nouns(row[\u0027doc_id\u0027], row[\u0027text\u0027]) for _, row in corpus_for_knowledge_engineering_df.iterrows()], ignore_index\u003dTrue)"
      ]
    },
    {
      "cell_type": "code",
      "metadata": {},
      "outputs": [],
      "execution_count": 0,
      "source": [
        "pos_df[\"string\"] \u003d pos_df[\"word\"].str.lower()\n",
        "pos_df \u003d pos_df.drop_duplicates()"
      ]
    },
    {
      "cell_type": "code",
      "metadata": {},
      "outputs": [],
      "execution_count": 0,
      "source": [
        "pos_df"
      ]
    },
    {
      "cell_type": "markdown",
      "metadata": {},
      "source": [
        "## Lower case"
      ]
    },
    {
      "cell_type": "code",
      "metadata": {},
      "outputs": [],
      "execution_count": 0,
      "source": [
        "# Apply the function to each row and concatenate the results\n",
        "lower_pos_df \u003d pd.concat([extract_nouns(row[\u0027doc_id\u0027], row[\u0027lower_text\u0027]) for _, row in corpus_for_knowledge_engineering_df.iterrows()], ignore_index\u003dTrue)"
      ]
    },
    {
      "cell_type": "code",
      "metadata": {},
      "outputs": [],
      "execution_count": 0,
      "source": [
        "lower_pos_df[\"string\"] \u003d lower_pos_df[\"word\"].str.lower()\n",
        "lower_pos_df.rename(columns\u003d{\u0027tag\u0027:\u0027lower_tag\u0027}, inplace\u003dTrue)\n",
        "lower_pos_df.drop(columns\u003d[\u0027word\u0027], inplace\u003dTrue)\n",
        "lower_pos_df \u003d lower_pos_df.drop_duplicates()"
      ]
    },
    {
      "cell_type": "code",
      "metadata": {},
      "outputs": [],
      "execution_count": 0,
      "source": [
        "lower_pos_df"
      ]
    },
    {
      "cell_type": "code",
      "metadata": {},
      "outputs": [],
      "execution_count": 0,
      "source": [
        "merged_pos_df \u003d pd.merge(pos_df, lower_pos_df)"
      ]
    },
    {
      "cell_type": "code",
      "metadata": {},
      "outputs": [],
      "execution_count": 0,
      "source": [
        "merged_pos_df"
      ]
    },
    {
      "cell_type": "markdown",
      "metadata": {},
      "source": [
        "## Upper case"
      ]
    }
  ]
}