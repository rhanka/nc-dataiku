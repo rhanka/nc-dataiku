{
  "metadata": {
    "kernelspec": {
      "name": "py-dku-venv-markitdown",
      "display_name": "Python (env markitdown)",
      "language": "python"
    },
    "hide_input": false,
    "language_info": {
      "name": "python",
      "version": "3.11.11",
      "mimetype": "text/x-python",
      "codemirror_mode": {
        "name": "ipython",
        "version": 3
      },
      "pygments_lexer": "ipython3",
      "nbconvert_exporter": "python",
      "file_extension": ".py"
    },
    "dkuGit": {
      "lastInteraction": 0
    },
    "customFields": {},
    "associatedRecipe": "compute_W8lS5GmB",
    "tags": [
      "recipe-editor"
    ],
    "createdOn": 1737774380591,
    "creationTag": {
      "versionNumber": 0,
      "lastModifiedBy": {
        "login": "fabien.antoine@cgi.com"
      },
      "lastModifiedOn": 1737774380591
    },
    "creator": "fabien.antoine@cgi.com",
    "modifiedBy": "fabien.antoine@cgi.com"
  },
  "nbformat": 4,
  "nbformat_minor": 1,
  "cells": [
    {
      "execution_count": 0,
      "cell_type": "code",
      "metadata": {},
      "source": [
        "# -*- coding: utf-8 -*-\nimport dataiku\nimport os\nimport tempfile\nfrom pypdf import PdfReader, PdfWriter\n\n# Folders\nA220_tech_docs \u003d dataiku.Folder(\"SoQWOnhR\")          # Input folder\nA220_tech_docs_pages \u003d dataiku.Folder(\"W8lS5GmB\")    # Output folder\n\n# Lister les fichiers PDF\npdf_files \u003d [f for f in A220_tech_docs.list_paths_in_partition() if f.lower().endswith(\".pdf\")]\n\nfor pdf_file in pdf_files:\n    if \"492445413-Airbus-A220-Technical-Training-Manual-Airframe-Bombardier-CSeries-CS300.pdf\" in pdf_file:# Lire le contenu PDF\n        with A220_tech_docs.get_download_stream(pdf_file) as f:\n            pdf_data \u003d f.read()\n\n        # Utiliser un fichier temporaire pour la conversion\n        with tempfile.NamedTemporaryFile(delete\u003dTrue, suffix\u003d\".pdf\") as temp_pdf:\n            temp_pdf.write(pdf_data)\n            temp_pdf.flush()  # Assurez-vous que le contenu est écrit sur le disque\n\n            # Lire le PDF\n            reader \u003d PdfReader(temp_pdf.name)\n\n            # Extraire chaque page et sauvegarder en tant que fichier PDF séparé\n            for page_number, page in enumerate(reader.pages):\n                writer \u003d PdfWriter()\n                writer.add_page(page)\n\n                # Supprimer les métadonnées manuellement\n                writer.add_metadata({})  # Efface toutes les métadonnées pour réduire la taille\n\n                # Formatage du numéro de page avec padding (0001, 0002, ...)\n                padded_page_number \u003d str(page_number + 1).zfill(4)  # Ajout de padding à 4 chiffres\n\n                # Définir le nom de fichier pour chaque page\n                page_pdf_file_name \u003d f\"{os.path.splitext(os.path.basename(pdf_file))[0]}_page_{padded_page_number}.pdf\"\n\n                # Créer un fichier temporaire pour chaque page PDF\n                with tempfile.NamedTemporaryFile(delete\u003dFalse, suffix\u003d\".pdf\") as page_pdf:\n                    writer.write(page_pdf)\n                    page_pdf.flush()\n\n                    # Lire le contenu du fichier temporaire\n                    with open(page_pdf.name, \u0027rb\u0027) as page_pdf_file:\n                        page_pdf_data \u003d page_pdf_file.read()  # Lire les données en bytes\n                        print(f\"Taille du PDF page: {len(page_pdf_data)} bytes\")\n                        A220_tech_docs_pages.upload_data(page_pdf_file_name, page_pdf_data)\n\n                # Supprimer le fichier temporaire\n                os.remove(page_pdf.name)\n\n                if (page_number \u003e 2):\n                    break"
      ],
      "outputs": []
    },
    {
      "execution_count": 0,
      "cell_type": "code",
      "metadata": {},
      "source": [
        ""
      ],
      "outputs": []
    }
  ]
}