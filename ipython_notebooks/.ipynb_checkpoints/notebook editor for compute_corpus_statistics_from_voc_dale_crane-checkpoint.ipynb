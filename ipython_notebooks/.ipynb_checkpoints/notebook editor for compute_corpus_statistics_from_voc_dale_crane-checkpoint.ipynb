{
  "nbformat": 4,
  "nbformat_minor": 0,
  "metadata": {
    "kernelspec": {
      "display_name": "Python in SCW-FA (env markitdown)",
      "language": "python",
      "name": "py-dku-containerized-venv-markitdown-scw-fa"
    },
    "associatedRecipe": "compute_corpus_statistics_from_voc_dale_crane",
    "dkuGit": {
      "lastInteraction": 0
    },
    "creationTag": {
      "versionNumber": 0,
      "lastModifiedBy": {
        "login": "ludovic.bocken@cgi.com"
      },
      "lastModifiedOn": 1738781476828
    },
    "creator": "ludovic.bocken@cgi.com",
    "createdOn": 1738781476828,
    "tags": [
      "recipe-editor"
    ],
    "customFields": {}
  },
  "cells": [
    {
      "cell_type": "code",
      "metadata": {},
      "outputs": [],
      "execution_count": 0,
      "source": [
        "# -*- coding: utf-8 -*-\n",
        "import dataiku\n",
        "import pandas as pd, numpy as np\n",
        "from dataiku import pandasutils as pdu\n",
        "from collections import Counter"
      ]
    },
    {
      "cell_type": "code",
      "metadata": {},
      "outputs": [],
      "execution_count": 0,
      "source": [
        "# Read recipe inputs\n",
        "corpus_for_knowledge_engineering \u003d dataiku.Dataset(\"corpus_for_knowledge_engineering\")\n",
        "corpus_for_knowledge_engineering_df \u003d corpus_for_knowledge_engineering.get_dataframe()\n",
        "\n",
        "dale_crane_dic \u003d dataiku.Dataset(\"dale_crane_dic\")\n",
        "dale_crane_dic_df \u003d dale_crane_dic.get_dataframe()"
      ]
    },
    {
      "cell_type": "code",
      "metadata": {},
      "outputs": [],
      "execution_count": 0,
      "source": [
        "corpus \u003d corpus_for_knowledge_engineering_df[\"text\"]\n",
        "doc_ids \u003d corpus_for_knowledge_engineering_df[\"doc_id\"]"
      ]
    },
    {
      "cell_type": "code",
      "metadata": {},
      "outputs": [],
      "execution_count": 0,
      "source": [
        "vocabulary \u003d dale_crane_dic_df[\"entry\"]"
      ]
    },
    {
      "cell_type": "code",
      "metadata": {},
      "outputs": [],
      "execution_count": 0,
      "source": [
        "def compute_statistics(corpus, vocabulary):\n",
        "    # Tokenize the corpus into words\n",
        "    words \u003d corpus.split()\n",
        "\n",
        "    # Count the occurrences of each word in the corpus\n",
        "    word_counts \u003d Counter(words)\n",
        "\n",
        "    # Filter the counts to include only the words in the vocabulary\n",
        "    vocab_counts \u003d {word: word_counts[word] for word in vocabulary if word in word_counts}\n",
        "\n",
        "    return vocab_counts"
      ]
    },
    {
      "cell_type": "code",
      "metadata": {},
      "outputs": [],
      "execution_count": 0,
      "source": [
        "# Compute recipe outputs\n",
        "statistics_list \u003d []\n",
        "for doc_id, text in zip(doc_ids, corpus):\n",
        "    vocab_counts \u003d compute_statistics(text, vocabulary)\n",
        "    for entry, count in vocab_counts.items():\n",
        "        statistics_list.append({\u0027doc_id\u0027: doc_id, \u0027entry\u0027: entry, \u0027count\u0027: count})\n",
        "\n",
        "corpus_statistics_from_voc_dale_crane_df \u003d pd.DataFrame(statistics_list)"
      ]
    },
    {
      "cell_type": "code",
      "metadata": {},
      "outputs": [],
      "execution_count": 0,
      "source": [
        "# Write recipe outputs\n",
        "corpus_statistics_from_voc_dale_crane \u003d dataiku.Dataset(\"corpus_statistics_from_voc_dale_crane\")\n",
        "corpus_statistics_from_voc_dale_crane.write_with_schema(corpus_statistics_from_voc_dale_crane_df)"
      ]
    }
  ]
}