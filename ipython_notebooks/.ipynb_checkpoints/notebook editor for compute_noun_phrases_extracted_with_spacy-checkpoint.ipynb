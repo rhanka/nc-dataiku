{
  "nbformat": 4,
  "nbformat_minor": 0,
  "metadata": {
    "kernelspec": {
      "display_name": "Python in SCW-FA (env markitdown)",
      "language": "python",
      "name": "py-dku-containerized-venv-markitdown-scw-fa"
    },
    "associatedRecipe": "compute_noun_phrases_extracted_with_spacy",
    "creator": "ludovic.bocken@cgi.com",
    "createdOn": 1738857882205,
    "tags": [
      "recipe-editor"
    ],
    "customFields": {}
  },
  "cells": [
    {
      "cell_type": "code",
      "metadata": {},
      "outputs": [],
      "execution_count": 0,
      "source": [
        "# -*- coding: utf-8 -*-\n",
        "import dataiku\n",
        "import pandas as pd, numpy as np\n",
        "from dataiku import pandasutils as pdu\n",
        "\n",
        "# Read recipe inputs\n",
        "corpus_for_knowledge_engineering \u003d dataiku.Dataset(\"corpus_for_knowledge_engineering\")\n",
        "corpus_for_knowledge_engineering_df \u003d corpus_for_knowledge_engineering.get_dataframe()\n",
        "\n",
        "\n",
        "# Compute recipe outputs from inputs\n",
        "# TODO: Replace this part by your actual code that computes the output, as a Pandas dataframe\n",
        "# NB: DSS also supports other kinds of APIs for reading and writing data. Please see doc.\n",
        "\n",
        "noun_phrases_extracted_with_spacy_df \u003d corpus_for_knowledge_engineering_df # For this sample code, simply copy input to output\n",
        "\n",
        "\n",
        "# Write recipe outputs\n",
        "noun_phrases_extracted_with_spacy \u003d dataiku.Dataset(\"noun_phrases_extracted_with_spacy\")\n",
        "noun_phrases_extracted_with_spacy.write_with_schema(noun_phrases_extracted_with_spacy_df)"
      ]
    }
  ]
}