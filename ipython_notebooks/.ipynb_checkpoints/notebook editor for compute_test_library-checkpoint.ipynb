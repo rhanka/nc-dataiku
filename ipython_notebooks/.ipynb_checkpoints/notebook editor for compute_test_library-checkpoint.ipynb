{
  "nbformat": 4,
  "nbformat_minor": 0,
  "metadata": {
    "kernelspec": {
      "display_name": "Python in SCW-FA (env markitdown)",
      "language": "python",
      "name": "py-dku-containerized-venv-markitdown-scw-fa"
    },
    "associatedRecipe": "compute_test_library",
    "creator": "ludovic.bocken@cgi.com",
    "createdOn": 1738853315659,
    "tags": [
      "recipe-editor"
    ],
    "customFields": {}
  },
  "cells": [
    {
      "cell_type": "code",
      "metadata": {},
      "outputs": [],
      "execution_count": 0,
      "source": [
        "# -*- coding: utf-8 -*-\n",
        "import dataiku\n",
        "import pandas as pd, numpy as np\n",
        "from dataiku import pandasutils as pdu\n",
        "\n",
        "\n",
        "\n",
        "# Compute recipe outputs\n",
        "# TODO: Write here your actual code that computes the outputs\n",
        "# NB: DSS supports several kinds of APIs for reading and writing data. Please see doc.\n",
        "\n",
        "test_library_df \u003d ... # Compute a Pandas dataframe to write into test_library\n",
        "\n",
        "\n",
        "# Write recipe outputs\n",
        "test_library \u003d dataiku.Dataset(\"test_library\")\n",
        "test_library.write_with_schema(test_library_df)"
      ]
    }
  ]
}