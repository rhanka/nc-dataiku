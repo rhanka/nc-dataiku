{
  "nbformat": 4,
  "nbformat_minor": 0,
  "metadata": {
    "kernelspec": {
      "display_name": "Python 3",
      "language": "python",
      "name": "python3"
    },
    "associatedRecipe": "compute_english_wiktionary_titles",
    "creator": "ludovic.bocken@cgi.com",
    "createdOn": 1738262802642,
    "tags": [
      "recipe-editor"
    ],
    "customFields": {}
  },
  "cells": [
    {
      "cell_type": "code",
      "metadata": {},
      "outputs": [],
      "execution_count": 0,
      "source": [
        "# -*- coding: utf-8 -*-\n",
        "import dataiku\n",
        "import pandas as pd, numpy as np\n",
        "from dataiku import pandasutils as pdu\n",
        "\n",
        "\n",
        "\n",
        "# Compute recipe outputs\n",
        "# TODO: Write here your actual code that computes the outputs\n",
        "# NB: DSS supports several kinds of APIs for reading and writing data. Please see doc.\n",
        "\n",
        "english_wiktionary_titles_df \u003d ... # Compute a Pandas dataframe to write into english_wiktionary_titles\n",
        "\n",
        "\n",
        "# Write recipe outputs\n",
        "english_wiktionary_titles \u003d dataiku.Dataset(\"english_wiktionary_titles\")\n",
        "english_wiktionary_titles.write_with_schema(english_wiktionary_titles_df)"
      ]
    }
  ]
}