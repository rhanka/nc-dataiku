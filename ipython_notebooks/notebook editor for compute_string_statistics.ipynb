{
  "metadata": {
    "kernelspec": {
      "name": "python3",
      "display_name": "Python 3 (ipykernel)",
      "language": "python"
    },
    "hide_input": false,
    "language_info": {
      "name": "python",
      "version": "3.9.21",
      "mimetype": "text/x-python",
      "codemirror_mode": {
        "name": "ipython",
        "version": 3
      },
      "pygments_lexer": "ipython3",
      "nbconvert_exporter": "python",
      "file_extension": ".py"
    },
    "customFields": {},
    "associatedRecipe": "compute_string_statistics",
    "tags": [
      "recipe-editor"
    ],
    "createdOn": 1738257501107,
    "creator": "ludovic.bocken@cgi.com",
    "modifiedBy": "ludovic.bocken@cgi.com"
  },
  "nbformat": 4,
  "nbformat_minor": 1,
  "cells": [
    {
      "execution_count": 0,
      "cell_type": "code",
      "metadata": {},
      "source": [
        "# -*- coding: utf-8 -*-\nimport dataiku\nimport pandas as pd, numpy as np\nfrom dataiku import pandasutils as pdu\n\n# Read recipe inputs\nA220_tech_docs_text \u003d dataiku.Folder(\"rhnW9xGx\")\nA220_tech_docs_text_info \u003d A220_tech_docs_text.get_info()"
      ],
      "outputs": []
    },
    {
      "execution_count": 0,
      "cell_type": "code",
      "metadata": {},
      "source": [
        "A220_tech_docs_text"
      ],
      "outputs": []
    },
    {
      "execution_count": 0,
      "cell_type": "code",
      "metadata": {},
      "source": [
        "A220_tech_docs_text_info"
      ],
      "outputs": []
    },
    {
      "execution_count": 0,
      "cell_type": "code",
      "metadata": {},
      "source": [
        "# Compute recipe outputs\n# TODO: Write here your actual code that computes the outputs\n# NB: DSS supports several kinds of APIs for reading and writing data. Please see doc.\n\nstring_statistics_df \u003d ... # Compute a Pandas dataframe to write into string_statistics\n\n\n# Write recipe outputs\nstring_statistics \u003d dataiku.Dataset(\"string_statistics\")\nstring_statistics.write_with_schema(string_statistics_df)"
      ],
      "outputs": []
    }
  ]
}