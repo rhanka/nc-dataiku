{
  "metadata": {
    "kernelspec": {
      "name": "python3",
      "display_name": "Python 3 (ipykernel)",
      "language": "python"
    },
    "hide_input": false,
    "language_info": {
      "name": "python",
      "version": "3.9.21",
      "mimetype": "text/x-python",
      "codemirror_mode": {
        "name": "ipython",
        "version": 3
      },
      "pygments_lexer": "ipython3",
      "nbconvert_exporter": "python",
      "file_extension": ".py"
    },
    "dkuGit": {
      "lastInteraction": 0
    },
    "associatedRecipe": "compute_document_statistics",
    "creator": "ludovic.bocken@cgi.com",
    "creationTag": {
      "versionNumber": 0,
      "lastModifiedBy": {
        "login": "ludovic.bocken@cgi.com"
      },
      "lastModifiedOn": 1738262123813
    },
    "createdOn": 1738262123813,
    "customFields": {},
    "tags": [
      "recipe-editor"
    ],
    "modifiedBy": "ludovic.bocken@cgi.com"
  },
  "nbformat": 4,
  "nbformat_minor": 1,
  "cells": [
    {
      "execution_count": 0,
      "cell_type": "code",
      "metadata": {},
      "source": [
        "# -*- coding: utf-8 -*-\nimport dataiku\nimport pandas as pd\nimport numpy as np\nimport re\nimport textstat\nfrom dataiku import pandasutils as pdu\n\n# Read recipe inputs\nA220_tech_docs_text \u003d dataiku.Folder(\"rhnW9xGx\")\nA220_tech_docs_text_info \u003d A220_tech_docs_text.get_info()"
      ],
      "outputs": []
    },
    {
      "execution_count": 0,
      "cell_type": "code",
      "metadata": {},
      "source": [
        "# Function to compute text statistics\ndef compute_text_stats(text):\n    num_chars \u003d len(text)\n    num_words \u003d len(text.split())\n    num_sentences \u003d textstat.sentence_count(text)\n    \n    num_uppercase \u003d sum(1 for c in text if c.isupper())\n    num_lowercase \u003d sum(1 for c in text if c.islower())\n    num_digits \u003d sum(1 for c in text if c.isdigit())\n    num_punctuation \u003d sum(1 for c in text if c in \u0027.,;:!?\u0027)\n    \n    avg_word_length \u003d np.mean([len(word) for word in text.split()]) if num_words \u003e 0 else 0\n    lexical_diversity \u003d len(set(text.split())) / num_words if num_words \u003e 0 else 0\n    readability \u003d textstat.flesch_kincaid_grade(text)\n\n    return pd.Series({\n        \"num_chars\": num_chars,\n        \"num_words\": num_words,\n        \"num_sentences\": num_sentences,\n        \n        \"num_uppercase\": num_uppercase,\n        \"num_lowercase\": num_lowercase,\n        \"num_digits\": num_digits,\n        \"num_punctuation\": num_punctuation,\n        \n        \"avg_word_length\": avg_word_length,\n        \"lexical_diversity\": lexical_diversity,\n        \"readability\": readability\n    })\n\n# Load text data from the folder\nfile_paths \u003d A220_tech_docs_text.list_paths_in_partition()\ndata \u003d []\nfor file_path in file_paths:\n    with A220_tech_docs_text.get_download_stream(file_path) as f:\n        text \u003d f.read().decode(\u0027utf-8\u0027)\n        stats \u003d compute_text_stats(text)\n        stats[\"file_path\"] \u003d file_path\n        data.append(stats)\n\n# Convert to DataFrame\ndf_stats \u003d pd.DataFrame(data)"
      ],
      "outputs": []
    },
    {
      "execution_count": 0,
      "cell_type": "code",
      "metadata": {},
      "source": [
        "# Write recipe outputs\ndocument_statistics \u003d dataiku.Dataset(\"document_statistics\")\ndocument_statistics.write_with_schema(df_stats)"
      ],
      "outputs": []
    },
    {
      "execution_count": 0,
      "cell_type": "code",
      "metadata": {},
      "source": [
        ""
      ],
      "outputs": []
    }
  ]
}