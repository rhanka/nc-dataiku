{
  "metadata": {
    "kernelspec": {
      "name": "py-dku-venv-markitdown",
      "display_name": "Python (env markitdown)",
      "language": "python"
    },
    "hide_input": false,
    "language_info": {
      "name": "python",
      "version": "3.11.11",
      "mimetype": "text/x-python",
      "codemirror_mode": {
        "name": "ipython",
        "version": 3
      },
      "pygments_lexer": "ipython3",
      "nbconvert_exporter": "python",
      "file_extension": ".py"
    },
    "modifiedBy": "fabien.antoine@cgi.com",
    "associatedRecipe": "compute_AXB1Cyno",
    "tags": [
      "recipe-editor"
    ],
    "creator": "fabien.antoine@cgi.com",
    "createdOn": 1735159724979,
    "creationTag": {
      "versionNumber": 0,
      "lastModifiedBy": {
        "login": "fabien.antoine@cgi.com"
      },
      "lastModifiedOn": 1735159724979
    },
    "customFields": {},
    "dkuGit": {
      "lastInteraction": 0
    }
  },
  "nbformat": 4,
  "nbformat_minor": 1,
  "cells": [
    {
      "execution_count": 0,
      "cell_type": "code",
      "metadata": {},
      "source": [
        "# -*- coding: utf-8 -*-\nimport dataiku\nimport os\nfrom markitdown import MarkItDown\nimport tempfile\n\nmd \u003d MarkItDown()\n\n# Folders\nA220_tech_docs \u003d dataiku.Folder(\"SoQWOnhR\")          # Input folder\nA220_tech_docs_prep \u003d dataiku.Folder(\"AXB1Cyno\")    # Output folder\n\n# Lister les fichiers PDF\npdf_files \u003d [f for f in A220_tech_docs.list_paths_in_partition() if f.lower().endswith(\".pdf\") and \"hydro\" in f.lower()]\n\nfor pdf_file in pdf_files:\n    # Lire le contenu PDF\n    with A220_tech_docs.get_download_stream(pdf_file) as f:\n        pdf_data \u003d f.read()\n\n    # Utiliser un fichier temporaire pour la conversion\n    with tempfile.NamedTemporaryFile(delete\u003dTrue, suffix\u003d\".pdf\") as temp_pdf:\n        temp_pdf.write(pdf_data)\n        temp_pdf.flush()  # Assurez-vous que le contenu est écrit sur le disque\n\n        # Convertir en Markdown\n        md_content \u003d md.convert(temp_pdf.name)\n        \n        print(md_content.text_content)\n\n        # Afficher le nombre de lignes dans le contenu Markdown\n        num_lines \u003d len(md_content.text_content.splitlines())\n        print(f\"Nombre de lignes : {num_lines}\")\n\n        # Écrire le fichier .md\n        md_file_name \u003d os.path.splitext(pdf_file)[0] + \".md\"\n        with A220_tech_docs_prep.get_writer(md_file_name) as writer:\n            writer.write(md_content.text_content.encode(\u0027utf-8\u0027))"
      ],
      "outputs": []
    },
    {
      "execution_count": 0,
      "cell_type": "code",
      "metadata": {},
      "source": [
        ""
      ],
      "outputs": []
    }
  ]
}