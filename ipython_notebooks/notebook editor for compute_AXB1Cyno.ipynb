{
  "nbformat": 4,
  "nbformat_minor": 0,
  "metadata": {
    "kernelspec": {
      "display_name": "Python (env markitdown)",
      "language": "python",
      "name": "py-dku-venv-markitdown"
    },
    "associatedRecipe": "compute_AXB1Cyno",
    "creator": "fabien.antoine@cgi.com",
    "createdOn": 1735159724979,
    "tags": [
      "recipe-editor"
    ],
    "customFields": {}
  },
  "cells": [
    {
      "cell_type": "code",
      "metadata": {},
      "outputs": [],
      "execution_count": 0,
      "source": [
        "# -*- coding: utf-8 -*-\n",
        "import dataiku\n",
        "#import pandas as pd, numpy as np\n",
        "#from dataiku import pandasutils as pdu\n",
        "from markitdown import markitdown\n",
        "\n",
        "\n",
        "\n",
        "# Read recipe inputs\n",
        "A220_tech_docs \u003d dataiku.Folder(\"SoQWOnhR\")\n",
        "A220_tech_docs_info \u003d A220_tech_docs.get_info()\n",
        "\n",
        "\n",
        "\n",
        "\n",
        "# Write recipe outputs\n",
        "A220_tech_docs_prep \u003d dataiku.Folder(\"AXB1Cyno\")\n",
        "A220_tech_docs_prep_info \u003d A220_tech_docs_prep.get_info()"
      ]
    }
  ]
}