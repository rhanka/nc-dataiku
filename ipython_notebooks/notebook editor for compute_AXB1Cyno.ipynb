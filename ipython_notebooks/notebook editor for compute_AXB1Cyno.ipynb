{
  "nbformat": 4,
  "nbformat_minor": 0,
  "metadata": {
    "kernelspec": {
      "display_name": "Python (env markitdown)",
      "language": "python",
      "name": "py-dku-venv-markitdown"
    },
    "associatedRecipe": "compute_AXB1Cyno",
    "dkuGit": {
      "lastInteraction": 0
    },
    "creationTag": {
      "versionNumber": 0,
      "lastModifiedBy": {
        "login": "fabien.antoine@cgi.com"
      },
      "lastModifiedOn": 1735159724979
    },
    "creator": "fabien.antoine@cgi.com",
    "createdOn": 1735159724979,
    "tags": [
      "recipe-editor"
    ],
    "customFields": {}
  },
  "cells": [
    {
      "cell_type": "code",
      "metadata": {},
      "outputs": [],
      "execution_count": 0,
      "source": [
        "# -*- coding: utf-8 -*-\n",
        "import dataiku\n",
        "import os\n",
        "import markitdown\n",
        "\n",
        "# Folders\n",
        "A220_tech_docs \u003d dataiku.Folder(\"SoQWOnhR\")          # Input folder\n",
        "A220_tech_docs_prep \u003d dataiku.Folder(\"AXB1Cyno\")    # Output folder\n",
        "\n",
        "# Lister les fichiers PDF\n",
        "pdf_files \u003d [f for f in A220_tech_docs.list_paths_in_partition() if f.lower().endswith(\".pdf\")]\n",
        "\n",
        "for pdf_file in pdf_files:\n",
        "    # Lire le contenu PDF\n",
        "    with A220_tech_docs.get_download_stream(pdf_file) as f:\n",
        "        pdf_data \u003d f.read()\n",
        "\n",
        "    # Convertir en Markdown\n",
        "    md_content \u003d markitdown.convert(pdf_data)\n",
        "\n",
        "    # Écrire le fichier .md\n",
        "    md_file_name \u003d os.path.splitext(pdf_file)[0] + \".md\"\n",
        "    with A220_tech_docs_prep.get_writer(md_file_name) as writer:\n",
        "        writer.write(md_content)"
      ]
    },
    {
      "cell_type": "code",
      "metadata": {},
      "outputs": [],
      "execution_count": 0,
      "source": [
        "import importlib.metadata\n",
        "\n",
        "for dist in importlib.metadata.distributions():\n",
        "    if dist.metadata[\u0027Name\u0027] \u003d\u003d \"markitdown\":\n",
        "        print(f\"{dist.metadata[\u0027Name\u0027]}\u003d\u003d{dist.version}\")"
      ]
    },
    {
      "cell_type": "code",
      "metadata": {},
      "outputs": [],
      "execution_count": 0,
      "source": [
        "print(dir(markitdown))"
      ]
    },
    {
      "cell_type": "code",
      "metadata": {},
      "outputs": [],
      "execution_count": 0,
      "source": [
        "import markitdown\n",
        "print(dir(markitdown))"
      ]
    }
  ]
}