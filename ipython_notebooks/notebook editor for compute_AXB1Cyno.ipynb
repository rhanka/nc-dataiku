{
  "metadata": {
    "kernelspec": {
      "name": "py-dku-venv-markitdown",
      "display_name": "Python (env markitdown)",
      "language": "python"
    },
    "hide_input": false,
    "language_info": {
      "name": "python",
      "version": "3.11.11",
      "mimetype": "text/x-python",
      "codemirror_mode": {
        "name": "ipython",
        "version": 3
      },
      "pygments_lexer": "ipython3",
      "nbconvert_exporter": "python",
      "file_extension": ".py"
    },
    "tags": [
      "recipe-editor"
    ],
    "creationTag": {
      "versionNumber": 0,
      "lastModifiedBy": {
        "login": "fabien.antoine@cgi.com"
      },
      "lastModifiedOn": 1735159724979
    },
    "associatedRecipe": "compute_AXB1Cyno",
    "dkuGit": {
      "lastInteraction": 0
    },
    "customFields": {},
    "createdOn": 1735159724979,
    "creator": "fabien.antoine@cgi.com",
    "modifiedBy": "fabien.antoine@cgi.com"
  },
  "nbformat": 4,
  "nbformat_minor": 1,
  "cells": [
    {
      "execution_count": 0,
      "cell_type": "code",
      "metadata": {},
      "source": [
        "# -*- coding: utf-8 -*-\nimport dataiku\nimport os\nfrom markitdown import MarkItDown\n\n# Folders\nA220_tech_docs \u003d dataiku.Folder(\"SoQWOnhR\")          # Input folder\nA220_tech_docs_prep \u003d dataiku.Folder(\"AXB1Cyno\")    # Output folder\n\n# Lister les fichiers PDF\npdf_files \u003d [f for f in A220_tech_docs.list_paths_in_partition() if f.lower().endswith(\".pdf\")]\n\nfor pdf_file in pdf_files:\n    # Lire le contenu PDF\n    with A220_tech_docs.get_download_stream(pdf_file) as f:\n        pdf_data \u003d f.read()\n\n    # Convertir en Markdown\n    md_content \u003d MarkItDown.convert(pdf_data)\n\n    # Écrire le fichier .md\n    md_file_name \u003d os.path.splitext(pdf_file)[0] + \".md\"\n    with A220_tech_docs_prep.get_writer(md_file_name) as writer:\n        writer.write(md_content)"
      ],
      "outputs": []
    },
    {
      "execution_count": 0,
      "cell_type": "code",
      "metadata": {},
      "source": [
        "import importlib.metadata\n\nfor dist in importlib.metadata.distributions():\n    if dist.metadata[\u0027Name\u0027] \u003d\u003d \"markitdown\":\n        print(f\"{dist.metadata[\u0027Name\u0027]}\u003d\u003d{dist.version}\")"
      ],
      "outputs": []
    },
    {
      "execution_count": 0,
      "cell_type": "code",
      "metadata": {},
      "source": [
        "print(dir(markitdown))"
      ],
      "outputs": []
    },
    {
      "execution_count": 0,
      "cell_type": "code",
      "metadata": {},
      "source": [
        "import markitdown\nprint(dir(markitdown))"
      ],
      "outputs": []
    }
  ]
}