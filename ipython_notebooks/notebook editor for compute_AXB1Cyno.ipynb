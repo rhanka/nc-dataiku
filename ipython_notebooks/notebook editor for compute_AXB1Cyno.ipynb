{
  "metadata": {
    "kernelspec": {
      "name": "py-dku-venv-markitdown",
      "display_name": "Python (env markitdown)",
      "language": "python"
    },
    "hide_input": false,
    "language_info": {
      "name": "python",
      "version": "3.9.21",
      "mimetype": "text/x-python",
      "codemirror_mode": {
        "name": "ipython",
        "version": 3
      },
      "pygments_lexer": "ipython3",
      "nbconvert_exporter": "python",
      "file_extension": ".py"
    },
    "associatedRecipe": "compute_AXB1Cyno",
    "creator": "fabien.antoine@cgi.com",
    "createdOn": 1735159724979,
    "tags": [
      "recipe-editor"
    ],
    "customFields": {},
    "modifiedBy": "fabien.antoine@cgi.com"
  },
  "nbformat": 4,
  "nbformat_minor": 1,
  "cells": [
    {
      "execution_count": 0,
      "cell_type": "code",
      "metadata": {},
      "source": [
        "# -*- coding: utf-8 -*-\nimport dataiku\nimport os\nfrom markitdown import MarkItDown\n\nmd \u003d MarkItDown()\n\n# Folders\nA220_tech_docs \u003d dataiku.Folder(\"SoQWOnhR\")          # Input folder\nA220_tech_docs_prep \u003d dataiku.Folder(\"AXB1Cyno\")    # Output folder\n\n# Lister les fichiers PDF\npdf_files \u003d [f for f in A220_tech_docs.list_paths_in_partition() if f.lower().endswith(\".pdf\")]\n\nfor pdf_file in pdf_files:\n    # Lire le contenu PDF\n    with A220_tech_docs.get_download_stream(pdf_file) as f:\n        pdf_data \u003d f.read()\n\n    # Convertir en Markdown\n    md_content \u003d md.convert(pdf_data)\n\n    # Écrire le fichier .md\n    md_file_name \u003d os.path.splitext(pdf_file)[0] + \".md\"\n    with A220_tech_docs_prep.get_writer(md_file_name) as writer:\n        writer.write(md_content)"
      ],
      "outputs": []
    },
    {
      "execution_count": 0,
      "cell_type": "code",
      "metadata": {},
      "source": [
        ""
      ],
      "outputs": []
    }
  ]
}