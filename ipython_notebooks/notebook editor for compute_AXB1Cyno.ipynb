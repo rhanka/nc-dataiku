{
  "nbformat": 4,
  "nbformat_minor": 0,
  "metadata": {
    "kernelspec": {
      "display_name": "Python (env markitdown)",
      "language": "python",
      "name": "py-dku-venv-markitdown"
    },
    "associatedRecipe": "compute_AXB1Cyno",
    "dkuGit": {
      "lastInteraction": 0
    },
    "creationTag": {
      "versionNumber": 0,
      "lastModifiedBy": {
        "login": "fabien.antoine@cgi.com"
      },
      "lastModifiedOn": 1735159724979
    },
    "creator": "fabien.antoine@cgi.com",
    "createdOn": 1735159724979,
    "tags": [
      "recipe-editor"
    ],
    "customFields": {}
  },
  "cells": [
    {
      "cell_type": "code",
      "metadata": {},
      "outputs": [],
      "execution_count": 0,
      "source": [
        "# -*- coding: utf-8 -*-\n",
        "import dataiku\n",
        "import os\n",
        "from markitdown import MarkItDown\n",
        "import tempfile\n",
        "\n",
        "md \u003d MarkItDown()\n",
        "\n",
        "# Folders\n",
        "A220_tech_docs \u003d dataiku.Folder(\"SoQWOnhR\")          # Input folder\n",
        "A220_tech_docs_prep \u003d dataiku.Folder(\"AXB1Cyno\")    # Output folder\n",
        "\n",
        "# Lister les fichiers PDF\n",
        "pdf_files \u003d [f for f in A220_tech_docs.list_paths_in_partition() if f.lower().endswith(\".pdf\")]\n",
        "\n",
        "for pdf_file in pdf_files:\n",
        "    # Lire le contenu PDF\n",
        "    with A220_tech_docs.get_download_stream(pdf_file) as f:\n",
        "        pdf_data \u003d f.read()\n",
        "\n",
        "    # Utiliser un fichier temporaire pour la conversion\n",
        "    with tempfile.NamedTemporaryFile(delete\u003dTrue, suffix\u003d\".pdf\") as temp_pdf:\n",
        "        temp_pdf.write(pdf_data)\n",
        "        temp_pdf.flush()  # Assurez-vous que le contenu est écrit sur le disque\n",
        "\n",
        "        # Convertir en Markdown\n",
        "        md_content \u003d md.convert(temp_pdf.name)\n",
        "\n",
        "        # Afficher le nombre de lignes dans le contenu Markdown\n",
        "        num_lines \u003d len(md_content.text_content.splitlines())\n",
        "        print(f\"Nombre de lignes : {num_lines}\")\n",
        "\n",
        "        # Écrire le fichier .md\n",
        "        md_file_name \u003d os.path.splitext(pdf_file)[0] + \".md\"\n",
        "        with A220_tech_docs_prep.get_writer(md_file_name) as writer:\n",
        "            writer.write(md_content.text_content.encode(\u0027utf-8\u0027))"
      ]
    }
  ]
}