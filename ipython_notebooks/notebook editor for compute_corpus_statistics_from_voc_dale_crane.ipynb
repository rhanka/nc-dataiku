{
  "metadata": {
    "kernelspec": {
      "name": "py-dku-containerized-venv-markitdown-scw-fa",
      "display_name": "Python in SCW-FA (env markitdown)",
      "language": "python"
    },
    "hide_input": false,
    "language_info": {
      "name": "python",
      "version": "3.11.10",
      "mimetype": "text/x-python",
      "codemirror_mode": {
        "name": "ipython",
        "version": 3
      },
      "pygments_lexer": "ipython3",
      "nbconvert_exporter": "python",
      "file_extension": ".py"
    },
    "createdOn": 1738781476828,
    "creator": "ludovic.bocken@cgi.com",
    "customFields": {},
    "tags": [
      "recipe-editor"
    ],
    "associatedRecipe": "compute_corpus_statistics_from_voc_dale_crane",
    "modifiedBy": "ludovic.bocken@cgi.com"
  },
  "nbformat": 4,
  "nbformat_minor": 1,
  "cells": [
    {
      "execution_count": 0,
      "cell_type": "code",
      "metadata": {},
      "source": [
        "# -*- coding: utf-8 -*-\nimport dataiku\nimport pandas as pd, numpy as np\nfrom dataiku import pandasutils as pdu\nfrom collections import Counter"
      ],
      "outputs": []
    },
    {
      "execution_count": 0,
      "cell_type": "code",
      "metadata": {},
      "source": [
        "# Read recipe inputs\ncorpus_for_knowledge_engineering \u003d dataiku.Dataset(\"corpus_for_knowledge_engineering\")\ncorpus_for_knowledge_engineering_df \u003d corpus_for_knowledge_engineering.get_dataframe()\n\ndale_crane_dic \u003d dataiku.Dataset(\"dale_crane_dic\")\ndale_crane_dic_df \u003d dale_crane_dic.get_dataframe()"
      ],
      "outputs": []
    },
    {
      "execution_count": 0,
      "cell_type": "code",
      "metadata": {},
      "source": [
        "corpus \u003d corpus_for_knowledge_engineering_df[\"text\"]"
      ],
      "outputs": []
    },
    {
      "execution_count": 0,
      "cell_type": "code",
      "metadata": {},
      "source": [
        "vocabulary \u003d dale_crane_dic_df[\"entry\"]"
      ],
      "outputs": []
    },
    {
      "execution_count": 0,
      "cell_type": "code",
      "metadata": {},
      "source": [
        "def compute_statistics(corpus, vocabulary):\n    # Tokenize the corpus into words\n    words \u003d corpus.split()\n\n    # Count the occurrences of each word in the corpus\n    word_counts \u003d Counter(words)\n\n    # Filter the counts to include only the words in the vocabulary\n    vocab_counts \u003d {word: word_counts[word] for word in vocabulary if word in word_counts}\n\n    # Compute statistics\n    total_words \u003d len(words)\n    vocab_word_count \u003d sum(vocab_counts.values())\n    vocab_word_percentage \u003d (vocab_word_count / total_words) * 100 if total_words \u003e 0 else 0\n\n    return {\n        \u0027total_words\u0027: total_words,\n        \u0027vocab_word_count\u0027: vocab_word_count,\n        \u0027vocab_word_percentage\u0027: vocab_word_percentage,\n        \u0027vocab_counts\u0027: vocab_counts\n    }"
      ],
      "outputs": []
    },
    {
      "execution_count": 0,
      "cell_type": "code",
      "metadata": {},
      "source": [
        "# Compute recipe outputs\n# TODO: Write here your actual code that computes the outputs\n# NB: DSS supports several kinds of APIs for reading and writing data. Please see doc.\n\ncorpus_statistics_from_voc_dale_crane_df \u003d compute_statistics(corpus, vocabulary)"
      ],
      "outputs": []
    },
    {
      "execution_count": 0,
      "cell_type": "code",
      "metadata": {},
      "source": [
        "# Write recipe outputs\ncorpus_statistics_from_voc_dale_crane \u003d dataiku.Dataset(\"corpus_statistics_from_voc_dale_crane\")\ncorpus_statistics_from_voc_dale_crane.write_with_schema(corpus_statistics_from_voc_dale_crane_df)"
      ],
      "outputs": []
    }
  ]
}