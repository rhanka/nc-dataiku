{
  "nbformat": 4,
  "nbformat_minor": 0,
  "metadata": {
    "kernelspec": {
      "display_name": "Python in SCW-FA (env markitdown)",
      "language": "python",
      "name": "py-dku-containerized-venv-markitdown-scw-fa"
    },
    "associatedRecipe": "compute_corpus_statistics_from_voc_dale_crane",
    "creator": "ludovic.bocken@cgi.com",
    "createdOn": 1738781476828,
    "tags": [
      "recipe-editor"
    ],
    "customFields": {}
  },
  "cells": [
    {
      "cell_type": "code",
      "metadata": {},
      "outputs": [],
      "execution_count": 0,
      "source": [
        "# -*- coding: utf-8 -*-\n",
        "import dataiku\n",
        "import pandas as pd, numpy as np\n",
        "from dataiku import pandasutils as pdu\n",
        "from collections import Counter\n",
        "\n",
        "\n",
        "# Read recipe inputs\n",
        "corpus_for_knowledge_engineering \u003d dataiku.Dataset(\"corpus_for_knowledge_engineering\")\n",
        "corpus_for_knowledge_engineering_df \u003d corpus_for_knowledge_engineering.get_dataframe()\n",
        "dale_crane_dic \u003d dataiku.Dataset(\"dale_crane_dic\")\n",
        "dale_crane_dic_df \u003d dale_crane_dic.get_dataframe()\n",
        "\n",
        "vocabulary \u003d dale_crane_dic_df[\"entry\"]\n",
        "\n",
        "def compute_statistics(corpus, vocabulary):\n",
        "    # Tokenize the corpus into words\n",
        "    words \u003d corpus.split()\n",
        "\n",
        "    # Count the occurrences of each word in the corpus\n",
        "    word_counts \u003d Counter(words)\n",
        "\n",
        "    # Filter the counts to include only the words in the vocabulary\n",
        "    vocab_counts \u003d {word: word_counts[word] for word in vocabulary if word in word_counts}\n",
        "\n",
        "    # Compute statistics\n",
        "    total_words \u003d len(words)\n",
        "    vocab_word_count \u003d sum(vocab_counts.values())\n",
        "    vocab_word_percentage \u003d (vocab_word_count / total_words) * 100 if total_words \u003e 0 else 0\n",
        "\n",
        "    return {\n",
        "        \u0027total_words\u0027: total_words,\n",
        "        \u0027vocab_word_count\u0027: vocab_word_count,\n",
        "        \u0027vocab_word_percentage\u0027: vocab_word_percentage,\n",
        "        \u0027vocab_counts\u0027: vocab_counts\n",
        "    }\n",
        "\n",
        "\n",
        "\n",
        "# Compute recipe outputs\n",
        "# TODO: Write here your actual code that computes the outputs\n",
        "# NB: DSS supports several kinds of APIs for reading and writing data. Please see doc.\n",
        "\n",
        "corpus_statistics_from_voc_dale_crane_df \u003d compute_statistics(corpus, vocabulary)\n",
        "\n",
        "\n",
        "# Write recipe outputs\n",
        "corpus_statistics_from_voc_dale_crane \u003d dataiku.Dataset(\"corpus_statistics_from_voc_dale_crane\")\n",
        "corpus_statistics_from_voc_dale_crane.write_with_schema(corpus_statistics_from_voc_dale_crane_df)"
      ]
    }
  ]
}