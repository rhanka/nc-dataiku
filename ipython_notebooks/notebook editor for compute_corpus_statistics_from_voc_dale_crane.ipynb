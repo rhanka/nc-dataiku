{
  "metadata": {
    "kernelspec": {
      "name": "py-dku-containerized-venv-markitdown-scw-fa",
      "display_name": "Python in SCW-FA (env markitdown)",
      "language": "python"
    },
    "hide_input": false,
    "language_info": {
      "name": "python",
      "version": "3.11.10",
      "mimetype": "text/x-python",
      "codemirror_mode": {
        "name": "ipython",
        "version": 3
      },
      "pygments_lexer": "ipython3",
      "nbconvert_exporter": "python",
      "file_extension": ".py"
    },
    "creationTag": {
      "versionNumber": 0,
      "lastModifiedBy": {
        "login": "ludovic.bocken@cgi.com"
      },
      "lastModifiedOn": 1738781476828
    },
    "createdOn": 1738781476828,
    "creator": "ludovic.bocken@cgi.com",
    "customFields": {},
    "tags": [
      "deleted-recipe-editor"
    ],
    "dkuGit": {
      "lastInteraction": 0
    },
    "modifiedBy": "ludovic.bocken@cgi.com"
  },
  "nbformat": 4,
  "nbformat_minor": 1,
  "cells": [
    {
      "execution_count": 0,
      "cell_type": "code",
      "metadata": {},
      "source": [
        "# -*- coding: utf-8 -*-\nimport dataiku\nimport pandas as pd, numpy as np\nfrom dataiku import pandasutils as pdu\nfrom collections import Counter"
      ],
      "outputs": []
    },
    {
      "execution_count": 0,
      "cell_type": "code",
      "metadata": {},
      "source": [
        "# Read recipe inputs\ncorpus_for_knowledge_engineering \u003d dataiku.Dataset(\"corpus_for_knowledge_engineering\")\ncorpus_for_knowledge_engineering_df \u003d corpus_for_knowledge_engineering.get_dataframe()\n\ndale_crane_dic \u003d dataiku.Dataset(\"dale_crane_dic\")\ndale_crane_dic_df \u003d dale_crane_dic.get_dataframe()"
      ],
      "outputs": []
    },
    {
      "execution_count": 0,
      "cell_type": "code",
      "metadata": {},
      "source": [
        "corpus \u003d corpus_for_knowledge_engineering_df[\"text\"]\ndoc_ids \u003d corpus_for_knowledge_engineering_df[\"doc_id\"]"
      ],
      "outputs": []
    },
    {
      "execution_count": 0,
      "cell_type": "code",
      "metadata": {},
      "source": [
        "vocabulary \u003d dale_crane_dic_df[\"entry\"]"
      ],
      "outputs": []
    },
    {
      "execution_count": 0,
      "cell_type": "code",
      "metadata": {},
      "source": [
        "def compute_statistics(corpus, vocabulary):\n    # Tokenize the corpus into words\n    words \u003d corpus.split()\n\n    # Count the occurrences of each word in the corpus\n    word_counts \u003d Counter(words)\n\n    # Filter the counts to include only the words in the vocabulary\n    vocab_counts \u003d {word: word_counts[word] for word in vocabulary if word in word_counts}\n\n    return vocab_counts"
      ],
      "outputs": []
    },
    {
      "execution_count": 0,
      "cell_type": "code",
      "metadata": {},
      "source": [
        "# Compute recipe outputs\nstatistics_list \u003d []\nfor doc_id, text in zip(doc_ids, corpus):\n    vocab_counts \u003d compute_statistics(text, vocabulary)\n    for entry, count in vocab_counts.items():\n        statistics_list.append({\u0027doc_id\u0027: doc_id, \u0027entry\u0027: entry, \u0027count\u0027: count})\n\ncorpus_statistics_from_voc_dale_crane_df \u003d pd.DataFrame(statistics_list)"
      ],
      "outputs": []
    },
    {
      "execution_count": 0,
      "cell_type": "code",
      "metadata": {},
      "source": [
        "# Add rank column based on count\ncorpus_statistics_from_voc_dale_crane_df[\u0027rank\u0027] \u003d corpus_statistics_from_voc_dale_crane_df.groupby(\u0027doc_id\u0027)[\u0027count\u0027].rank(ascending\u003dFalse, method\u003d\u0027dense\u0027)"
      ],
      "outputs": []
    },
    {
      "execution_count": 0,
      "cell_type": "code",
      "metadata": {},
      "source": [
        "# Write recipe outputs\ncorpus_statistics_from_voc_dale_crane \u003d dataiku.Dataset(\"corpus_statistics_from_voc_dale_crane\")\ncorpus_statistics_from_voc_dale_crane.write_with_schema(corpus_statistics_from_voc_dale_crane_df)"
      ],
      "outputs": []
    }
  ]
}